{
 "cells": [
  {
   "cell_type": "code",
   "execution_count": 2538,
   "metadata": {},
   "outputs": [],
   "source": [
    "import numpy as np\n",
    "import pandas as pd\n",
    "import torch\n",
    "from torch.utils.data import DataLoader, TensorDataset, random_split\n",
    "from torch import nn\n",
    "\n",
    "import matplotlib.pyplot as plt\n",
    "import seaborn as sns\n",
    "from sklearn.metrics import confusion_matrix"
   ]
  },
  {
   "cell_type": "code",
   "execution_count": 2539,
   "metadata": {},
   "outputs": [
    {
     "name": "stdout",
     "output_type": "stream",
     "text": [
      "Using mps device\n"
     ]
    }
   ],
   "source": [
    "# Get cpu, gpu or mps device for training.\n",
    "device = (\n",
    "    \"cuda\"\n",
    "    if torch.cuda.is_available()\n",
    "    else \"mps\"\n",
    "    if torch.backends.mps.is_available()\n",
    "    else \"cpu\"\n",
    ")\n",
    "print(f\"Using {device} device\")"
   ]
  },
  {
   "cell_type": "markdown",
   "metadata": {},
   "source": [
    "# Dataset Setup"
   ]
  },
  {
   "cell_type": "code",
   "execution_count": 2540,
   "metadata": {},
   "outputs": [],
   "source": [
    "# load dataset\n",
    "height = 4\n",
    "width = 4\n",
    "depth = 24\n",
    "\n",
    "all_hists = []\n",
    "labels = []\n",
    "binary_labels = []\n",
    "zero_hists = []\n",
    "\n",
    "zone_to_label = {\n",
    "    0: [0, 0, 0],\n",
    "    1: [1, 0, 0],\n",
    "    2: [0, 1, 0],\n",
    "    3: [0, 0, 1],\n",
    "    4: [1, 1, 0],\n",
    "    5: [1, 0, 1],\n",
    "    6: [0, 1, 1],\n",
    "    7: [1, 1, 1],\n",
    "}\n",
    "\n",
    "zone_to_label_binary = {\n",
    "    0: [0],\n",
    "    1: [1],\n",
    "    2: [1],\n",
    "    3: [1],\n",
    "    4: [1],\n",
    "    5: [1],\n",
    "    6: [1],\n",
    "    7: [1],\n",
    "}"
   ]
  },
  {
   "cell_type": "code",
   "execution_count": 2541,
   "metadata": {},
   "outputs": [],
   "source": [
    "for i in range(4):\n",
    "    hists = np.load(f'datasets/display-box-12/histograms_{i}.npy')\n",
    "\n",
    "    hists = hists.reshape(-1, height, width, depth)\n",
    "    # move depth to the front\n",
    "    hists = np.moveaxis(hists, -1, 1)\n",
    "\n",
    "    # look at first 10 bins\n",
    "    # data = np.array(hists[:, :10, :, :])\n",
    "    # data = np.array(hists[:, :, :, :])\n",
    "    data = hists\n",
    "\n",
    "    # Compute the mean and standard deviation for each position (10, 4, 4) across all samples\n",
    "    mean = data.mean(axis=0)  # Shape: (10, 4, 4)\n",
    "    std = data.std(axis=0)    # Shape: (10, 4, 4)\n",
    "\n",
    "    # Compute the threshold for values being within 3 standard deviations\n",
    "    lower_bound = mean - 3 * std\n",
    "    upper_bound = mean + 3 * std\n",
    "\n",
    "    # Only consider the first n values along the 10-axis (shape: n x 4 x 4)\n",
    "    n = 4\n",
    "    data_to_check = data[:, :n, :, :]  # Shape: (4000, n, 4, 4)\n",
    "    lower_bound_check = lower_bound[:n, :, :]  # Shape: (n, 4, 4)\n",
    "    upper_bound_check = upper_bound[:n, :, :]  # Shape: (n, 4, 4)\n",
    "\n",
    "    # Identify samples where all values in the first 3 indices along the 10-axis are within bounds\n",
    "    valid_mask = np.all((data_to_check >= lower_bound_check) & (data_to_check <= upper_bound_check), axis=(1, 2, 3))\n",
    "\n",
    "    # Apply the mask to filter the samples\n",
    "    filtered_data = data[valid_mask]\n",
    "\n",
    "    hists = filtered_data\n",
    "\n",
    "    # sliding window mean smoothing\n",
    "    # Compute the sliding window mean\n",
    "    k = 5\n",
    "    sliding_mean = np.array([\n",
    "        hists[j - k + 1 : j + 1].mean(axis=0)  # Mean of the last k elements\n",
    "        for j in range(k - 1, len(hists))\n",
    "    ])\n",
    "    \n",
    "    hists = sliding_mean\n",
    "\n",
    "    # generate more data by adding gaussian noise with std of the actual data std (changes for bin/pixel)\n",
    "    # std = hists.std(axis=0)\n",
    "    # hists = np.repeat(hists, 5, axis=0)\n",
    "    # hists += np.random.normal(0, std, hists.shape)\n",
    "\n",
    "    if i == 0:\n",
    "        zero_hists.append(hists)        \n",
    "    \n",
    "    all_hists.append(hists)\n",
    "    labels += [zone_to_label[i]] * len(hists)\n",
    "    binary_labels += [zone_to_label_binary[i]] * len(hists)"
   ]
  },
  {
   "cell_type": "code",
   "execution_count": 2542,
   "metadata": {},
   "outputs": [],
   "source": [
    "zero_hists = np.concatenate(zero_hists, axis=0)\n",
    "all_hists = np.concatenate(all_hists, axis=0)\n",
    "labels = np.array(labels)\n",
    "binary_labels = np.array(binary_labels)"
   ]
  },
  {
   "cell_type": "code",
   "execution_count": 2543,
   "metadata": {},
   "outputs": [],
   "source": [
    "start_bin = 4\n",
    "end_bin = 16"
   ]
  },
  {
   "cell_type": "code",
   "execution_count": 2544,
   "metadata": {},
   "outputs": [],
   "source": [
    "# crop first bounce bins (first bounce in first 2 bins)\n",
    "# crop bins that are too far and noisy\n",
    "all_hists = all_hists[:, start_bin:end_bin, :, :]\n",
    "zero_hists = zero_hists[:, start_bin:end_bin, :, :]"
   ]
  },
  {
   "cell_type": "code",
   "execution_count": 2545,
   "metadata": {},
   "outputs": [],
   "source": [
    "all_hists = torch.tensor(all_hists, dtype=torch.float32)\n",
    "zero_hists = torch.tensor(zero_hists, dtype=torch.float32)"
   ]
  },
  {
   "cell_type": "code",
   "execution_count": 2546,
   "metadata": {},
   "outputs": [],
   "source": [
    "# pick 20 random zero hists to act as the zero mean\n",
    "num_samples_to_mean = 20\n",
    "\n",
    "random_zero_mean = torch.empty((all_hists.shape[0], all_hists.shape[1], height, width))\n",
    "\n",
    "for i in range(all_hists.shape[0]):\n",
    "    indices = torch.randint(0, zero_hists.shape[0], (num_samples_to_mean,), generator=torch.Generator().manual_seed(1))\n",
    "    random_zero_mean[i] = zero_hists[indices].mean(dim=0)"
   ]
  },
  {
   "cell_type": "code",
   "execution_count": 2547,
   "metadata": {},
   "outputs": [],
   "source": [
    "all_hists_rel = all_hists - random_zero_mean"
   ]
  },
  {
   "cell_type": "code",
   "execution_count": 2548,
   "metadata": {},
   "outputs": [],
   "source": [
    "zero_mask = np.all(labels == np.array([0, 0, 0]), axis=1)\n",
    "location_mask = ~zero_mask"
   ]
  },
  {
   "cell_type": "code",
   "execution_count": 2549,
   "metadata": {},
   "outputs": [],
   "source": [
    "all_hists_rel_location = all_hists_rel[location_mask]\n",
    "labels_location = labels[location_mask]"
   ]
  },
  {
   "cell_type": "code",
   "execution_count": 2550,
   "metadata": {},
   "outputs": [],
   "source": [
    "# Convert numpy arrays to PyTorch tensors\n",
    "all_hists_tensor = all_hists_rel_location\n",
    "# all_hists_tensor = torch.tensor(all_hists_rel, dtype=torch.float32)\n",
    "labels_tensor = torch.tensor(labels_location, dtype=torch.float32)\n",
    "all_hists_binary_tensor = all_hists_rel\n",
    "binary_labels_tensor = torch.tensor(binary_labels, dtype=torch.float32)\n",
    "\n",
    "# epsilon = 0.1  # Smoothing factor\n",
    "# labels_tensor = (1 - epsilon) * labels_tensor + epsilon * 0.5  # Smooth towards uniform distribution\n",
    "\n",
    "# Create a TensorDataset\n",
    "dataset = TensorDataset(all_hists_tensor, labels_tensor)\n",
    "binary_dataset = TensorDataset(all_hists_binary_tensor, binary_labels_tensor)\n",
    "\n",
    "batch_size = 32\n",
    "\n",
    "# Create DataLoaders for each set\n",
    "test_loader = DataLoader(dataset, batch_size=batch_size, shuffle=False)\n",
    "binary_test_loader = DataLoader(binary_dataset, batch_size=batch_size, shuffle=False)"
   ]
  },
  {
   "cell_type": "markdown",
   "metadata": {},
   "source": [
    "# Location Model Setup"
   ]
  },
  {
   "cell_type": "code",
   "execution_count": 2551,
   "metadata": {},
   "outputs": [],
   "source": [
    "class CounterCNN(nn.Module):\n",
    "    def __init__(self):\n",
    "        super(CounterCNN, self).__init__()\n",
    "        # self.conv1 = nn.Conv2d(in_channels=(end_bin - start_bin), out_channels=16, kernel_size=3, padding=1)\n",
    "        # self.batchnorm1 = nn.BatchNorm2d(16)\n",
    "        # self.conv2 = nn.Conv2d(in_channels=16, out_channels=64, kernel_size=3, padding=1)\n",
    "        # self.batchnorm2 = nn.BatchNorm2d(64)\n",
    "\n",
    "        out_channels = 4\n",
    "        self.conv3d = nn.Conv3d(in_channels=1, out_channels=out_channels, kernel_size=(3, 3, 3), padding=(1, 1, 1))\n",
    "        self.batchnorm3d = nn.BatchNorm3d(out_channels)\n",
    "\n",
    "        self.fc1 = nn.Linear(out_channels * (end_bin - start_bin) * height * width, 128)\n",
    "\n",
    "        # self.pool = nn.MaxPool2d(kernel_size=2, stride=2, padding=0)\n",
    "        # self.fc1 = nn.Linear(64 * 4 * 4, 128)\n",
    "        self.fc1_bn = nn.BatchNorm1d(128)\n",
    "        self.fc2 = nn.Linear(128, 3)  # Assuming 10 classes for the labels\n",
    "        self.relu = nn.LeakyReLU(negative_slope=0.01)\n",
    "        self.dropout = nn.Dropout(p=0.7)\n",
    "\n",
    "    def forward(self, x):\n",
    "        # # print(f'x shape at start: {x.shape}')\n",
    "        # x = self.relu(self.conv1(x))\n",
    "        # # print(f'x shape after conv1: {x.shape}')\n",
    "        # x = self.batchnorm1(x)\n",
    "        # # x = self.pool(x)\n",
    "        # # print(f'x shape after pool1: {x.shape}')\n",
    "        # x = self.relu(self.conv2(x))\n",
    "        # # print(f'x shape after conv2: {x.shape}')\n",
    "        # x = self.batchnorm2(x)\n",
    "\n",
    "        x = self.relu(self.conv3d(x.unsqueeze(1)))\n",
    "        x = self.batchnorm3d(x)\n",
    "\n",
    "        # x = self.pool(x)\n",
    "        # print(f'x shape after pool2: {x.shape}')\n",
    "        x = torch.flatten(x, 1)\n",
    "        # print(f'x shape after flatten: {x.shape}')\n",
    "        x = self.relu(self.fc1(x))\n",
    "        x = self.dropout(x)\n",
    "        x = self.fc1_bn(x)\n",
    "        x = self.fc2(x)\n",
    "        return x"
   ]
  },
  {
   "cell_type": "code",
   "execution_count": 2552,
   "metadata": {},
   "outputs": [],
   "source": [
    "loss_fn = nn.BCEWithLogitsLoss()"
   ]
  },
  {
   "cell_type": "code",
   "execution_count": 2553,
   "metadata": {},
   "outputs": [],
   "source": [
    "def test_counter(dataloader, model, loss_fn):\n",
    "    size = len(dataloader.dataset)\n",
    "    num_batches = len(dataloader)\n",
    "    model.eval()\n",
    "    test_loss, correct = 0, 0\n",
    "    with torch.no_grad():\n",
    "        for X, y in dataloader:\n",
    "            X, y = X.to(device), y.to(device)\n",
    "            pred = model(X)\n",
    "            # y = y.unsqueeze_(1)\n",
    "            # print(X.shape)\n",
    "            # print(y.shape)\n",
    "            test_loss += loss_fn(pred, y).item()\n",
    "            # final_pred = torch.round(torch.clamp(pred, min=0, max=1))\n",
    "            final_pred = torch.round(torch.sigmoid(pred))\n",
    "            \n",
    "            # print(final_pred.shape)\n",
    "            # print(\"true\")\n",
    "            # print(y)\n",
    "            # print(\"pred\")\n",
    "            # print(final_pred)\n",
    "            # print(\"diff\")\n",
    "            # print(final_pred - y)\n",
    "            exact_match = torch.all(final_pred == torch.round(y), dim=1)\n",
    "            correct += torch.sum(exact_match).item()\n",
    "    test_loss /= num_batches\n",
    "    correct /= size\n",
    "    print(f\"Test Error: \\n Accuracy: {(100*correct):>0.1f}%, Avg loss: {test_loss:>8f} \\n\")\n",
    "    return test_loss, correct"
   ]
  },
  {
   "cell_type": "code",
   "execution_count": 2554,
   "metadata": {},
   "outputs": [],
   "source": [
    "model_save_path = 'models/display-box-16-rolling-means-noise-location.mdl'"
   ]
  },
  {
   "cell_type": "code",
   "execution_count": 2555,
   "metadata": {},
   "outputs": [
    {
     "name": "stderr",
     "output_type": "stream",
     "text": [
      "/var/folders/3c/gwjrml9d76v_zwbyb2x6yc0r0000gn/T/ipykernel_65523/2522857457.py:2: FutureWarning: You are using `torch.load` with `weights_only=False` (the current default value), which uses the default pickle module implicitly. It is possible to construct malicious pickle data which will execute arbitrary code during unpickling (See https://github.com/pytorch/pytorch/blob/main/SECURITY.md#untrusted-models for more details). In a future release, the default value for `weights_only` will be flipped to `True`. This limits the functions that could be executed during unpickling. Arbitrary objects will no longer be allowed to be loaded via this mode unless they are explicitly allowlisted by the user via `torch.serialization.add_safe_globals`. We recommend you start setting `weights_only=True` for any use case where you don't have full control of the loaded file. Please open an issue on GitHub for any issues related to this experimental feature.\n",
      "  model.load_state_dict(torch.load(model_save_path))\n"
     ]
    },
    {
     "data": {
      "text/plain": [
       "<All keys matched successfully>"
      ]
     },
     "execution_count": 2555,
     "metadata": {},
     "output_type": "execute_result"
    }
   ],
   "source": [
    "model = CounterCNN().to(device)\n",
    "model.load_state_dict(torch.load(model_save_path))"
   ]
  },
  {
   "cell_type": "markdown",
   "metadata": {},
   "source": [
    "## Testing Location Model"
   ]
  },
  {
   "cell_type": "code",
   "execution_count": 2556,
   "metadata": {},
   "outputs": [
    {
     "name": "stdout",
     "output_type": "stream",
     "text": [
      "Test Error: \n",
      " Accuracy: 60.6%, Avg loss: 0.370272 \n",
      "\n"
     ]
    },
    {
     "data": {
      "text/plain": [
       "(0.3702719581431185, 0.605994944023113)"
      ]
     },
     "execution_count": 2556,
     "metadata": {},
     "output_type": "execute_result"
    }
   ],
   "source": [
    "# Out of sample test\n",
    "model.eval()\n",
    "# test(test_loader, model, loss_fn)\n",
    "test_counter(test_loader, model, loss_fn)"
   ]
  },
  {
   "cell_type": "code",
   "execution_count": 2557,
   "metadata": {},
   "outputs": [
    {
     "name": "stdout",
     "output_type": "stream",
     "text": [
      "[[0. 1. 0.]\n",
      " [0. 1. 0.]\n",
      " [0. 0. 0.]\n",
      " ...\n",
      " [0. 0. 1.]\n",
      " [0. 0. 1.]\n",
      " [0. 0. 1.]]\n"
     ]
    }
   ],
   "source": [
    "# Set the model to evaluation mode\n",
    "model.eval()\n",
    "\n",
    "# Initialize a list to store predictions\n",
    "predictions = []\n",
    "\n",
    "# Disable gradient calculation\n",
    "with torch.no_grad():\n",
    "    for X, _ in test_loader:\n",
    "        X = X.to(device)\n",
    "        output = model(X)\n",
    "        # predicted_classes = output.argmax(dim=1)\n",
    "        # predictions.extend(predicted_classes.cpu().numpy())\n",
    "        # predicted_zones = torch.round(torch.clamp(output, min=0, max=1))\n",
    "        predicted_zones = torch.round(torch.sigmoid(output))\n",
    "        predictions.extend(predicted_zones.cpu().numpy())\n",
    "\n",
    "# Convert predictions to a numpy array\n",
    "y_preds = np.array(predictions)\n",
    "print(y_preds)\n",
    "\n",
    "y_test = np.array([y for _, y in dataset])"
   ]
  },
  {
   "cell_type": "code",
   "execution_count": 2558,
   "metadata": {},
   "outputs": [
    {
     "data": {
      "image/png": "[encoded data removed]",
      "text/plain": [
       "<Figure size 800x600 with 2 Axes>"
      ]
     },
     "metadata": {},
     "output_type": "display_data"
    }
   ],
   "source": [
    "categories = [\"000\", \"001\", \"010\", \"011\", \"100\", \"101\", \"110\", \"111\"]\n",
    "\n",
    "y_test = np.array([y for _, y in dataset]).astype(int)\n",
    "y_preds = np.array([p for p in predictions]).astype(int)\n",
    "\n",
    "y_test = [''.join(map(str, label)) for label in y_test]\n",
    "y_preds = [''.join(map(str, label)) for label in y_preds]\n",
    "\n",
    "\n",
    "# Compute confusion matrix with all possible labels\n",
    "conf_matrix = confusion_matrix(y_test, y_preds, labels=categories)\n",
    "row_sums = conf_matrix.sum(axis=1, keepdims=True)\n",
    "row_sums[row_sums == 0] = 1\n",
    "conf_matrix_normalized = conf_matrix.astype('float') / row_sums\n",
    "conf_matrix_normalized[conf_matrix == 0] = np.nan\n",
    "\n",
    "# Plot the heatmap\n",
    "plt.figure(figsize=(8,6), dpi=100)\n",
    "ax = sns.heatmap(conf_matrix_normalized, annot=True, fmt=\".2f\", mask=np.isnan(conf_matrix_normalized))\n",
    "\n",
    "# Set tick labels\n",
    "ax.set_xticks(np.arange(len(categories)) + 0.5)\n",
    "ax.set_yticks(np.arange(len(categories)) + 0.5)\n",
    "ax.set_xticklabels(categories)\n",
    "ax.set_yticklabels(categories)\n",
    "\n",
    "# Labels and title\n",
    "plt.xlabel(\"Predicted\")\n",
    "plt.ylabel(\"Actual\")\n",
    "plt.title(\"Confusion Matrix\")\n",
    "\n",
    "plt.show()\n"
   ]
  },
  {
   "cell_type": "code",
   "execution_count": null,
   "metadata": {},
   "outputs": [],
   "source": []
  },
  {
   "cell_type": "markdown",
   "metadata": {},
   "source": [
    "# Binary Model Setup"
   ]
  },
  {
   "cell_type": "code",
   "execution_count": 2559,
   "metadata": {},
   "outputs": [],
   "source": [
    "class CounterCNN(nn.Module):\n",
    "    def __init__(self):\n",
    "        super(CounterCNN, self).__init__()\n",
    "        # self.conv1 = nn.Conv2d(in_channels=(end_bin - start_bin), out_channels=16, kernel_size=3, padding=1)\n",
    "        # self.batchnorm1 = nn.BatchNorm2d(16)\n",
    "        # self.conv2 = nn.Conv2d(in_channels=16, out_channels=64, kernel_size=3, padding=1)\n",
    "        # self.batchnorm2 = nn.BatchNorm2d(64)\n",
    "\n",
    "        out_channels = 4\n",
    "        self.conv3d = nn.Conv3d(in_channels=1, out_channels=out_channels, kernel_size=(3, 3, 3), padding=(1, 1, 1))\n",
    "        self.batchnorm3d = nn.BatchNorm3d(out_channels)\n",
    "\n",
    "        self.fc1 = nn.Linear(out_channels * (end_bin - start_bin) * height * width, 128)\n",
    "\n",
    "        # self.pool = nn.MaxPool2d(kernel_size=2, stride=2, padding=0)\n",
    "        # self.fc1 = nn.Linear(64 * 4 * 4, 128)\n",
    "        self.fc1_bn = nn.BatchNorm1d(128)\n",
    "        self.fc2 = nn.Linear(128, 1)  # Assuming 10 classes for the labels\n",
    "        self.relu = nn.LeakyReLU(negative_slope=0.01)\n",
    "        self.dropout = nn.Dropout(p=0.7)\n",
    "\n",
    "    def forward(self, x):\n",
    "        # # print(f'x shape at start: {x.shape}')\n",
    "        # x = self.relu(self.conv1(x))\n",
    "        # # print(f'x shape after conv1: {x.shape}')\n",
    "        # x = self.batchnorm1(x)\n",
    "        # # x = self.pool(x)\n",
    "        # # print(f'x shape after pool1: {x.shape}')\n",
    "        # x = self.relu(self.conv2(x))\n",
    "        # # print(f'x shape after conv2: {x.shape}')\n",
    "        # x = self.batchnorm2(x)\n",
    "\n",
    "        x = self.relu(self.conv3d(x.unsqueeze(1)))\n",
    "        x = self.batchnorm3d(x)\n",
    "\n",
    "        # x = self.pool(x)\n",
    "        # print(f'x shape after pool2: {x.shape}')\n",
    "        x = torch.flatten(x, 1)\n",
    "        # print(f'x shape after flatten: {x.shape}')\n",
    "        x = self.relu(self.fc1(x))\n",
    "        x = self.dropout(x)\n",
    "        x = self.fc1_bn(x)\n",
    "        x = self.fc2(x)\n",
    "        return x"
   ]
  },
  {
   "cell_type": "code",
   "execution_count": 2560,
   "metadata": {},
   "outputs": [],
   "source": [
    "binary_model_save_path = 'models/display-box-18-rolling-means-noise-binary.mdl'"
   ]
  },
  {
   "cell_type": "code",
   "execution_count": 2561,
   "metadata": {},
   "outputs": [
    {
     "name": "stderr",
     "output_type": "stream",
     "text": [
      "/var/folders/3c/gwjrml9d76v_zwbyb2x6yc0r0000gn/T/ipykernel_65523/3807689864.py:2: FutureWarning: You are using `torch.load` with `weights_only=False` (the current default value), which uses the default pickle module implicitly. It is possible to construct malicious pickle data which will execute arbitrary code during unpickling (See https://github.com/pytorch/pytorch/blob/main/SECURITY.md#untrusted-models for more details). In a future release, the default value for `weights_only` will be flipped to `True`. This limits the functions that could be executed during unpickling. Arbitrary objects will no longer be allowed to be loaded via this mode unless they are explicitly allowlisted by the user via `torch.serialization.add_safe_globals`. We recommend you start setting `weights_only=True` for any use case where you don't have full control of the loaded file. Please open an issue on GitHub for any issues related to this experimental feature.\n",
      "  binary_model.load_state_dict(torch.load(binary_model_save_path))\n"
     ]
    },
    {
     "data": {
      "text/plain": [
       "<All keys matched successfully>"
      ]
     },
     "execution_count": 2561,
     "metadata": {},
     "output_type": "execute_result"
    }
   ],
   "source": [
    "binary_model = CounterCNN().to(device)\n",
    "binary_model.load_state_dict(torch.load(binary_model_save_path))"
   ]
  },
  {
   "cell_type": "markdown",
   "metadata": {},
   "source": [
    "## Testing Binary Model"
   ]
  },
  {
   "cell_type": "code",
   "execution_count": 2562,
   "metadata": {},
   "outputs": [
    {
     "name": "stdout",
     "output_type": "stream",
     "text": [
      "Test Error: \n",
      " Accuracy: 75.8%, Avg loss: 0.414124 \n",
      "\n"
     ]
    },
    {
     "data": {
      "text/plain": [
       "(0.4141244306457906, 0.7576571735626008)"
      ]
     },
     "execution_count": 2562,
     "metadata": {},
     "output_type": "execute_result"
    }
   ],
   "source": [
    "# Out of sample test\n",
    "binary_model.eval()\n",
    "# test(test_loader, model, loss_fn)\n",
    "test_counter(binary_test_loader, binary_model, loss_fn)"
   ]
  },
  {
   "cell_type": "code",
   "execution_count": 2563,
   "metadata": {},
   "outputs": [
    {
     "name": "stdout",
     "output_type": "stream",
     "text": [
      "[[1.]\n",
      " [1.]\n",
      " [1.]\n",
      " ...\n",
      " [1.]\n",
      " [1.]\n",
      " [1.]]\n"
     ]
    }
   ],
   "source": [
    "# Set the model to evaluation mode\n",
    "binary_model.eval()\n",
    "\n",
    "# Initialize a list to store predictions\n",
    "predictions = []\n",
    "\n",
    "# Disable gradient calculation\n",
    "with torch.no_grad():\n",
    "    for X, _ in binary_test_loader:\n",
    "        X = X.to(device)\n",
    "        output = binary_model(X)\n",
    "        # predicted_classes = output.argmax(dim=1)\n",
    "        # predictions.extend(predicted_classes.cpu().numpy())\n",
    "        # predicted_zones = torch.round(torch.clamp(output, min=0, max=1))\n",
    "        predicted_zones = torch.round(torch.sigmoid(output))\n",
    "        predictions.extend(predicted_zones.cpu().numpy())\n",
    "\n",
    "# Convert predictions to a numpy array\n",
    "y_preds = np.array(predictions)\n",
    "print(y_preds)\n",
    "\n",
    "y_test = np.array([y for _, y in binary_dataset])"
   ]
  },
  {
   "cell_type": "code",
   "execution_count": 2564,
   "metadata": {},
   "outputs": [
    {
     "data": {
      "image/png": "[encoded data removed]",
      "text/plain": [
       "<Figure size 800x600 with 2 Axes>"
      ]
     },
     "metadata": {},
     "output_type": "display_data"
    }
   ],
   "source": [
    "y_test = np.array([y[0] for _, y in binary_dataset]).astype(int)\n",
    "y_preds = np.array([p[0] for p in predictions]).astype(int)\n",
    "conf_matrix = confusion_matrix(y_test, y_preds)\n",
    "conf_matrix_normalized = conf_matrix.astype('float') / conf_matrix.sum(axis=1)[:, np.newaxis]\n",
    "\n",
    "# Change figure size and increase dpi for better resolution\n",
    "plt.figure(figsize=(8,6), dpi=100)\n",
    "# Scale up the size of all text\n",
    " \n",
    "# Plot Confusion Matrix using Seaborn heatmap()\n",
    "# Parameters:\n",
    "# first param - confusion matrix in array format   \n",
    "# annot = True: show the numbers in each heatmap cell\n",
    "# fmt = 'd': show numbers as integers. \n",
    "ax = sns.heatmap(conf_matrix_normalized, annot=True, fmt='.2f', )\n",
    " \n",
    "# set x-axis label and ticks. \n",
    "ax.set_xlabel(\"Predicted\", fontsize=14, labelpad=20)\n",
    "tick_labels = [0, 1]\n",
    "ax.xaxis.set_ticklabels(tick_labels)\n",
    " \n",
    "# set y-axis label and ticks\n",
    "ax.set_ylabel(\"Actual\", fontsize=14, labelpad=20)\n",
    "ax.yaxis.set_ticklabels(tick_labels)\n",
    " \n",
    "# set plot title\n",
    "ax.set_title(\"Confusion Matrix\", fontsize=14, pad=20)\n",
    " \n",
    "plt.show()"
   ]
  },
  {
   "cell_type": "code",
   "execution_count": null,
   "metadata": {},
   "outputs": [],
   "source": []
  },
  {
   "cell_type": "code",
   "execution_count": null,
   "metadata": {},
   "outputs": [],
   "source": []
  }
 ],
 "metadata": {
  "kernelspec": {
   "display_name": "venv",
   "language": "python",
   "name": "python3"
  },
  "language_info": {
   "codemirror_mode": {
    "name": "ipython",
    "version": 3
   },
   "file_extension": ".py",
   "mimetype": "text/x-python",
   "name": "python",
   "nbconvert_exporter": "python",
   "pygments_lexer": "ipython3",
   "version": "3.12.2"
  }
 },
 "nbformat": 4,
 "nbformat_minor": 2
}
