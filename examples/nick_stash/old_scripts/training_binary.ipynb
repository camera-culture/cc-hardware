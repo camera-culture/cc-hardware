{
 "cells": [
  {
   "cell_type": "code",
   "execution_count": 148,
   "metadata": {},
   "outputs": [],
   "source": [
    "import numpy as np\n",
    "import torch\n",
    "from torch.utils.data import DataLoader, TensorDataset, random_split\n",
    "from torch import nn\n",
    "\n",
    "from scipy.ndimage import gaussian_filter\n",
    "\n",
    "import matplotlib.pyplot as plt\n",
    "import seaborn as sns\n",
    "from sklearn.metrics import confusion_matrix"
   ]
  },
  {
   "cell_type": "code",
   "execution_count": 123,
   "metadata": {},
   "outputs": [],
   "source": [
    "# load dataset\n",
    "height = 4\n",
    "width = 4\n",
    "depth = 24\n",
    "\n",
    "all_hists = []\n",
    "labels = []\n",
    "zero_hists = []\n",
    "\n",
    "# zone_to_label = {\n",
    "#     0: [0, 0, 0],\n",
    "#     1: [1, 0, 0],\n",
    "#     2: [0, 1, 0],\n",
    "#     3: [0, 0, 1],\n",
    "# }\n",
    "\n",
    "# zone_to_label = {\n",
    "#     0: [0, 0, 0],\n",
    "#     1: [1, 0, 0],\n",
    "#     2: [0, 1, 0],\n",
    "#     3: [0, 0, 1],\n",
    "#     4: [1, 1, 0],\n",
    "#     5: [1, 0, 1],\n",
    "#     6: [0, 1, 1],\n",
    "#     7: [1, 1, 1],\n",
    "# }\n",
    "\n",
    "# zone_to_label = {\n",
    "#     0: [0, 0, 0],\n",
    "#     1: [1, 0, 0],\n",
    "#     2: [0, 0, 0],\n",
    "#     3: [0, 0, 0],\n",
    "#     4: [1, 0, 0],\n",
    "#     5: [1, 0, 0],\n",
    "#     6: [0, 0, 0],\n",
    "# }\n",
    "\n",
    "# zone_to_label = {\n",
    "#     0: [0, 0, 0],\n",
    "#     1: [0, 0, 0],\n",
    "#     2: [0, 1, 0],\n",
    "#     3: [0, 0, 0],\n",
    "#     4: [0, 1, 0],\n",
    "#     5: [0, 0, 0],\n",
    "#     6: [0, 1, 0],\n",
    "# }\n",
    "\n",
    "zone_to_label = {\n",
    "    0: [0],\n",
    "    1: [1],\n",
    "    2: [1],\n",
    "    3: [1],\n",
    "    4: [1],\n",
    "    5: [1],\n",
    "    6: [1],\n",
    "}\n",
    "\n",
    "# for i in range(7):\n",
    "#     hists = np.load(f'datasets/window-board-2/histograms_{i}.npy')\n",
    "#     all_hists.append(hists)\n",
    "\n",
    "#     if i == 0:\n",
    "#         zero_hists.append(hists)\n",
    "    \n",
    "#     # labels += [i] * len(hists)\n",
    "\n",
    "#     # is_nonzero = (i != 0)\n",
    "#     # labels += [is_nonzero] * len(hists)\n",
    "\n",
    "#     labels += [zone_to_label[i]] * len(hists)"
   ]
  },
  {
   "cell_type": "code",
   "execution_count": 124,
   "metadata": {},
   "outputs": [],
   "source": [
    "\n",
    "# fine tuning setup\n",
    "for i in range(4):\n",
    "    hists = np.load(f'datasets/display-box-1/histograms_{i}.npy')\n",
    "    all_hists.append(hists)\n",
    "\n",
    "    if i == 0:\n",
    "        zero_hists.append(hists)\n",
    "    \n",
    "    # labels += [i] * len(hists)\n",
    "\n",
    "    # is_nonzero = (i != 0)\n",
    "    # labels += [is_nonzero] * len(hists)\n",
    "\n",
    "    labels += [zone_to_label[i]] * len(hists)\n"
   ]
  },
  {
   "cell_type": "code",
   "execution_count": 125,
   "metadata": {},
   "outputs": [],
   "source": [
    "zero_hists = np.concatenate(zero_hists, axis=0)\n",
    "all_hists = np.concatenate(all_hists, axis=0)\n",
    "labels = np.array(labels)\n",
    "\n",
    "all_hists = all_hists.reshape(-1, height, width, depth)\n",
    "# move depth to the front\n",
    "all_hists = np.moveaxis(all_hists, -1, 1)\n",
    "\n",
    "zero_hists = zero_hists.reshape(-1, height, width, depth)\n",
    "zero_hists = np.moveaxis(zero_hists, -1, 1)\n",
    "\n",
    "# crop first bounce bins (first bounce in first 2 bins)\n",
    "all_hists = all_hists[:, 2:, :, :]\n",
    "zero_hists = zero_hists[:, 2:, :, :]\n",
    "\n",
    "# generate more data by adding gaussian noise\n",
    "\n",
    "all_hists = np.repeat(all_hists, 10, axis=0)\n",
    "labels = np.repeat(labels, 10, axis=0)\n",
    "\n",
    "# add noise\n",
    "# std = 3 is good for general training?\n",
    "all_hists += np.random.normal(0, 1, all_hists.shape)\n",
    "\n",
    "\n",
    "\n",
    "all_hists = torch.tensor(all_hists, dtype=torch.float32)\n",
    "zero_hists = torch.tensor(zero_hists, dtype=torch.float32)\n"
   ]
  },
  {
   "cell_type": "code",
   "execution_count": 126,
   "metadata": {},
   "outputs": [],
   "source": [
    "# pick 10 random zero hists to act as the zero mean\n",
    "num_samples_to_mean = 20\n",
    "\n",
    "random_zero_mean = torch.empty((all_hists.shape[0], all_hists.shape[1], height, width))\n",
    "\n",
    "for i in range(all_hists.shape[0]):\n",
    "    indices = torch.randint(0, zero_hists.shape[0], (num_samples_to_mean,))\n",
    "    random_zero_mean[i] = zero_hists[indices].mean(dim=0)"
   ]
  },
  {
   "cell_type": "code",
   "execution_count": 127,
   "metadata": {},
   "outputs": [],
   "source": [
    "all_hists_rel = all_hists - random_zero_mean"
   ]
  },
  {
   "cell_type": "code",
   "execution_count": null,
   "metadata": {},
   "outputs": [],
   "source": [
    "# mean all pixels\n",
    "# all_hists_rel = all_hists_rel.mean(dim=(2, 3), keepdim=True)"
   ]
  },
  {
   "cell_type": "code",
   "execution_count": 114,
   "metadata": {},
   "outputs": [],
   "source": [
    "# zero_mean = np.mean(zero_hists, axis=0)\n",
    "\n",
    "# # lower bound at 0\n",
    "# # all_hists = np.maximum(all_hists, 0)\n",
    "# # zero_mean = np.maximum(zero_mean, 0)\n",
    "# all_hists_rel = all_hists - zero_mean"
   ]
  },
  {
   "cell_type": "code",
   "execution_count": 1026,
   "metadata": {},
   "outputs": [],
   "source": [
    "# value-based normalization\n",
    "# data is of shape (n x depth x height x width): (n, 24, 4, 4)\n",
    "# apply 2d gaussian over heigh x width\n",
    "\n",
    "# kernel = [0.5, 1, 0.5]\n",
    "\n",
    "# blurred = np.apply_along_axis(lambda x: gaussian_filter(x, sigma=0.5, mode='constant'), 2, all_hists_rel)\n",
    "# blurred = np.apply_along_axis(lambda x: gaussian_filter(x, sigma=0.5, mode='constant'), 3, blurred)\n",
    "\n",
    "# # 1d gaussian over depth\n",
    "blurred = np.apply_along_axis(lambda x: gaussian_filter(x, sigma=0.5, mode='constant'), 1, blurred)\n",
    "\n",
    "all_hists_rel = blurred\n",
    "\n",
    "# sharpened = all_hists_rel - blurred\n",
    "# all_hists_rel = sharpened"
   ]
  },
  {
   "cell_type": "code",
   "execution_count": 1087,
   "metadata": {},
   "outputs": [],
   "source": [
    "# normalize values"
   ]
  },
  {
   "cell_type": "code",
   "execution_count": 4,
   "metadata": {},
   "outputs": [
    {
     "ename": "IndexError",
     "evalue": "boolean index did not match indexed array along dimension 1; dimension is 24 but corresponding boolean dimension is 3",
     "output_type": "error",
     "traceback": [
      "\u001b[0;31m---------------------------------------------------------------------------\u001b[0m",
      "\u001b[0;31mIndexError\u001b[0m                                Traceback (most recent call last)",
      "Cell \u001b[0;32mIn[4], line 2\u001b[0m\n\u001b[1;32m      1\u001b[0m \u001b[38;5;66;03m# plot histogram of values of all_hists on log scale in matplotlib\u001b[39;00m\n\u001b[0;32m----> 2\u001b[0m temp \u001b[38;5;241m=\u001b[39m \u001b[43mall_hists_rel\u001b[49m\u001b[43m[\u001b[49m\u001b[43mlabels\u001b[49m\u001b[38;5;241;43m==\u001b[39;49m\u001b[38;5;241;43m2\u001b[39;49m\u001b[43m]\u001b[49m\u001b[38;5;241m.\u001b[39mflatten()\n\u001b[1;32m      3\u001b[0m fig, ax \u001b[38;5;241m=\u001b[39m plt\u001b[38;5;241m.\u001b[39msubplots()\n\u001b[1;32m      4\u001b[0m \u001b[38;5;66;03m# ax.hist(temp[(temp > 10) | (temp < -10)], bins=50)\u001b[39;00m\n",
      "\u001b[0;31mIndexError\u001b[0m: boolean index did not match indexed array along dimension 1; dimension is 24 but corresponding boolean dimension is 3"
     ]
    }
   ],
   "source": [
    "# plot histogram of values of all_hists on log scale in matplotlib\n",
    "temp = all_hists_rel[labels==2].flatten()\n",
    "fig, ax = plt.subplots()\n",
    "# ax.hist(temp[(temp > 10) | (temp < -10)], bins=50)\n",
    "ax.hist(temp, bins=50)\n",
    "plt.show()\n"
   ]
  },
  {
   "cell_type": "code",
   "execution_count": 4,
   "metadata": {},
   "outputs": [
    {
     "name": "stdout",
     "output_type": "stream",
     "text": [
      "nonnegative count: 113\n",
      "negative count: 271\n",
      "total count: 384\n"
     ]
    }
   ],
   "source": [
    "print(f\"nonnegative count: {np.sum(zero_mean >= 0)}\")\n",
    "print(f\"negative count: {np.sum(zero_mean < 0)}\")\n",
    "print(f\"total count: {zero_mean.size}\")"
   ]
  },
  {
   "cell_type": "code",
   "execution_count": 5,
   "metadata": {},
   "outputs": [
    {
     "data": {
      "image/png": "[encoded data removed]",
      "text/plain": [
       "<Figure size 640x480 with 1 Axes>"
      ]
     },
     "metadata": {},
     "output_type": "display_data"
    }
   ],
   "source": [
    "# plot histogram of all negative samples in all_hists\n",
    "\n",
    "fig, ax = plt.subplots()\n",
    "ax.hist(zero_mean[zero_mean < 0].flatten(), bins=100, log=True)\n",
    "plt.show()"
   ]
  },
  {
   "cell_type": "code",
   "execution_count": 6,
   "metadata": {},
   "outputs": [
    {
     "ename": "IndexError",
     "evalue": "boolean index did not match indexed array along dimension 1; dimension is 24 but corresponding boolean dimension is 3",
     "output_type": "error",
     "traceback": [
      "\u001b[0;31m---------------------------------------------------------------------------\u001b[0m",
      "\u001b[0;31mIndexError\u001b[0m                                Traceback (most recent call last)",
      "Cell \u001b[0;32mIn[6], line 2\u001b[0m\n\u001b[1;32m      1\u001b[0m fig, ax \u001b[38;5;241m=\u001b[39m plt\u001b[38;5;241m.\u001b[39msubplots()\n\u001b[0;32m----> 2\u001b[0m ax\u001b[38;5;241m.\u001b[39mhist(\u001b[43mall_hists_rel\u001b[49m\u001b[43m[\u001b[49m\u001b[43mlabels\u001b[49m\u001b[43m \u001b[49m\u001b[38;5;241;43m==\u001b[39;49m\u001b[43m \u001b[49m\u001b[38;5;241;43m0\u001b[39;49m\u001b[43m]\u001b[49m\u001b[38;5;241m.\u001b[39mflatten(), bins\u001b[38;5;241m=\u001b[39m\u001b[38;5;241m100\u001b[39m, log\u001b[38;5;241m=\u001b[39m\u001b[38;5;28;01mTrue\u001b[39;00m)\n\u001b[1;32m      3\u001b[0m plt\u001b[38;5;241m.\u001b[39mshow()\n",
      "\u001b[0;31mIndexError\u001b[0m: boolean index did not match indexed array along dimension 1; dimension is 24 but corresponding boolean dimension is 3"
     ]
    },
    {
     "data": {
      "image/png": "[encoded data removed]",
      "text/plain": [
       "<Figure size 640x480 with 1 Axes>"
      ]
     },
     "metadata": {},
     "output_type": "display_data"
    }
   ],
   "source": [
    "fig, ax = plt.subplots()\n",
    "ax.hist(all_hists_rel[labels == 0].flatten(), bins=100, log=True)\n",
    "plt.show()"
   ]
  },
  {
   "cell_type": "code",
   "execution_count": null,
   "metadata": {},
   "outputs": [
    {
     "data": {
      "image/png": "[encoded data removed]",
      "text/plain": [
       "<Figure size 640x480 with 1 Axes>"
      ]
     },
     "metadata": {},
     "output_type": "display_data"
    }
   ],
   "source": [
    "fig, ax = plt.subplots()\n",
    "ax.hist(all_hists_rel[labels == 9].flatten(), bins=100, log=True)\n",
    "plt.show()"
   ]
  },
  {
   "cell_type": "code",
   "execution_count": 128,
   "metadata": {},
   "outputs": [
    {
     "name": "stdout",
     "output_type": "stream",
     "text": [
      "shape of all_hists: torch.Size([40000, 22, 4, 4])\n",
      "shape of labels: (40000, 1)\n",
      "shape of zero_mean: torch.Size([40000, 22, 4, 4])\n",
      "shape of all_hists_rel: torch.Size([40000, 22, 4, 4])\n"
     ]
    }
   ],
   "source": [
    "print(f'shape of all_hists: {all_hists.shape}')\n",
    "print(f'shape of labels: {labels.shape}')\n",
    "print(f'shape of zero_mean: {all_hists_rel.shape}')\n",
    "print(f'shape of all_hists_rel: {all_hists_rel.shape}')"
   ]
  },
  {
   "cell_type": "code",
   "execution_count": 129,
   "metadata": {},
   "outputs": [],
   "source": [
    "# Convert numpy arrays to PyTorch tensors\n",
    "# all_hists_tensor = torch.tensor(all_hists, dtype=torch.float32)\n",
    "# all_hists_tensor = torch.tensor(all_hists_rel, dtype=torch.float32)\n",
    "all_hists_tensor = all_hists_rel\n",
    "# labels_tensor = torch.tensor(labels, dtype=torch.long)\n",
    "labels_tensor = torch.tensor(labels, dtype=torch.float32)\n",
    "\n",
    "# all_hists_tensor = torch.sign(all_hists_tensor) * torch.log1p(torch.abs(all_hists_tensor))\n",
    "\n",
    "\n",
    "# epsilon = 0.1  # Smoothing factor\n",
    "# labels_tensor = (1 - epsilon) * labels_tensor + epsilon * 0.5  # Smooth towards uniform distribution\n",
    "\n",
    "# Create a TensorDataset\n",
    "dataset = TensorDataset(all_hists_tensor, labels_tensor)\n",
    "\n",
    "# Define the sizes for training, validation, and test sets\n",
    "train_size = int(0.5 * len(dataset))\n",
    "val_size = int(0.25 * len(dataset))\n",
    "test_size = len(dataset) - train_size - val_size\n",
    "\n",
    "# Split the dataset into training, validation, and test sets\n",
    "train_dataset, val_dataset, test_dataset = random_split(dataset, [train_size, val_size, test_size])\n",
    "\n",
    "batch_size = 32\n",
    "\n",
    "# Create DataLoaders for each set\n",
    "train_loader = DataLoader(train_dataset, batch_size=batch_size, shuffle=True)\n",
    "val_loader = DataLoader(val_dataset, batch_size=batch_size, shuffle=False)\n",
    "test_loader = DataLoader(test_dataset, batch_size=batch_size, shuffle=False)"
   ]
  },
  {
   "cell_type": "code",
   "execution_count": 130,
   "metadata": {},
   "outputs": [
    {
     "name": "stdout",
     "output_type": "stream",
     "text": [
      "batch_x shape: torch.Size([32, 22, 4, 4])\n",
      "batch_y shape: torch.Size([32, 1])\n"
     ]
    }
   ],
   "source": [
    "for batch_x, batch_y in train_loader:\n",
    "    print(f'batch_x shape: {batch_x.shape}')\n",
    "    print(f'batch_y shape: {batch_y.shape}')\n",
    "    break"
   ]
  },
  {
   "cell_type": "code",
   "execution_count": 131,
   "metadata": {},
   "outputs": [
    {
     "name": "stdout",
     "output_type": "stream",
     "text": [
      "Using mps device\n"
     ]
    }
   ],
   "source": [
    "# Get cpu, gpu or mps device for training.\n",
    "device = (\n",
    "    \"cuda\"\n",
    "    if torch.cuda.is_available()\n",
    "    else \"mps\"\n",
    "    if torch.backends.mps.is_available()\n",
    "    else \"cpu\"\n",
    ")\n",
    "print(f\"Using {device} device\")"
   ]
  },
  {
   "cell_type": "code",
   "execution_count": 330,
   "metadata": {},
   "outputs": [
    {
     "name": "stdout",
     "output_type": "stream",
     "text": [
      "SimpleCNN(\n",
      "  (conv1): Conv2d(24, 32, kernel_size=(3, 3), stride=(1, 1), padding=(1, 1))\n",
      "  (conv2): Conv2d(32, 64, kernel_size=(3, 3), stride=(1, 1), padding=(1, 1))\n",
      "  (fc1): Linear(in_features=1024, out_features=128, bias=True)\n",
      "  (fc2): Linear(in_features=128, out_features=2, bias=True)\n",
      "  (relu): ReLU()\n",
      ")\n"
     ]
    }
   ],
   "source": [
    "class SimpleCNN(nn.Module):\n",
    "    def __init__(self):\n",
    "        super(SimpleCNN, self).__init__()\n",
    "        self.conv1 = nn.Conv2d(in_channels=depth, out_channels=32, kernel_size=3, padding=1)\n",
    "        self.conv2 = nn.Conv2d(in_channels=32, out_channels=64, kernel_size=3, padding=1)\n",
    "        # self.pool = nn.MaxPool2d(kernel_size=2, stride=2, padding=0)\n",
    "        self.fc1 = nn.Linear(64 * 4 * 4, 128)\n",
    "        self.fc2 = nn.Linear(128, 2)  # Assuming 10 classes for the labels\n",
    "        self.relu = nn.ReLU()\n",
    "\n",
    "    def forward(self, x):\n",
    "        # print(f'x shape at start: {x.shape}')\n",
    "        x = self.relu(self.conv1(x))\n",
    "        # print(f'x shape after conv1: {x.shape}')\n",
    "        # x = self.pool(x)\n",
    "        # print(f'x shape after pool1: {x.shape}')\n",
    "        x = self.relu(self.conv2(x))\n",
    "        # print(f'x shape after conv2: {x.shape}')\n",
    "        # x = self.pool(x)\n",
    "        # print(f'x shape after pool2: {x.shape}')\n",
    "        x = torch.flatten(x, 1)\n",
    "        # print(f'x shape after flatten: {x.shape}')\n",
    "        x = self.relu(self.fc1(x))\n",
    "        x = self.fc2(x)\n",
    "        return x\n",
    "\n",
    "# Instantiate the model\n",
    "model = SimpleCNN().to(device)\n",
    "print(model)"
   ]
  },
  {
   "cell_type": "code",
   "execution_count": null,
   "metadata": {},
   "outputs": [
    {
     "name": "stdout",
     "output_type": "stream",
     "text": [
      "BigCNN(\n",
      "  (conv1): Conv2d(24, 64, kernel_size=(3, 3), stride=(1, 1), padding=(1, 1))\n",
      "  (conv2): Conv2d(64, 128, kernel_size=(3, 3), stride=(1, 1), padding=(1, 1))\n",
      "  (fc1): Linear(in_features=2048, out_features=128, bias=True)\n",
      "  (fc2): Linear(in_features=128, out_features=10, bias=True)\n",
      "  (relu): ReLU()\n",
      ")\n"
     ]
    }
   ],
   "source": [
    "class BigCNN(nn.Module):\n",
    "    def __init__(self):\n",
    "        super(BigCNN, self).__init__()\n",
    "        self.conv1 = nn.Conv2d(in_channels=depth, out_channels=64, kernel_size=3, padding=1)\n",
    "        self.conv2 = nn.Conv2d(in_channels=64, out_channels=128, kernel_size=3, padding=1)\n",
    "        # self.pool = nn.MaxPool2d(kernel_size=2, stride=2, padding=0)\n",
    "        self.fc1 = nn.Linear(128 * 4 * 4, 128)\n",
    "        self.fc2 = nn.Linear(128, 10)  # Assuming 10 classes for the labels\n",
    "        self.relu = nn.ReLU()\n",
    "\n",
    "    def forward(self, x):\n",
    "        # print(f'x shape at start: {x.shape}')\n",
    "        x = self.relu(self.conv1(x))\n",
    "        # print(f'x shape after conv1: {x.shape}')\n",
    "        # x = self.pool(x)\n",
    "        # print(f'x shape after pool1: {x.shape}')\n",
    "        x = self.relu(self.conv2(x))\n",
    "        # print(f'x shape after conv2: {x.shape}')\n",
    "        # x = self.pool(x)\n",
    "        # print(f'x shape after pool2: {x.shape}')\n",
    "        x = torch.flatten(x, 1)\n",
    "        x = nn.Dropout(0.5)(x)\n",
    "        # print(f'x shape after flatten: {x.shape}')\n",
    "        x = self.relu(self.fc1(x))\n",
    "        x = self.fc2(x)\n",
    "        return x\n",
    "\n",
    "# Instantiate the model\n",
    "# model = BigCNN().to(device)\n",
    "# print(model)"
   ]
  },
  {
   "cell_type": "code",
   "execution_count": 132,
   "metadata": {},
   "outputs": [
    {
     "name": "stdout",
     "output_type": "stream",
     "text": [
      "CounterCNN(\n",
      "  (conv1): Conv2d(22, 32, kernel_size=(3, 3), stride=(1, 1), padding=(1, 1))\n",
      "  (batchnorm1): BatchNorm2d(32, eps=1e-05, momentum=0.1, affine=True, track_running_stats=True)\n",
      "  (conv2): Conv2d(32, 64, kernel_size=(3, 3), stride=(1, 1), padding=(1, 1))\n",
      "  (batchnorm2): BatchNorm2d(64, eps=1e-05, momentum=0.1, affine=True, track_running_stats=True)\n",
      "  (fc1): Linear(in_features=1024, out_features=128, bias=True)\n",
      "  (fc1_bn): BatchNorm1d(128, eps=1e-05, momentum=0.1, affine=True, track_running_stats=True)\n",
      "  (fc2): Linear(in_features=128, out_features=1, bias=True)\n",
      "  (relu): LeakyReLU(negative_slope=0.01)\n",
      "  (dropout): Dropout(p=0.7, inplace=False)\n",
      ")\n"
     ]
    }
   ],
   "source": [
    "class CounterCNN(nn.Module):\n",
    "    def __init__(self):\n",
    "        super(CounterCNN, self).__init__()\n",
    "        self.conv1 = nn.Conv2d(in_channels=depth-2, out_channels=32, kernel_size=3, padding=1)\n",
    "        self.batchnorm1 = nn.BatchNorm2d(32)\n",
    "        self.conv2 = nn.Conv2d(in_channels=32, out_channels=64, kernel_size=3, padding=1)\n",
    "        self.batchnorm2 = nn.BatchNorm2d(64)\n",
    "        # self.pool = nn.MaxPool2d(kernel_size=2, stride=2, padding=0)\n",
    "        self.fc1 = nn.Linear(64 * 4 * 4, 128)\n",
    "        self.fc1_bn = nn.BatchNorm1d(128)\n",
    "        self.fc2 = nn.Linear(128, 1)  # Assuming 10 classes for the labels\n",
    "        self.relu = nn.LeakyReLU(negative_slope=0.01)\n",
    "        self.dropout = nn.Dropout(p=0.7)\n",
    "\n",
    "    def forward(self, x):\n",
    "        # print(f'x shape at start: {x.shape}')\n",
    "        x = self.relu(self.conv1(x))\n",
    "        # print(f'x shape after conv1: {x.shape}')\n",
    "        x = self.batchnorm1(x)\n",
    "        # x = self.pool(x)\n",
    "        # print(f'x shape after pool1: {x.shape}')\n",
    "        x = self.relu(self.conv2(x))\n",
    "        # print(f'x shape after conv2: {x.shape}')\n",
    "        x = self.batchnorm2(x)\n",
    "        # # x = self.pool(x)\n",
    "        # # print(f'x shape after pool2: {x.shape}')\n",
    "        x = torch.flatten(x, 1)\n",
    "        # print(f'x shape after flatten: {x.shape}')\n",
    "        x = self.relu(self.fc1(x))\n",
    "        x = self.dropout(x)\n",
    "        x = self.fc1_bn(x)\n",
    "        x = self.fc2(x)\n",
    "        return x\n",
    "\n",
    "# Instantiate the model\n",
    "model = CounterCNN().to(device)\n",
    "print(model)"
   ]
  },
  {
   "cell_type": "code",
   "execution_count": 133,
   "metadata": {},
   "outputs": [
    {
     "data": {
      "text/plain": [
       "CounterCNN(\n",
       "  (conv1): Conv2d(22, 32, kernel_size=(3, 3), stride=(1, 1), padding=(1, 1))\n",
       "  (batchnorm1): BatchNorm2d(32, eps=1e-05, momentum=0.1, affine=True, track_running_stats=True)\n",
       "  (conv2): Conv2d(32, 64, kernel_size=(3, 3), stride=(1, 1), padding=(1, 1))\n",
       "  (batchnorm2): BatchNorm2d(64, eps=1e-05, momentum=0.1, affine=True, track_running_stats=True)\n",
       "  (fc1): Linear(in_features=1024, out_features=128, bias=True)\n",
       "  (fc1_bn): BatchNorm1d(128, eps=1e-05, momentum=0.1, affine=True, track_running_stats=True)\n",
       "  (fc2): Linear(in_features=128, out_features=1, bias=True)\n",
       "  (relu): LeakyReLU(negative_slope=0.01)\n",
       "  (dropout): Dropout(p=0.7, inplace=False)\n",
       ")"
      ]
     },
     "execution_count": 133,
     "metadata": {},
     "output_type": "execute_result"
    }
   ],
   "source": [
    "def initialize_weights(m):\n",
    "    if isinstance(m, torch.nn.Linear) or isinstance(m, torch.nn.Conv2d):\n",
    "        torch.nn.init.kaiming_uniform_(m.weight, nonlinearity='leaky_relu')\n",
    "        if m.bias is not None:\n",
    "            torch.nn.init.zeros_(m.bias)\n",
    "\n",
    "model.apply(initialize_weights)"
   ]
  },
  {
   "cell_type": "code",
   "execution_count": 23,
   "metadata": {},
   "outputs": [],
   "source": [
    "loss_fn = nn.CrossEntropyLoss()\n",
    "optimizer = torch.optim.Adam(model.parameters(), lr=0.001)"
   ]
  },
  {
   "cell_type": "code",
   "execution_count": 134,
   "metadata": {},
   "outputs": [],
   "source": [
    "loss_fn = nn.BCEWithLogitsLoss()\n",
    "optimizer = torch.optim.Adam(model.parameters(), lr=0.001)\n",
    "# optimizer = torch.optim.Adadelta(model.parameters(), lr=10.0)"
   ]
  },
  {
   "cell_type": "code",
   "execution_count": 135,
   "metadata": {},
   "outputs": [],
   "source": [
    "def train(dataloader, model, loss_fn, optimizer, counter=False, clipping=False, debug=False):\n",
    "    size = len(dataloader.dataset)\n",
    "    model.train()\n",
    "    train_loss = 0\n",
    "    for batch, (X, y) in enumerate(dataloader):\n",
    "        X, y = X.to(device), y.to(device)\n",
    "        # print(f'X shape: {X.shape}, y shape: {y.shape}')\n",
    "        # Compute prediction error\n",
    "        pred = model(X)\n",
    "        # if counter:\n",
    "            # y = y.unsqueeze(1)\n",
    "        # print(f'pred shape: {pred.shape}, y shape: {y.shape}')\n",
    "        loss = loss_fn(pred, y)\n",
    "        # print(f'loss: {loss.item()}')\n",
    "        train_loss += loss.item()\n",
    "\n",
    "        # Backpropagation\n",
    "        loss.backward()\n",
    "\n",
    "        if clipping:\n",
    "            # Gradient clipping\n",
    "            torch.nn.utils.clip_grad_norm_(model.parameters(), max_norm=1.0)  # Adjust max_norm as needed\n",
    "        \n",
    "        if debug:\n",
    "            # Inspect gradients for each layer\n",
    "            for name, param in model.named_parameters():\n",
    "                if param.grad is not None:  # Only check if gradient is computed\n",
    "                    print(f\"Layer: {name} | Gradient mean: {param.grad.abs().mean().item()} | Gradient max: {param.grad.abs().max().item()}\")\n",
    "                else:\n",
    "                    print(f\"Layer: {name} has no gradient.\")\n",
    "\n",
    "        optimizer.step()\n",
    "        optimizer.zero_grad()\n",
    "\n",
    "        if batch % 100 == 0:\n",
    "            loss, current = loss.item(), (batch + 1) * len(X)\n",
    "            print(f\"loss: {loss:>7f}  [{current:>5d}/{size:>5d}]\")\n",
    "    train_loss /= len(dataloader)\n",
    "    return train_loss"
   ]
  },
  {
   "cell_type": "code",
   "execution_count": 136,
   "metadata": {},
   "outputs": [],
   "source": [
    "def test(dataloader, model, loss_fn):\n",
    "    size = len(dataloader.dataset)\n",
    "    num_batches = len(dataloader)\n",
    "    model.eval()\n",
    "    test_loss, correct = 0, 0\n",
    "    with torch.no_grad():\n",
    "        for X, y in dataloader:\n",
    "            X, y = X.to(device), y.to(device)\n",
    "            pred = model(X)\n",
    "            test_loss += loss_fn(pred, y).item()\n",
    "            correct += (pred.argmax(1) == y).type(torch.float).sum().item()\n",
    "    test_loss /= num_batches\n",
    "    correct /= size\n",
    "    print(f\"Test Error: \\n Accuracy: {(100*correct):>0.1f}%, Avg loss: {test_loss:>8f} \\n\")\n",
    "    return test_loss, correct"
   ]
  },
  {
   "cell_type": "code",
   "execution_count": 137,
   "metadata": {},
   "outputs": [],
   "source": [
    "def test_counter(dataloader, model, loss_fn):\n",
    "    size = len(dataloader.dataset)\n",
    "    num_batches = len(dataloader)\n",
    "    model.eval()\n",
    "    test_loss, correct = 0, 0\n",
    "    with torch.no_grad():\n",
    "        for X, y in dataloader:\n",
    "            X, y = X.to(device), y.to(device)\n",
    "            pred = model(X)\n",
    "            # y = y.unsqueeze_(1)\n",
    "            # print(X.shape)\n",
    "            # print(y.shape)\n",
    "            test_loss += loss_fn(pred, y).item()\n",
    "            final_pred = torch.round(torch.clamp(pred, min=0, max=1))\n",
    "            \n",
    "            # print(final_pred.shape)\n",
    "            # print(\"true\")\n",
    "            # print(y)\n",
    "            # print(\"pred\")\n",
    "            # print(final_pred)\n",
    "            # print(\"diff\")\n",
    "            # print(final_pred - y)\n",
    "            exact_match = torch.all(final_pred == torch.round(y), dim=1)\n",
    "            correct += torch.sum(exact_match).item()\n",
    "    test_loss /= num_batches\n",
    "    correct /= size\n",
    "    print(f\"Test Error: \\n Accuracy: {(100*correct):>0.1f}%, Avg loss: {test_loss:>8f} \\n\")\n",
    "    return test_loss, correct"
   ]
  },
  {
   "cell_type": "code",
   "execution_count": 138,
   "metadata": {},
   "outputs": [],
   "source": [
    "def train_early_stopping(train_loader, val_loader, model, loss_fn, optimizer, \n",
    "    epochs=50, early_stopping=True, patience=5, threshold=0.15, counter=False, clipping=False, debug=False):\n",
    "    train_losses = []\n",
    "    val_losses = []\n",
    "    best_val_loss = float('inf')\n",
    "    best_model = None\n",
    "    for t in range(epochs):\n",
    "        print(f\"Epoch {t+1}\\n-------------------------------\")\n",
    "        train_loss = train(train_loader, model, loss_fn, optimizer, counter=counter, clipping=clipping, debug=debug)\n",
    "        if counter:\n",
    "            val_loss, correct = test_counter(val_loader, model, loss_fn)\n",
    "        else:\n",
    "            val_loss, correct = test(val_loader, model, loss_fn)\n",
    "        train_losses.append(train_loss)\n",
    "        val_losses.append(val_loss)\n",
    "        if early_stopping:\n",
    "            if val_loss < best_val_loss:\n",
    "                best_val_loss = val_loss\n",
    "                best_model = model\n",
    "                patience_counter = 0\n",
    "            else:\n",
    "                if val_loss / best_val_loss > 1 + threshold:\n",
    "                    patience_counter += 1\n",
    "                    if patience_counter >= patience:\n",
    "                        print(f\"Early stopping at epoch {t+1}\")\n",
    "                        break\n",
    "        # print(f'patience_counter: {patience_counter}')\n",
    "    return best_model, train_losses, val_losses"
   ]
  },
  {
   "cell_type": "code",
   "execution_count": 139,
   "metadata": {},
   "outputs": [
    {
     "name": "stdout",
     "output_type": "stream",
     "text": [
      "Epoch 1\n",
      "-------------------------------\n",
      "loss: 0.917006  [   32/20000]\n",
      "loss: 0.515045  [ 3232/20000]\n",
      "loss: 0.678481  [ 6432/20000]\n",
      "loss: 0.672900  [ 9632/20000]\n",
      "loss: 0.523096  [12832/20000]\n",
      "loss: 0.552139  [16032/20000]\n",
      "loss: 0.612393  [19232/20000]\n",
      "Test Error: \n",
      " Accuracy: 75.3%, Avg loss: 0.558388 \n",
      "\n",
      "Epoch 2\n",
      "-------------------------------\n",
      "loss: 0.545171  [   32/20000]\n",
      "loss: 0.623195  [ 3232/20000]\n",
      "loss: 0.580367  [ 6432/20000]\n",
      "loss: 0.560406  [ 9632/20000]\n",
      "loss: 0.657319  [12832/20000]\n",
      "loss: 0.596396  [16032/20000]\n",
      "loss: 0.459972  [19232/20000]\n",
      "Test Error: \n",
      " Accuracy: 75.2%, Avg loss: 0.542590 \n",
      "\n",
      "Epoch 3\n",
      "-------------------------------\n",
      "loss: 0.372544  [   32/20000]\n",
      "loss: 0.484048  [ 3232/20000]\n",
      "loss: 0.559015  [ 6432/20000]\n",
      "loss: 0.493665  [ 9632/20000]\n",
      "loss: 0.419613  [12832/20000]\n",
      "loss: 0.656563  [16032/20000]\n",
      "loss: 0.574146  [19232/20000]\n",
      "Test Error: \n",
      " Accuracy: 73.0%, Avg loss: 0.539524 \n",
      "\n",
      "Epoch 4\n",
      "-------------------------------\n",
      "loss: 0.505703  [   32/20000]\n",
      "loss: 0.505505  [ 3232/20000]\n",
      "loss: 0.494207  [ 6432/20000]\n",
      "loss: 0.509591  [ 9632/20000]\n",
      "loss: 0.464119  [12832/20000]\n",
      "loss: 0.596606  [16032/20000]\n",
      "loss: 0.588975  [19232/20000]\n",
      "Test Error: \n",
      " Accuracy: 74.0%, Avg loss: 0.533654 \n",
      "\n",
      "Epoch 5\n",
      "-------------------------------\n",
      "loss: 0.455915  [   32/20000]\n",
      "loss: 0.550410  [ 3232/20000]\n",
      "loss: 0.480732  [ 6432/20000]\n",
      "loss: 0.312769  [ 9632/20000]\n",
      "loss: 0.428021  [12832/20000]\n",
      "loss: 0.601803  [16032/20000]\n",
      "loss: 0.561990  [19232/20000]\n",
      "Test Error: \n",
      " Accuracy: 72.5%, Avg loss: 0.529421 \n",
      "\n",
      "Epoch 6\n",
      "-------------------------------\n",
      "loss: 0.478317  [   32/20000]\n",
      "loss: 0.450060  [ 3232/20000]\n",
      "loss: 0.421518  [ 6432/20000]\n",
      "loss: 0.623373  [ 9632/20000]\n",
      "loss: 0.352469  [12832/20000]\n",
      "loss: 0.621971  [16032/20000]\n",
      "loss: 0.409203  [19232/20000]\n",
      "Test Error: \n",
      " Accuracy: 73.6%, Avg loss: 0.521453 \n",
      "\n",
      "Epoch 7\n",
      "-------------------------------\n",
      "loss: 0.450432  [   32/20000]\n",
      "loss: 0.467313  [ 3232/20000]\n",
      "loss: 0.418596  [ 6432/20000]\n",
      "loss: 0.505484  [ 9632/20000]\n",
      "loss: 0.403300  [12832/20000]\n",
      "loss: 0.330142  [16032/20000]\n",
      "loss: 0.517860  [19232/20000]\n",
      "Test Error: \n",
      " Accuracy: 74.0%, Avg loss: 0.517907 \n",
      "\n",
      "Epoch 8\n",
      "-------------------------------\n",
      "loss: 0.552839  [   32/20000]\n",
      "loss: 0.261867  [ 3232/20000]\n",
      "loss: 0.362717  [ 6432/20000]\n",
      "loss: 0.399111  [ 9632/20000]\n",
      "loss: 0.396413  [12832/20000]\n",
      "loss: 0.497788  [16032/20000]\n",
      "loss: 0.402507  [19232/20000]\n",
      "Test Error: \n",
      " Accuracy: 72.8%, Avg loss: 0.533231 \n",
      "\n",
      "Epoch 9\n",
      "-------------------------------\n",
      "loss: 0.440160  [   32/20000]\n",
      "loss: 0.221513  [ 3232/20000]\n",
      "loss: 0.264264  [ 6432/20000]\n",
      "loss: 0.473887  [ 9632/20000]\n",
      "loss: 0.270873  [12832/20000]\n",
      "loss: 0.300663  [16032/20000]\n",
      "loss: 0.459965  [19232/20000]\n",
      "Test Error: \n",
      " Accuracy: 73.5%, Avg loss: 0.543416 \n",
      "\n",
      "Epoch 10\n",
      "-------------------------------\n",
      "loss: 0.353733  [   32/20000]\n",
      "loss: 0.509447  [ 3232/20000]\n",
      "loss: 0.382581  [ 6432/20000]\n",
      "loss: 0.457164  [ 9632/20000]\n",
      "loss: 0.236967  [12832/20000]\n",
      "loss: 0.269688  [16032/20000]\n",
      "loss: 0.322388  [19232/20000]\n",
      "Test Error: \n",
      " Accuracy: 73.4%, Avg loss: 0.556035 \n",
      "\n",
      "Epoch 11\n",
      "-------------------------------\n",
      "loss: 0.142522  [   32/20000]\n",
      "loss: 0.262067  [ 3232/20000]\n",
      "loss: 0.224046  [ 6432/20000]\n",
      "loss: 0.194804  [ 9632/20000]\n",
      "loss: 0.306304  [12832/20000]\n",
      "loss: 0.380659  [16032/20000]\n",
      "loss: 0.250488  [19232/20000]\n",
      "Test Error: \n",
      " Accuracy: 72.2%, Avg loss: 0.574210 \n",
      "\n",
      "Epoch 12\n",
      "-------------------------------\n",
      "loss: 0.158953  [   32/20000]\n",
      "loss: 0.313159  [ 3232/20000]\n",
      "loss: 0.429424  [ 6432/20000]\n",
      "loss: 0.248939  [ 9632/20000]\n",
      "loss: 0.281615  [12832/20000]\n",
      "loss: 0.385712  [16032/20000]\n",
      "loss: 0.491048  [19232/20000]\n",
      "Test Error: \n",
      " Accuracy: 73.5%, Avg loss: 0.590058 \n",
      "\n",
      "Epoch 13\n",
      "-------------------------------\n",
      "loss: 0.145544  [   32/20000]\n",
      "loss: 0.305399  [ 3232/20000]\n",
      "loss: 0.274584  [ 6432/20000]\n",
      "loss: 0.380243  [ 9632/20000]\n",
      "loss: 0.192678  [12832/20000]\n",
      "loss: 0.176427  [16032/20000]\n",
      "loss: 0.188113  [19232/20000]\n",
      "Test Error: \n",
      " Accuracy: 74.2%, Avg loss: 0.610679 \n",
      "\n",
      "Epoch 14\n",
      "-------------------------------\n",
      "loss: 0.070653  [   32/20000]\n",
      "loss: 0.292472  [ 3232/20000]\n",
      "loss: 0.159902  [ 6432/20000]\n",
      "loss: 0.286660  [ 9632/20000]\n",
      "loss: 0.258996  [12832/20000]\n",
      "loss: 0.307305  [16032/20000]\n",
      "loss: 0.095311  [19232/20000]\n",
      "Test Error: \n",
      " Accuracy: 73.0%, Avg loss: 0.695026 \n",
      "\n",
      "Epoch 15\n",
      "-------------------------------\n",
      "loss: 0.345755  [   32/20000]\n",
      "loss: 0.241315  [ 3232/20000]\n",
      "loss: 0.330132  [ 6432/20000]\n",
      "loss: 0.108634  [ 9632/20000]\n",
      "loss: 0.192834  [12832/20000]\n",
      "loss: 0.186029  [16032/20000]\n",
      "loss: 0.129078  [19232/20000]\n",
      "Test Error: \n",
      " Accuracy: 74.0%, Avg loss: 0.757264 \n",
      "\n",
      "Epoch 16\n",
      "-------------------------------\n",
      "loss: 0.344141  [   32/20000]\n",
      "loss: 0.121947  [ 3232/20000]\n",
      "loss: 0.117636  [ 6432/20000]\n",
      "loss: 0.241117  [ 9632/20000]\n",
      "loss: 0.335094  [12832/20000]\n",
      "loss: 0.110877  [16032/20000]\n",
      "loss: 0.261631  [19232/20000]\n",
      "Test Error: \n",
      " Accuracy: 74.3%, Avg loss: 0.756464 \n",
      "\n",
      "Epoch 17\n",
      "-------------------------------\n",
      "loss: 0.189361  [   32/20000]\n",
      "loss: 0.147507  [ 3232/20000]\n",
      "loss: 0.077484  [ 6432/20000]\n",
      "loss: 0.505487  [ 9632/20000]\n",
      "loss: 0.303628  [12832/20000]\n",
      "loss: 0.186111  [16032/20000]\n",
      "loss: 0.362587  [19232/20000]\n",
      "Test Error: \n",
      " Accuracy: 73.9%, Avg loss: 0.835841 \n",
      "\n",
      "Epoch 18\n",
      "-------------------------------\n",
      "loss: 0.194267  [   32/20000]\n",
      "loss: 0.067870  [ 3232/20000]\n",
      "loss: 0.115993  [ 6432/20000]\n",
      "loss: 0.109036  [ 9632/20000]\n",
      "loss: 0.299768  [12832/20000]\n",
      "loss: 0.078377  [16032/20000]\n",
      "loss: 0.029048  [19232/20000]\n",
      "Test Error: \n",
      " Accuracy: 73.9%, Avg loss: 0.902737 \n",
      "\n",
      "Early stopping at epoch 18\n"
     ]
    },
    {
     "data": {
      "image/png": "[encoded data removed]",
      "text/plain": [
       "<Figure size 640x480 with 1 Axes>"
      ]
     },
     "metadata": {},
     "output_type": "display_data"
    }
   ],
   "source": [
    "best_model, train_losses, val_losses = train_early_stopping(\n",
    "    train_loader, val_loader, model, loss_fn, optimizer, epochs=500, early_stopping=True,\n",
    "    threshold=0.2,\n",
    "    counter=True, clipping=True)\n",
    "\n",
    "# plot training and validation losses\n",
    "plt.figure()\n",
    "plt.plot(train_losses, label='train')\n",
    "plt.plot(val_losses, label='val')\n",
    "plt.legend()\n",
    "plt.show()\n",
    "\n",
    "\n",
    "model = best_model"
   ]
  },
  {
   "cell_type": "code",
   "execution_count": 140,
   "metadata": {},
   "outputs": [],
   "source": [
    "model_save_path = 'models/display-box-5-binary.pth'"
   ]
  },
  {
   "cell_type": "code",
   "execution_count": 141,
   "metadata": {},
   "outputs": [],
   "source": [
    "torch.save(model.state_dict(), model_save_path)"
   ]
  },
  {
   "cell_type": "code",
   "execution_count": 142,
   "metadata": {},
   "outputs": [
    {
     "name": "stderr",
     "output_type": "stream",
     "text": [
      "/var/folders/3c/gwjrml9d76v_zwbyb2x6yc0r0000gn/T/ipykernel_19490/2522857457.py:2: FutureWarning: You are using `torch.load` with `weights_only=False` (the current default value), which uses the default pickle module implicitly. It is possible to construct malicious pickle data which will execute arbitrary code during unpickling (See https://github.com/pytorch/pytorch/blob/main/SECURITY.md#untrusted-models for more details). In a future release, the default value for `weights_only` will be flipped to `True`. This limits the functions that could be executed during unpickling. Arbitrary objects will no longer be allowed to be loaded via this mode unless they are explicitly allowlisted by the user via `torch.serialization.add_safe_globals`. We recommend you start setting `weights_only=True` for any use case where you don't have full control of the loaded file. Please open an issue on GitHub for any issues related to this experimental feature.\n",
      "  model.load_state_dict(torch.load(model_save_path))\n"
     ]
    },
    {
     "data": {
      "text/plain": [
       "<All keys matched successfully>"
      ]
     },
     "execution_count": 142,
     "metadata": {},
     "output_type": "execute_result"
    }
   ],
   "source": [
    "model = CounterCNN().to(device)\n",
    "model.load_state_dict(torch.load(model_save_path))"
   ]
  },
  {
   "cell_type": "code",
   "execution_count": 143,
   "metadata": {},
   "outputs": [
    {
     "name": "stdout",
     "output_type": "stream",
     "text": [
      "Test Error: \n",
      " Accuracy: 73.0%, Avg loss: 0.948537 \n",
      "\n"
     ]
    },
    {
     "data": {
      "text/plain": [
       "(0.9485368596764799, 0.73)"
      ]
     },
     "execution_count": 143,
     "metadata": {},
     "output_type": "execute_result"
    }
   ],
   "source": [
    "# Out of sample test\n",
    "model.eval()\n",
    "# test(test_loader, model, loss_fn)\n",
    "test_counter(test_loader, model, loss_fn)"
   ]
  },
  {
   "cell_type": "code",
   "execution_count": 144,
   "metadata": {},
   "outputs": [
    {
     "name": "stdout",
     "output_type": "stream",
     "text": [
      "Predicted class: 0, Actual label: tensor([0.])\n",
      "Predicted class: 0, Actual label: tensor([1.])\n",
      "Predicted class: 0, Actual label: tensor([1.])\n",
      "Predicted class: 0, Actual label: tensor([0.])\n",
      "Predicted class: 0, Actual label: tensor([1.])\n",
      "Predicted class: 0, Actual label: tensor([1.])\n",
      "Predicted class: 0, Actual label: tensor([1.])\n",
      "Predicted class: 0, Actual label: tensor([0.])\n",
      "Predicted class: 0, Actual label: tensor([1.])\n",
      "Predicted class: 0, Actual label: tensor([1.])\n",
      "Predicted class: 0, Actual label: tensor([1.])\n",
      "Predicted class: 0, Actual label: tensor([1.])\n",
      "Predicted class: 0, Actual label: tensor([1.])\n",
      "Predicted class: 0, Actual label: tensor([0.])\n",
      "Predicted class: 0, Actual label: tensor([1.])\n",
      "Predicted class: 0, Actual label: tensor([1.])\n",
      "Predicted class: 0, Actual label: tensor([1.])\n",
      "Predicted class: 0, Actual label: tensor([0.])\n",
      "Predicted class: 0, Actual label: tensor([1.])\n",
      "Predicted class: 0, Actual label: tensor([1.])\n"
     ]
    }
   ],
   "source": [
    "for i in range(20):\n",
    "    # Get a single example from the test dataset\n",
    "    example_data, example_label = test_dataset[i]\n",
    "\n",
    "    # Move the example data to the appropriate device\n",
    "    example_data = example_data.unsqueeze(0).to(device)\n",
    "\n",
    "    # Set the model to evaluation mode\n",
    "    model.eval()\n",
    "\n",
    "    # Get the model's prediction\n",
    "    with torch.no_grad():\n",
    "        example_data = example_data.to(device)\n",
    "        output = model(example_data)\n",
    "\n",
    "    # Get the predicted class\n",
    "    predicted_class = output.argmax(dim=1).item()\n",
    "\n",
    "    # Print the predicted class and the actual label\n",
    "    print(f'Predicted class: {predicted_class}, Actual label: {example_label}')"
   ]
  },
  {
   "cell_type": "code",
   "execution_count": 145,
   "metadata": {},
   "outputs": [
    {
     "name": "stdout",
     "output_type": "stream",
     "text": [
      "[[0.]\n",
      " [1.]\n",
      " [1.]\n",
      " ...\n",
      " [1.]\n",
      " [1.]\n",
      " [1.]]\n"
     ]
    }
   ],
   "source": [
    "# Set the model to evaluation mode\n",
    "model.eval()\n",
    "\n",
    "# Initialize a list to store predictions\n",
    "predictions = []\n",
    "\n",
    "# Disable gradient calculation\n",
    "with torch.no_grad():\n",
    "    for X, _ in test_loader:\n",
    "        X = X.to(device)\n",
    "        output = model(X)\n",
    "        # predicted_classes = output.argmax(dim=1)\n",
    "        # predictions.extend(predicted_classes.cpu().numpy())\n",
    "        predicted_zones = torch.round(torch.clamp(output, min=0, max=1))\n",
    "        predictions.extend(predicted_zones.cpu().numpy())\n",
    "\n",
    "# Convert predictions to a numpy array\n",
    "y_preds = np.array(predictions)\n",
    "print(y_preds)\n",
    "\n",
    "y_test = np.array([y for _, y in test_dataset])"
   ]
  },
  {
   "cell_type": "code",
   "execution_count": 116,
   "metadata": {},
   "outputs": [
    {
     "name": "stdout",
     "output_type": "stream",
     "text": [
      "[1 0 1 ... 2 2 2]\n"
     ]
    }
   ],
   "source": [
    "# FULL DATASET\n",
    "# Create a DataLoader for the entire dataset\n",
    "full_loader = DataLoader(dataset, batch_size=batch_size, shuffle=False)\n",
    "\n",
    "# Set the model to evaluation mode\n",
    "model.eval()\n",
    "\n",
    "# Initialize a list to store the predictions\n",
    "predictions = []\n",
    "\n",
    "# Disable gradient calculation\n",
    "with torch.no_grad():\n",
    "    for X, _ in full_loader:\n",
    "        X = X.to(device)\n",
    "        output = model(X)\n",
    "        predicted_classes = output.argmax(dim=1)\n",
    "        predictions.extend(predicted_classes.cpu().numpy())\n",
    "\n",
    "# Convert outputs to a numpy array\n",
    "y_preds = np.array(predictions)\n",
    "print(y_preds)\n",
    "\n",
    "y_test = np.array([y for _, y in dataset])"
   ]
  },
  {
   "cell_type": "code",
   "execution_count": 146,
   "metadata": {},
   "outputs": [
    {
     "data": {
      "image/png": "[encoded data removed]",
      "text/plain": [
       "<Figure size 800x600 with 2 Axes>"
      ]
     },
     "metadata": {},
     "output_type": "display_data"
    }
   ],
   "source": [
    "y_test = np.array([y[0] for _, y in test_dataset]).astype(int)\n",
    "y_preds = np.array([p[0] for p in predictions]).astype(int)\n",
    "conf_matrix = confusion_matrix(y_test, y_preds)\n",
    "conf_matrix_normalized = conf_matrix.astype('float') / conf_matrix.sum(axis=1)[:, np.newaxis]\n",
    "\n",
    "# Change figure size and increase dpi for better resolution\n",
    "plt.figure(figsize=(8,6), dpi=100)\n",
    "# Scale up the size of all text\n",
    " \n",
    "# Plot Confusion Matrix using Seaborn heatmap()\n",
    "# Parameters:\n",
    "# first param - confusion matrix in array format   \n",
    "# annot = True: show the numbers in each heatmap cell\n",
    "# fmt = 'd': show numbers as integers. \n",
    "ax = sns.heatmap(conf_matrix_normalized, annot=True, fmt='.2f', )\n",
    " \n",
    "# set x-axis label and ticks. \n",
    "ax.set_xlabel(\"Predicted\", fontsize=14, labelpad=20)\n",
    "# tick_labels = [0, 1, 2, 3, 4, 5, 6, 7, 8, 9, 11, 12, 13, 14, 15, 16, 17, 18, 19]\n",
    "# tick_labels = [0, 1, 2, 3, 4, 5, 6, 7, 8, 9]\n",
    "# tick_labels = [0, 1, 2, 3, 4, 5, 6]\n",
    "# tick_labels = [0, 1, 2]\n",
    "tick_labels = [0, 1]\n",
    "ax.xaxis.set_ticklabels(tick_labels)\n",
    " \n",
    "# set y-axis label and ticks\n",
    "ax.set_ylabel(\"Actual\", fontsize=14, labelpad=20)\n",
    "ax.yaxis.set_ticklabels(tick_labels)\n",
    " \n",
    "# set plot title\n",
    "ax.set_title(\"Confusion Matrix\", fontsize=14, pad=20)\n",
    " \n",
    "plt.show()"
   ]
  },
  {
   "cell_type": "code",
   "execution_count": 147,
   "metadata": {},
   "outputs": [
    {
     "name": "stdout",
     "output_type": "stream",
     "text": [
      "[0.73]\n"
     ]
    },
    {
     "ename": "ValueError",
     "evalue": "shapes (10000,1) and (3,) not aligned: 1 (dim 1) != 3 (dim 0)",
     "output_type": "error",
     "traceback": [
      "\u001b[0;31m---------------------------------------------------------------------------\u001b[0m",
      "\u001b[0;31mValueError\u001b[0m                                Traceback (most recent call last)",
      "Cell \u001b[0;32mIn[147], line 12\u001b[0m\n\u001b[1;32m      9\u001b[0m zone_accuracy \u001b[38;5;241m=\u001b[39m zone_correct \u001b[38;5;241m/\u001b[39m zone_total\n\u001b[1;32m     10\u001b[0m \u001b[38;5;28mprint\u001b[39m(zone_accuracy)\n\u001b[0;32m---> 12\u001b[0m category_y_test \u001b[38;5;241m=\u001b[39m \u001b[43my_test\u001b[49m\u001b[38;5;241;43m.\u001b[39;49m\u001b[43mdot\u001b[49m\u001b[43m(\u001b[49m\u001b[38;5;241;43m2\u001b[39;49m\u001b[38;5;241;43m*\u001b[39;49m\u001b[38;5;241;43m*\u001b[39;49m\u001b[43mnp\u001b[49m\u001b[38;5;241;43m.\u001b[39;49m\u001b[43marray\u001b[49m\u001b[43m(\u001b[49m\u001b[43m[\u001b[49m\u001b[38;5;241;43m1\u001b[39;49m\u001b[43m,\u001b[49m\u001b[43m \u001b[49m\u001b[38;5;241;43m2\u001b[39;49m\u001b[43m,\u001b[49m\u001b[43m \u001b[49m\u001b[38;5;241;43m4\u001b[39;49m\u001b[43m]\u001b[49m\u001b[43m)\u001b[49m\u001b[43m)\u001b[49m\n\u001b[1;32m     13\u001b[0m category_y_preds \u001b[38;5;241m=\u001b[39m y_preds\u001b[38;5;241m.\u001b[39mdot(\u001b[38;5;241m2\u001b[39m\u001b[38;5;241m*\u001b[39m\u001b[38;5;241m*\u001b[39mnp\u001b[38;5;241m.\u001b[39marray([\u001b[38;5;241m1\u001b[39m, \u001b[38;5;241m2\u001b[39m, \u001b[38;5;241m4\u001b[39m]))\n\u001b[1;32m     15\u001b[0m conf_matrix \u001b[38;5;241m=\u001b[39m confusion_matrix(category_y_test, category_y_preds)\n",
      "\u001b[0;31mValueError\u001b[0m: shapes (10000,1) and (3,) not aligned: 1 (dim 1) != 3 (dim 0)"
     ]
    }
   ],
   "source": [
    "y_test = np.array([y for _, y in test_dataset]).astype(int)\n",
    "y_preds = np.array([p for p in predictions]).astype(int)\n",
    "\n",
    "# plot accuracy of each zone\n",
    "correct = (y_test == y_preds)\n",
    "zone_correct = np.sum(correct, axis=0)\n",
    "zone_total = np.sum(y_test == y_test, axis=0)\n",
    "\n",
    "zone_accuracy = zone_correct / zone_total\n",
    "print(zone_accuracy)\n",
    "\n",
    "category_y_test = y_test.dot(2**np.array([1, 2, 4]))\n",
    "category_y_preds = y_preds.dot(2**np.array([1, 2, 4]))\n",
    "\n",
    "conf_matrix = confusion_matrix(category_y_test, category_y_preds)\n",
    "conf_matrix_normalized = conf_matrix.astype('float') / conf_matrix.sum(axis=1)[:, np.newaxis]\n",
    "\n",
    "# Change figure size and increase dpi for better resolution\n",
    "plt.figure(figsize=(8,6), dpi=100)\n",
    "# Scale up the size of all text\n",
    " \n",
    "# Plot Confusion Matrix using Seaborn heatmap()\n",
    "# Parameters:\n",
    "# first param - confusion matrix in array format   \n",
    "# annot = True: show the numbers in each heatmap cell\n",
    "# fmt = 'd': show numbers as integers. \n",
    "ax = sns.heatmap(conf_matrix_normalized, annot=True, fmt='.2f', )\n",
    " \n",
    "# set x-axis label and ticks. \n",
    "ax.set_xlabel(\"Predicted\", fontsize=14, labelpad=20)\n",
    "# tick_labels = [\"000\", \"001\", \"010\", \"011\", \"100\", \"101\", \"110\"]\n",
    "tick_labels = [\"0\", \"1\"]\n",
    "ax.xaxis.set_ticklabels(tick_labels)\n",
    " \n",
    "# set y-axis label and ticks\n",
    "ax.set_ylabel(\"Actual\", fontsize=14, labelpad=20)\n",
    "ax.yaxis.set_ticklabels(tick_labels)\n",
    " \n",
    "# set plot title\n",
    "ax.set_title(\"Confusion Matrix\", fontsize=14, pad=20)\n",
    " \n",
    "plt.show()"
   ]
  },
  {
   "cell_type": "code",
   "execution_count": null,
   "metadata": {},
   "outputs": [],
   "source": []
  },
  {
   "cell_type": "code",
   "execution_count": null,
   "metadata": {},
   "outputs": [],
   "source": []
  }
 ],
 "metadata": {
  "kernelspec": {
   "display_name": "venv",
   "language": "python",
   "name": "python3"
  },
  "language_info": {
   "codemirror_mode": {
    "name": "ipython",
    "version": 3
   },
   "file_extension": ".py",
   "mimetype": "text/x-python",
   "name": "python",
   "nbconvert_exporter": "python",
   "pygments_lexer": "ipython3",
   "version": "3.12.2"
  }
 },
 "nbformat": 4,
 "nbformat_minor": 2
}
