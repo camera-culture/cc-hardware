{
 "cells": [
  {
   "cell_type": "code",
   "execution_count": 60,
   "metadata": {},
   "outputs": [],
   "source": [
    "import numpy as np\n",
    "import torch\n",
    "from torch.utils.data import DataLoader, TensorDataset, random_split\n",
    "from torch import nn\n",
    "\n",
    "from scipy.ndimage import gaussian_filter\n",
    "\n",
    "import matplotlib.pyplot as plt\n",
    "import seaborn as sns\n",
    "from sklearn.metrics import confusion_matrix"
   ]
  },
  {
   "cell_type": "code",
   "execution_count": 28,
   "metadata": {},
   "outputs": [],
   "source": [
    "# load dataset\n",
    "height = 4\n",
    "width = 4\n",
    "depth = 24\n",
    "\n",
    "all_hists = []\n",
    "labels = []\n",
    "zero_hists = []\n",
    "\n",
    "# zone_to_label = {\n",
    "#     0: [0, 0, 0],\n",
    "#     1: [1, 0, 0],\n",
    "#     2: [0, 1, 0],\n",
    "#     3: [0, 0, 1],\n",
    "# }\n",
    "\n",
    "zone_to_label = {\n",
    "    0: [0, 0, 0],\n",
    "    1: [1, 0, 0],\n",
    "    2: [0, 1, 0],\n",
    "    3: [0, 0, 1],\n",
    "    4: [1, 1, 0],\n",
    "    5: [1, 0, 1],\n",
    "    6: [0, 1, 1],\n",
    "    7: [1, 1, 1],\n",
    "}\n",
    "\n",
    "# zone_to_label = {\n",
    "#     0: [0, 0, 0],\n",
    "#     1: [1, 0, 0],\n",
    "#     2: [0, 0, 0],\n",
    "#     3: [0, 0, 0],\n",
    "#     4: [1, 0, 0],\n",
    "#     5: [1, 0, 0],\n",
    "#     6: [0, 0, 0],\n",
    "# }\n",
    "\n",
    "# zone_to_label = {\n",
    "#     0: [0, 0, 0],\n",
    "#     1: [0, 0, 0],\n",
    "#     2: [0, 1, 0],\n",
    "#     3: [0, 0, 0],\n",
    "#     4: [0, 1, 0],\n",
    "#     5: [0, 0, 0],\n",
    "#     6: [0, 1, 0],\n",
    "# }\n",
    "\n",
    "# zone_to_label = {\n",
    "#     0: [0, 0, 0],\n",
    "#     1: [1, 0, 0],\n",
    "#     2: [1, 0, 0],\n",
    "#     3: [1, 0, 0],\n",
    "#     4: [1, 0, 0],\n",
    "#     5: [1, 0, 0],\n",
    "#     6: [1, 0, 0],\n",
    "# }"
   ]
  },
  {
   "cell_type": "code",
   "execution_count": 29,
   "metadata": {},
   "outputs": [],
   "source": [
    "for i in range(4):\n",
    "    hists = np.load(f'datasets/display-box-1/histograms_{i}.npy')\n",
    "    all_hists.append(hists)\n",
    "\n",
    "    if i == 0:\n",
    "        zero_hists.append(hists)\n",
    "    \n",
    "    # labels += [i] * len(hists)\n",
    "\n",
    "    # is_nonzero = (i != 0)\n",
    "    # labels += [is_nonzero] * len(hists)\n",
    "\n",
    "    labels += [zone_to_label[i]] * len(hists)"
   ]
  },
  {
   "cell_type": "code",
   "execution_count": 246,
   "metadata": {},
   "outputs": [],
   "source": [
    "\n",
    "# fine tuning setup\n",
    "for i in range(4):\n",
    "    hists = np.load(f'datasets/display-3/histograms_{i}.npy')\n",
    "    all_hists.append(hists)\n",
    "\n",
    "    if i == 0:\n",
    "        zero_hists.append(hists)\n",
    "    \n",
    "    # labels += [i] * len(hists)\n",
    "\n",
    "    # is_nonzero = (i != 0)\n",
    "    # labels += [is_nonzero] * len(hists)\n",
    "\n",
    "    labels += [zone_to_label[i]] * len(hists)\n"
   ]
  },
  {
   "cell_type": "code",
   "execution_count": 30,
   "metadata": {},
   "outputs": [],
   "source": [
    "zero_hists = np.concatenate(zero_hists, axis=0)\n",
    "all_hists = np.concatenate(all_hists, axis=0)\n",
    "labels = np.array(labels)\n",
    "\n",
    "all_hists = all_hists.reshape(-1, height, width, depth)\n",
    "# move depth to the front\n",
    "all_hists = np.moveaxis(all_hists, -1, 1)\n",
    "\n",
    "zero_hists = zero_hists.reshape(-1, height, width, depth)\n",
    "zero_hists = np.moveaxis(zero_hists, -1, 1)\n",
    "\n",
    "# crop first bounce bins (first bounce in first 2 bins)\n",
    "all_hists = all_hists[:, 2:, :, :]\n",
    "zero_hists = zero_hists[:, 2:, :, :]\n",
    "\n",
    "\n",
    "# generate more data by adding gaussian noise\n",
    "\n",
    "all_hists = np.repeat(all_hists, 10, axis=0)\n",
    "labels = np.repeat(labels, 10, axis=0)\n",
    "\n",
    "# add noise\n",
    "# std = 3 is good for general training?\n",
    "all_hists += np.random.normal(0, 1, all_hists.shape)\n",
    "\n",
    "\n",
    "\n",
    "all_hists = torch.tensor(all_hists, dtype=torch.float32)\n",
    "zero_hists = torch.tensor(zero_hists, dtype=torch.float32)\n"
   ]
  },
  {
   "cell_type": "code",
   "execution_count": 31,
   "metadata": {},
   "outputs": [],
   "source": [
    "# pick 20 random zero hists to act as the zero mean\n",
    "num_samples_to_mean = 20\n",
    "\n",
    "random_zero_mean = torch.empty((all_hists.shape[0], all_hists.shape[1], height, width))\n",
    "\n",
    "for i in range(all_hists.shape[0]):\n",
    "    indices = torch.randint(0, zero_hists.shape[0], (num_samples_to_mean,))\n",
    "    random_zero_mean[i] = zero_hists[indices].mean(dim=0)"
   ]
  },
  {
   "cell_type": "code",
   "execution_count": 51,
   "metadata": {},
   "outputs": [],
   "source": [
    "# normalize to 0-1 values\n",
    "all_hist_mins = all_hists.amin(dim=(1, 2, 3), keepdim=True)\n",
    "all_hist_maxs = all_hists.amax(dim=(1, 2, 3), keepdim=True)\n",
    "all_hist_ranges = all_hist_maxs - all_hist_mins\n",
    "all_hist_ranges[all_hist_ranges == 0] = 1\n",
    "all_hists = (all_hists - all_hist_mins) / all_hist_ranges\n",
    "\n",
    "# normalize to 0-1 values\n",
    "random_zero_mean_mins = random_zero_mean.amin(dim=(1, 2, 3), keepdim=True)\n",
    "random_zero_mean_maxs = random_zero_mean.amax(dim=(1, 2, 3), keepdim=True)\n",
    "random_zero_mean_ranges = random_zero_mean_maxs - random_zero_mean_mins\n",
    "random_zero_mean_ranges[random_zero_mean_ranges == 0] = 1\n",
    "random_zero_mean = (random_zero_mean - random_zero_mean_mins) / random_zero_mean\n"
   ]
  },
  {
   "cell_type": "code",
   "execution_count": 32,
   "metadata": {},
   "outputs": [],
   "source": [
    "all_hists_rel = all_hists - random_zero_mean"
   ]
  },
  {
   "cell_type": "code",
   "execution_count": 7,
   "metadata": {},
   "outputs": [],
   "source": [
    "# mean all pixels\n",
    "# all_hists_rel = all_hists_rel.mean(dim=(2, 3), keepdim=True)"
   ]
  },
  {
   "cell_type": "code",
   "execution_count": 9,
   "metadata": {},
   "outputs": [],
   "source": [
    "# zero_mean = np.mean(zero_hists, axis=0)\n",
    "\n",
    "# # lower bound at 0\n",
    "# # all_hists = np.maximum(all_hists, 0)\n",
    "# # zero_mean = np.maximum(zero_mean, 0)\n",
    "# all_hists_rel = all_hists - zero_mean"
   ]
  },
  {
   "cell_type": "code",
   "execution_count": 1026,
   "metadata": {},
   "outputs": [],
   "source": [
    "# value-based normalization\n",
    "# data is of shape (n x depth x height x width): (n, 24, 4, 4)\n",
    "# apply 2d gaussian over heigh x width\n",
    "\n",
    "# kernel = [0.5, 1, 0.5]\n",
    "\n",
    "# blurred = np.apply_along_axis(lambda x: gaussian_filter(x, sigma=0.5, mode='constant'), 2, all_hists_rel)\n",
    "# blurred = np.apply_along_axis(lambda x: gaussian_filter(x, sigma=0.5, mode='constant'), 3, blurred)\n",
    "\n",
    "# # 1d gaussian over depth\n",
    "blurred = np.apply_along_axis(lambda x: gaussian_filter(x, sigma=0.5, mode='constant'), 1, blurred)\n",
    "\n",
    "all_hists_rel = blurred\n",
    "\n",
    "# sharpened = all_hists_rel - blurred\n",
    "# all_hists_rel = sharpened"
   ]
  },
  {
   "cell_type": "code",
   "execution_count": 1087,
   "metadata": {},
   "outputs": [],
   "source": [
    "# normalize values"
   ]
  },
  {
   "cell_type": "code",
   "execution_count": 4,
   "metadata": {},
   "outputs": [
    {
     "ename": "IndexError",
     "evalue": "boolean index did not match indexed array along dimension 1; dimension is 24 but corresponding boolean dimension is 3",
     "output_type": "error",
     "traceback": [
      "\u001b[0;31m---------------------------------------------------------------------------\u001b[0m",
      "\u001b[0;31mIndexError\u001b[0m                                Traceback (most recent call last)",
      "Cell \u001b[0;32mIn[4], line 2\u001b[0m\n\u001b[1;32m      1\u001b[0m \u001b[38;5;66;03m# plot histogram of values of all_hists on log scale in matplotlib\u001b[39;00m\n\u001b[0;32m----> 2\u001b[0m temp \u001b[38;5;241m=\u001b[39m \u001b[43mall_hists_rel\u001b[49m\u001b[43m[\u001b[49m\u001b[43mlabels\u001b[49m\u001b[38;5;241;43m==\u001b[39;49m\u001b[38;5;241;43m2\u001b[39;49m\u001b[43m]\u001b[49m\u001b[38;5;241m.\u001b[39mflatten()\n\u001b[1;32m      3\u001b[0m fig, ax \u001b[38;5;241m=\u001b[39m plt\u001b[38;5;241m.\u001b[39msubplots()\n\u001b[1;32m      4\u001b[0m \u001b[38;5;66;03m# ax.hist(temp[(temp > 10) | (temp < -10)], bins=50)\u001b[39;00m\n",
      "\u001b[0;31mIndexError\u001b[0m: boolean index did not match indexed array along dimension 1; dimension is 24 but corresponding boolean dimension is 3"
     ]
    }
   ],
   "source": [
    "# plot histogram of values of all_hists on log scale in matplotlib\n",
    "temp = all_hists_rel[labels==2].flatten()\n",
    "fig, ax = plt.subplots()\n",
    "# ax.hist(temp[(temp > 10) | (temp < -10)], bins=50)\n",
    "ax.hist(temp, bins=50)\n",
    "plt.show()\n"
   ]
  },
  {
   "cell_type": "code",
   "execution_count": 4,
   "metadata": {},
   "outputs": [
    {
     "name": "stdout",
     "output_type": "stream",
     "text": [
      "nonnegative count: 113\n",
      "negative count: 271\n",
      "total count: 384\n"
     ]
    }
   ],
   "source": [
    "print(f\"nonnegative count: {np.sum(zero_mean >= 0)}\")\n",
    "print(f\"negative count: {np.sum(zero_mean < 0)}\")\n",
    "print(f\"total count: {zero_mean.size}\")"
   ]
  },
  {
   "cell_type": "code",
   "execution_count": 5,
   "metadata": {},
   "outputs": [
    {
     "data": {
      "image/png": "[encoded data removed]",
      "text/plain": [
       "<Figure size 640x480 with 1 Axes>"
      ]
     },
     "metadata": {},
     "output_type": "display_data"
    }
   ],
   "source": [
    "# plot histogram of all negative samples in all_hists\n",
    "\n",
    "fig, ax = plt.subplots()\n",
    "ax.hist(zero_mean[zero_mean < 0].flatten(), bins=100, log=True)\n",
    "plt.show()"
   ]
  },
  {
   "cell_type": "code",
   "execution_count": 6,
   "metadata": {},
   "outputs": [
    {
     "ename": "IndexError",
     "evalue": "boolean index did not match indexed array along dimension 1; dimension is 24 but corresponding boolean dimension is 3",
     "output_type": "error",
     "traceback": [
      "\u001b[0;31m---------------------------------------------------------------------------\u001b[0m",
      "\u001b[0;31mIndexError\u001b[0m                                Traceback (most recent call last)",
      "Cell \u001b[0;32mIn[6], line 2\u001b[0m\n\u001b[1;32m      1\u001b[0m fig, ax \u001b[38;5;241m=\u001b[39m plt\u001b[38;5;241m.\u001b[39msubplots()\n\u001b[0;32m----> 2\u001b[0m ax\u001b[38;5;241m.\u001b[39mhist(\u001b[43mall_hists_rel\u001b[49m\u001b[43m[\u001b[49m\u001b[43mlabels\u001b[49m\u001b[43m \u001b[49m\u001b[38;5;241;43m==\u001b[39;49m\u001b[43m \u001b[49m\u001b[38;5;241;43m0\u001b[39;49m\u001b[43m]\u001b[49m\u001b[38;5;241m.\u001b[39mflatten(), bins\u001b[38;5;241m=\u001b[39m\u001b[38;5;241m100\u001b[39m, log\u001b[38;5;241m=\u001b[39m\u001b[38;5;28;01mTrue\u001b[39;00m)\n\u001b[1;32m      3\u001b[0m plt\u001b[38;5;241m.\u001b[39mshow()\n",
      "\u001b[0;31mIndexError\u001b[0m: boolean index did not match indexed array along dimension 1; dimension is 24 but corresponding boolean dimension is 3"
     ]
    },
    {
     "data": {
      "image/png": "[encoded data removed]",
      "text/plain": [
       "<Figure size 640x480 with 1 Axes>"
      ]
     },
     "metadata": {},
     "output_type": "display_data"
    }
   ],
   "source": [
    "fig, ax = plt.subplots()\n",
    "ax.hist(all_hists_rel[labels == 0].flatten(), bins=100, log=True)\n",
    "plt.show()"
   ]
  },
  {
   "cell_type": "code",
   "execution_count": null,
   "metadata": {},
   "outputs": [
    {
     "data": {
      "image/png": "[encoded data removed]",
      "text/plain": [
       "<Figure size 640x480 with 1 Axes>"
      ]
     },
     "metadata": {},
     "output_type": "display_data"
    }
   ],
   "source": [
    "fig, ax = plt.subplots()\n",
    "ax.hist(all_hists_rel[labels == 9].flatten(), bins=100, log=True)\n",
    "plt.show()"
   ]
  },
  {
   "cell_type": "code",
   "execution_count": 33,
   "metadata": {},
   "outputs": [
    {
     "name": "stdout",
     "output_type": "stream",
     "text": [
      "shape of all_hists: torch.Size([40000, 22, 4, 4])\n",
      "shape of labels: (40000, 3)\n",
      "shape of zero_mean: torch.Size([40000, 22, 4, 4])\n",
      "shape of all_hists_rel: torch.Size([40000, 22, 4, 4])\n"
     ]
    }
   ],
   "source": [
    "print(f'shape of all_hists: {all_hists.shape}')\n",
    "print(f'shape of labels: {labels.shape}')\n",
    "print(f'shape of zero_mean: {all_hists_rel.shape}')\n",
    "print(f'shape of all_hists_rel: {all_hists_rel.shape}')"
   ]
  },
  {
   "cell_type": "code",
   "execution_count": 34,
   "metadata": {},
   "outputs": [],
   "source": [
    "# Convert numpy arrays to PyTorch tensors\n",
    "# all_hists_tensor = torch.tensor(all_hists, dtype=torch.float32)\n",
    "# all_hists_tensor = torch.tensor(all_hists_rel, dtype=torch.float32)\n",
    "all_hists_tensor = all_hists_rel\n",
    "# labels_tensor = torch.tensor(labels, dtype=torch.long)\n",
    "labels_tensor = torch.tensor(labels, dtype=torch.float32)\n",
    "\n",
    "# all_hists_tensor = torch.sign(all_hists_tensor) * torch.log1p(torch.abs(all_hists_tensor))\n",
    "\n",
    "\n",
    "# epsilon = 0.1  # Smoothing factor\n",
    "# labels_tensor = (1 - epsilon) * labels_tensor + epsilon * 0.5  # Smooth towards uniform distribution\n",
    "\n",
    "# Create a TensorDataset\n",
    "dataset = TensorDataset(all_hists_tensor, labels_tensor)\n",
    "\n",
    "# Define the sizes for training, validation, and test sets\n",
    "train_size = int(0.5 * len(dataset))\n",
    "val_size = int(0.25 * len(dataset))\n",
    "test_size = len(dataset) - train_size - val_size\n",
    "\n",
    "# Split the dataset into training, validation, and test sets\n",
    "train_dataset, val_dataset, test_dataset = random_split(dataset, [train_size, val_size, test_size])\n",
    "\n",
    "batch_size = 32\n",
    "\n",
    "# Create DataLoaders for each set\n",
    "train_loader = DataLoader(train_dataset, batch_size=batch_size, shuffle=True)\n",
    "val_loader = DataLoader(val_dataset, batch_size=batch_size, shuffle=False)\n",
    "test_loader = DataLoader(test_dataset, batch_size=batch_size, shuffle=False)"
   ]
  },
  {
   "cell_type": "code",
   "execution_count": 35,
   "metadata": {},
   "outputs": [
    {
     "name": "stdout",
     "output_type": "stream",
     "text": [
      "batch_x shape: torch.Size([32, 22, 4, 4])\n",
      "batch_y shape: torch.Size([32, 3])\n"
     ]
    }
   ],
   "source": [
    "for batch_x, batch_y in train_loader:\n",
    "    print(f'batch_x shape: {batch_x.shape}')\n",
    "    print(f'batch_y shape: {batch_y.shape}')\n",
    "    break"
   ]
  },
  {
   "cell_type": "code",
   "execution_count": 36,
   "metadata": {},
   "outputs": [
    {
     "name": "stdout",
     "output_type": "stream",
     "text": [
      "Using mps device\n"
     ]
    }
   ],
   "source": [
    "# Get cpu, gpu or mps device for training.\n",
    "device = (\n",
    "    \"cuda\"\n",
    "    if torch.cuda.is_available()\n",
    "    else \"mps\"\n",
    "    if torch.backends.mps.is_available()\n",
    "    else \"cpu\"\n",
    ")\n",
    "print(f\"Using {device} device\")"
   ]
  },
  {
   "cell_type": "code",
   "execution_count": 67,
   "metadata": {},
   "outputs": [
    {
     "name": "stdout",
     "output_type": "stream",
     "text": [
      "SimpleCNN(\n",
      "  (conv1): Conv2d(24, 32, kernel_size=(3, 3), stride=(1, 1), padding=(1, 1))\n",
      "  (conv2): Conv2d(32, 64, kernel_size=(3, 3), stride=(1, 1), padding=(1, 1))\n",
      "  (fc1): Linear(in_features=1024, out_features=128, bias=True)\n",
      "  (fc2): Linear(in_features=128, out_features=2, bias=True)\n",
      "  (relu): ReLU()\n",
      ")\n"
     ]
    }
   ],
   "source": [
    "class SimpleCNN(nn.Module):\n",
    "    def __init__(self):\n",
    "        super(SimpleCNN, self).__init__()\n",
    "        self.conv1 = nn.Conv2d(in_channels=depth, out_channels=32, kernel_size=3, padding=1)\n",
    "        self.conv2 = nn.Conv2d(in_channels=32, out_channels=64, kernel_size=3, padding=1)\n",
    "        # self.pool = nn.MaxPool2d(kernel_size=2, stride=2, padding=0)\n",
    "        self.fc1 = nn.Linear(64 * 4 * 4, 128)\n",
    "        self.fc2 = nn.Linear(128, 2)  # Assuming 10 classes for the labels\n",
    "        self.relu = nn.ReLU()\n",
    "\n",
    "    def forward(self, x):\n",
    "        # print(f'x shape at start: {x.shape}')\n",
    "        x = self.relu(self.conv1(x))\n",
    "        # print(f'x shape after conv1: {x.shape}')\n",
    "        # x = self.pool(x)\n",
    "        # print(f'x shape after pool1: {x.shape}')\n",
    "        x = self.relu(self.conv2(x))\n",
    "        # print(f'x shape after conv2: {x.shape}')\n",
    "        # x = self.pool(x)\n",
    "        # print(f'x shape after pool2: {x.shape}')\n",
    "        x = torch.flatten(x, 1)\n",
    "        # print(f'x shape after flatten: {x.shape}')\n",
    "        x = self.relu(self.fc1(x))\n",
    "        x = self.fc2(x)\n",
    "        return x\n",
    "\n",
    "# Instantiate the model\n",
    "model = SimpleCNN().to(device)\n",
    "print(model)"
   ]
  },
  {
   "cell_type": "code",
   "execution_count": null,
   "metadata": {},
   "outputs": [
    {
     "name": "stdout",
     "output_type": "stream",
     "text": [
      "BigCNN(\n",
      "  (conv1): Conv2d(24, 64, kernel_size=(3, 3), stride=(1, 1), padding=(1, 1))\n",
      "  (conv2): Conv2d(64, 128, kernel_size=(3, 3), stride=(1, 1), padding=(1, 1))\n",
      "  (fc1): Linear(in_features=2048, out_features=128, bias=True)\n",
      "  (fc2): Linear(in_features=128, out_features=10, bias=True)\n",
      "  (relu): ReLU()\n",
      ")\n"
     ]
    }
   ],
   "source": [
    "class BigCNN(nn.Module):\n",
    "    def __init__(self):\n",
    "        super(BigCNN, self).__init__()\n",
    "        self.conv1 = nn.Conv2d(in_channels=depth, out_channels=64, kernel_size=3, padding=1)\n",
    "        self.conv2 = nn.Conv2d(in_channels=64, out_channels=128, kernel_size=3, padding=1)\n",
    "        # self.pool = nn.MaxPool2d(kernel_size=2, stride=2, padding=0)\n",
    "        self.fc1 = nn.Linear(128 * 4 * 4, 128)\n",
    "        self.fc2 = nn.Linear(128, 10)  # Assuming 10 classes for the labels\n",
    "        self.relu = nn.ReLU()\n",
    "\n",
    "    def forward(self, x):\n",
    "        # print(f'x shape at start: {x.shape}')\n",
    "        x = self.relu(self.conv1(x))\n",
    "        # print(f'x shape after conv1: {x.shape}')\n",
    "        # x = self.pool(x)\n",
    "        # print(f'x shape after pool1: {x.shape}')\n",
    "        x = self.relu(self.conv2(x))\n",
    "        # print(f'x shape after conv2: {x.shape}')\n",
    "        # x = self.pool(x)\n",
    "        # print(f'x shape after pool2: {x.shape}')\n",
    "        x = torch.flatten(x, 1)\n",
    "        x = nn.Dropout(0.5)(x)\n",
    "        # print(f'x shape after flatten: {x.shape}')\n",
    "        x = self.relu(self.fc1(x))\n",
    "        x = self.fc2(x)\n",
    "        return x\n",
    "\n",
    "# Instantiate the model\n",
    "# model = BigCNN().to(device)\n",
    "# print(model)"
   ]
  },
  {
   "cell_type": "code",
   "execution_count": 37,
   "metadata": {},
   "outputs": [
    {
     "name": "stdout",
     "output_type": "stream",
     "text": [
      "CounterCNN(\n",
      "  (conv1): Conv2d(22, 32, kernel_size=(3, 3), stride=(1, 1), padding=(1, 1))\n",
      "  (batchnorm1): BatchNorm2d(32, eps=1e-05, momentum=0.1, affine=True, track_running_stats=True)\n",
      "  (conv2): Conv2d(32, 64, kernel_size=(3, 3), stride=(1, 1), padding=(1, 1))\n",
      "  (batchnorm2): BatchNorm2d(64, eps=1e-05, momentum=0.1, affine=True, track_running_stats=True)\n",
      "  (fc1): Linear(in_features=1024, out_features=128, bias=True)\n",
      "  (fc1_bn): BatchNorm1d(128, eps=1e-05, momentum=0.1, affine=True, track_running_stats=True)\n",
      "  (fc2): Linear(in_features=128, out_features=3, bias=True)\n",
      "  (relu): LeakyReLU(negative_slope=0.01)\n",
      "  (dropout): Dropout(p=0.7, inplace=False)\n",
      ")\n"
     ]
    }
   ],
   "source": [
    "class CounterCNN(nn.Module):\n",
    "    def __init__(self):\n",
    "        super(CounterCNN, self).__init__()\n",
    "        self.conv1 = nn.Conv2d(in_channels=(depth - 2), out_channels=32, kernel_size=3, padding=1)\n",
    "        self.batchnorm1 = nn.BatchNorm2d(32)\n",
    "        self.conv2 = nn.Conv2d(in_channels=32, out_channels=64, kernel_size=3, padding=1)\n",
    "        self.batchnorm2 = nn.BatchNorm2d(64)\n",
    "        # self.pool = nn.MaxPool2d(kernel_size=2, stride=2, padding=0)\n",
    "        self.fc1 = nn.Linear(64 * 4 * 4, 128)\n",
    "        self.fc1_bn = nn.BatchNorm1d(128)\n",
    "        self.fc2 = nn.Linear(128, 3)  # Assuming 10 classes for the labels\n",
    "        self.relu = nn.LeakyReLU(negative_slope=0.01)\n",
    "        self.dropout = nn.Dropout(p=0.7)\n",
    "\n",
    "    def forward(self, x):\n",
    "        # print(f'x shape at start: {x.shape}')\n",
    "        x = self.relu(self.conv1(x))\n",
    "        # print(f'x shape after conv1: {x.shape}')\n",
    "        x = self.batchnorm1(x)\n",
    "        # x = self.pool(x)\n",
    "        # print(f'x shape after pool1: {x.shape}')\n",
    "        x = self.relu(self.conv2(x))\n",
    "        # print(f'x shape after conv2: {x.shape}')\n",
    "        x = self.batchnorm2(x)\n",
    "        # x = self.pool(x)\n",
    "        # print(f'x shape after pool2: {x.shape}')\n",
    "        x = torch.flatten(x, 1)\n",
    "        # print(f'x shape after flatten: {x.shape}')\n",
    "        x = self.relu(self.fc1(x))\n",
    "        x = self.dropout(x)\n",
    "        x = self.fc1_bn(x)\n",
    "        x = self.fc2(x)\n",
    "        return x\n",
    "\n",
    "# Instantiate the model\n",
    "model = CounterCNN().to(device)\n",
    "print(model)"
   ]
  },
  {
   "cell_type": "code",
   "execution_count": 38,
   "metadata": {},
   "outputs": [
    {
     "data": {
      "text/plain": [
       "CounterCNN(\n",
       "  (conv1): Conv2d(22, 32, kernel_size=(3, 3), stride=(1, 1), padding=(1, 1))\n",
       "  (batchnorm1): BatchNorm2d(32, eps=1e-05, momentum=0.1, affine=True, track_running_stats=True)\n",
       "  (conv2): Conv2d(32, 64, kernel_size=(3, 3), stride=(1, 1), padding=(1, 1))\n",
       "  (batchnorm2): BatchNorm2d(64, eps=1e-05, momentum=0.1, affine=True, track_running_stats=True)\n",
       "  (fc1): Linear(in_features=1024, out_features=128, bias=True)\n",
       "  (fc1_bn): BatchNorm1d(128, eps=1e-05, momentum=0.1, affine=True, track_running_stats=True)\n",
       "  (fc2): Linear(in_features=128, out_features=3, bias=True)\n",
       "  (relu): LeakyReLU(negative_slope=0.01)\n",
       "  (dropout): Dropout(p=0.7, inplace=False)\n",
       ")"
      ]
     },
     "execution_count": 38,
     "metadata": {},
     "output_type": "execute_result"
    }
   ],
   "source": [
    "def initialize_weights(m):\n",
    "    if isinstance(m, torch.nn.Linear) or isinstance(m, torch.nn.Conv2d):\n",
    "        torch.nn.init.kaiming_uniform_(m.weight, nonlinearity='leaky_relu')\n",
    "        if m.bias is not None:\n",
    "            torch.nn.init.zeros_(m.bias)\n",
    "\n",
    "model.apply(initialize_weights)"
   ]
  },
  {
   "cell_type": "code",
   "execution_count": 97,
   "metadata": {},
   "outputs": [],
   "source": [
    "# for sipmle cnn\n",
    "loss_fn = nn.CrossEntropyLoss()\n",
    "optimizer = torch.optim.Adam(model.parameters(), lr=0.001)"
   ]
  },
  {
   "cell_type": "code",
   "execution_count": 39,
   "metadata": {},
   "outputs": [],
   "source": [
    "loss_fn = nn.BCEWithLogitsLoss()\n",
    "optimizer = torch.optim.Adam(model.parameters(), lr=0.01)\n",
    "# optimizer = torch.optim.Adadelta(model.parameters(), lr=10.0)"
   ]
  },
  {
   "cell_type": "code",
   "execution_count": 40,
   "metadata": {},
   "outputs": [],
   "source": [
    "def train(dataloader, model, loss_fn, optimizer, counter=False, clipping=False, debug=False):\n",
    "    size = len(dataloader.dataset)\n",
    "    model.train()\n",
    "    train_loss = 0\n",
    "    for batch, (X, y) in enumerate(dataloader):\n",
    "        X, y = X.to(device), y.to(device)\n",
    "        # print(f'X shape: {X.shape}, y shape: {y.shape}')\n",
    "        # Compute prediction error\n",
    "        pred = model(X)\n",
    "        # if counter:\n",
    "            # y = y.unsqueeze(1)\n",
    "        # print(f'pred shape: {pred.shape}, y shape: {y.shape}')\n",
    "        loss = loss_fn(pred, y)\n",
    "        # print(f'loss: {loss.item()}')\n",
    "        train_loss += loss.item()\n",
    "\n",
    "        # Backpropagation\n",
    "        loss.backward()\n",
    "\n",
    "        if clipping:\n",
    "            # Gradient clipping\n",
    "            torch.nn.utils.clip_grad_norm_(model.parameters(), max_norm=1.0)  # Adjust max_norm as needed\n",
    "        \n",
    "        if debug:\n",
    "            # Inspect gradients for each layer\n",
    "            for name, param in model.named_parameters():\n",
    "                if param.grad is not None:  # Only check if gradient is computed\n",
    "                    print(f\"Layer: {name} | Gradient mean: {param.grad.abs().mean().item()} | Gradient max: {param.grad.abs().max().item()}\")\n",
    "                else:\n",
    "                    print(f\"Layer: {name} has no gradient.\")\n",
    "\n",
    "        optimizer.step()\n",
    "        optimizer.zero_grad()\n",
    "\n",
    "        if batch % 100 == 0:\n",
    "            loss, current = loss.item(), (batch + 1) * len(X)\n",
    "            print(f\"loss: {loss:>7f}  [{current:>5d}/{size:>5d}]\")\n",
    "    train_loss /= len(dataloader)\n",
    "    return train_loss"
   ]
  },
  {
   "cell_type": "code",
   "execution_count": 41,
   "metadata": {},
   "outputs": [],
   "source": [
    "def test(dataloader, model, loss_fn):\n",
    "    size = len(dataloader.dataset)\n",
    "    num_batches = len(dataloader)\n",
    "    model.eval()\n",
    "    test_loss, correct = 0, 0\n",
    "    with torch.no_grad():\n",
    "        for X, y in dataloader:\n",
    "            X, y = X.to(device), y.to(device)\n",
    "            pred = model(X)\n",
    "            test_loss += loss_fn(pred, y).item()\n",
    "            correct += (pred.argmax(1) == y).type(torch.float).sum().item()\n",
    "    test_loss /= num_batches\n",
    "    correct /= size\n",
    "    print(f\"Test Error: \\n Accuracy: {(100*correct):>0.1f}%, Avg loss: {test_loss:>8f} \\n\")\n",
    "    return test_loss, correct"
   ]
  },
  {
   "cell_type": "code",
   "execution_count": 42,
   "metadata": {},
   "outputs": [],
   "source": [
    "def test_counter(dataloader, model, loss_fn):\n",
    "    size = len(dataloader.dataset)\n",
    "    num_batches = len(dataloader)\n",
    "    model.eval()\n",
    "    test_loss, correct = 0, 0\n",
    "    with torch.no_grad():\n",
    "        for X, y in dataloader:\n",
    "            X, y = X.to(device), y.to(device)\n",
    "            pred = model(X)\n",
    "            # y = y.unsqueeze_(1)\n",
    "            # print(X.shape)\n",
    "            # print(y.shape)\n",
    "            test_loss += loss_fn(pred, y).item()\n",
    "            final_pred = torch.round(torch.clamp(pred, min=0, max=1))\n",
    "            \n",
    "            # print(final_pred.shape)\n",
    "            # print(\"true\")\n",
    "            # print(y)\n",
    "            # print(\"pred\")\n",
    "            # print(final_pred)\n",
    "            # print(\"diff\")\n",
    "            # print(final_pred - y)\n",
    "            exact_match = torch.all(final_pred == torch.round(y), dim=1)\n",
    "            correct += torch.sum(exact_match).item()\n",
    "    test_loss /= num_batches\n",
    "    correct /= size\n",
    "    print(f\"Test Error: \\n Accuracy: {(100*correct):>0.1f}%, Avg loss: {test_loss:>8f} \\n\")\n",
    "    return test_loss, correct"
   ]
  },
  {
   "cell_type": "code",
   "execution_count": 43,
   "metadata": {},
   "outputs": [],
   "source": [
    "def train_early_stopping(train_loader, val_loader, model, loss_fn, optimizer, \n",
    "    epochs=50, early_stopping=True, patience=5, threshold=0.15, counter=False, clipping=False, debug=False):\n",
    "    train_losses = []\n",
    "    val_losses = []\n",
    "    best_val_loss = float('inf')\n",
    "    best_model = None\n",
    "    for t in range(epochs):\n",
    "        print(f\"Epoch {t+1}\\n-------------------------------\")\n",
    "        train_loss = train(train_loader, model, loss_fn, optimizer, counter=counter, clipping=clipping, debug=debug)\n",
    "        if counter:\n",
    "            val_loss, correct = test_counter(val_loader, model, loss_fn)\n",
    "        else:\n",
    "            val_loss, correct = test(val_loader, model, loss_fn)\n",
    "        train_losses.append(train_loss)\n",
    "        val_losses.append(val_loss)\n",
    "        if early_stopping:\n",
    "            if val_loss < best_val_loss:\n",
    "                best_val_loss = val_loss\n",
    "                best_model = model\n",
    "                patience_counter = 0\n",
    "            else:\n",
    "                if val_loss / best_val_loss > 1 + threshold:\n",
    "                    patience_counter += 1\n",
    "                    if patience_counter >= patience:\n",
    "                        print(f\"Early stopping at epoch {t+1}\")\n",
    "                        break\n",
    "        # print(f'patience_counter: {patience_counter}')\n",
    "    return best_model, train_losses, val_losses"
   ]
  },
  {
   "cell_type": "code",
   "execution_count": 664,
   "metadata": {},
   "outputs": [
    {
     "name": "stdout",
     "output_type": "stream",
     "text": [
      "Epoch 1\n",
      "-------------------------------\n",
      "loss: 0.801082  [   32/ 2450]\n"
     ]
    },
    {
     "ename": "RuntimeError",
     "evalue": "The size of tensor a (32) must match the size of tensor b (3) at non-singleton dimension 1",
     "output_type": "error",
     "traceback": [
      "\u001b[0;31m---------------------------------------------------------------------------\u001b[0m",
      "\u001b[0;31mRuntimeError\u001b[0m                              Traceback (most recent call last)",
      "Cell \u001b[0;32mIn[664], line 5\u001b[0m\n\u001b[1;32m      3\u001b[0m     \u001b[38;5;28mprint\u001b[39m(\u001b[38;5;124mf\u001b[39m\u001b[38;5;124m\"\u001b[39m\u001b[38;5;124mEpoch \u001b[39m\u001b[38;5;132;01m{\u001b[39;00mt\u001b[38;5;241m+\u001b[39m\u001b[38;5;241m1\u001b[39m\u001b[38;5;132;01m}\u001b[39;00m\u001b[38;5;130;01m\\n\u001b[39;00m\u001b[38;5;124m-------------------------------\u001b[39m\u001b[38;5;124m\"\u001b[39m)\n\u001b[1;32m      4\u001b[0m     train(train_loader, model, loss_fn, optimizer)\n\u001b[0;32m----> 5\u001b[0m     \u001b[43mtest\u001b[49m\u001b[43m(\u001b[49m\u001b[43mval_loader\u001b[49m\u001b[43m,\u001b[49m\u001b[43m \u001b[49m\u001b[43mmodel\u001b[49m\u001b[43m,\u001b[49m\u001b[43m \u001b[49m\u001b[43mloss_fn\u001b[49m\u001b[43m)\u001b[49m\n\u001b[1;32m      6\u001b[0m     \u001b[38;5;66;03m# test_counter(val_loader, model, loss_fn)\u001b[39;00m\n\u001b[1;32m      7\u001b[0m \u001b[38;5;28mprint\u001b[39m(\u001b[38;5;124m\"\u001b[39m\u001b[38;5;124mDone!\u001b[39m\u001b[38;5;124m\"\u001b[39m)\n",
      "Cell \u001b[0;32mIn[661], line 11\u001b[0m, in \u001b[0;36mtest\u001b[0;34m(dataloader, model, loss_fn)\u001b[0m\n\u001b[1;32m      9\u001b[0m         pred \u001b[38;5;241m=\u001b[39m model(X)\n\u001b[1;32m     10\u001b[0m         test_loss \u001b[38;5;241m+\u001b[39m\u001b[38;5;241m=\u001b[39m loss_fn(pred, y)\u001b[38;5;241m.\u001b[39mitem()\n\u001b[0;32m---> 11\u001b[0m         correct \u001b[38;5;241m+\u001b[39m\u001b[38;5;241m=\u001b[39m (\u001b[43mpred\u001b[49m\u001b[38;5;241;43m.\u001b[39;49m\u001b[43margmax\u001b[49m\u001b[43m(\u001b[49m\u001b[38;5;241;43m1\u001b[39;49m\u001b[43m)\u001b[49m\u001b[43m \u001b[49m\u001b[38;5;241;43m==\u001b[39;49m\u001b[43m \u001b[49m\u001b[43my\u001b[49m)\u001b[38;5;241m.\u001b[39mtype(torch\u001b[38;5;241m.\u001b[39mfloat)\u001b[38;5;241m.\u001b[39msum()\u001b[38;5;241m.\u001b[39mitem()\n\u001b[1;32m     12\u001b[0m test_loss \u001b[38;5;241m/\u001b[39m\u001b[38;5;241m=\u001b[39m num_batches\n\u001b[1;32m     13\u001b[0m correct \u001b[38;5;241m/\u001b[39m\u001b[38;5;241m=\u001b[39m size\n",
      "\u001b[0;31mRuntimeError\u001b[0m: The size of tensor a (32) must match the size of tensor b (3) at non-singleton dimension 1"
     ]
    }
   ],
   "source": [
    "epochs = 50\n",
    "for t in range(epochs):\n",
    "    print(f\"Epoch {t+1}\\n-------------------------------\")\n",
    "    train(train_loader, model, loss_fn, optimizer)\n",
    "    test(val_loader, model, loss_fn)\n",
    "    # test_counter(val_loader, model, loss_fn)\n",
    "print(\"Done!\")"
   ]
  },
  {
   "cell_type": "code",
   "execution_count": 44,
   "metadata": {},
   "outputs": [
    {
     "name": "stdout",
     "output_type": "stream",
     "text": [
      "Epoch 1\n",
      "-------------------------------\n",
      "loss: 0.855346  [   32/20000]\n",
      "loss: 0.643335  [ 3232/20000]\n",
      "loss: 0.533626  [ 6432/20000]\n",
      "loss: 0.542203  [ 9632/20000]\n",
      "loss: 0.595033  [12832/20000]\n",
      "loss: 0.549997  [16032/20000]\n",
      "loss: 0.569985  [19232/20000]\n",
      "Test Error: \n",
      " Accuracy: 25.0%, Avg loss: 0.561438 \n",
      "\n",
      "Epoch 2\n",
      "-------------------------------\n",
      "loss: 0.543111  [   32/20000]\n",
      "loss: 0.579272  [ 3232/20000]\n",
      "loss: 0.567110  [ 6432/20000]\n",
      "loss: 0.576267  [ 9632/20000]\n",
      "loss: 0.501127  [12832/20000]\n",
      "loss: 0.539399  [16032/20000]\n",
      "loss: 0.556141  [19232/20000]\n",
      "Test Error: \n",
      " Accuracy: 25.0%, Avg loss: 0.556523 \n",
      "\n",
      "Epoch 3\n",
      "-------------------------------\n",
      "loss: 0.502816  [   32/20000]\n",
      "loss: 0.491290  [ 3232/20000]\n",
      "loss: 0.500271  [ 6432/20000]\n",
      "loss: 0.540242  [ 9632/20000]\n",
      "loss: 0.505136  [12832/20000]\n",
      "loss: 0.476902  [16032/20000]\n",
      "loss: 0.518066  [19232/20000]\n",
      "Test Error: \n",
      " Accuracy: 25.0%, Avg loss: 0.553692 \n",
      "\n",
      "Epoch 4\n",
      "-------------------------------\n",
      "loss: 0.581470  [   32/20000]\n",
      "loss: 0.615769  [ 3232/20000]\n",
      "loss: 0.532229  [ 6432/20000]\n",
      "loss: 0.559748  [ 9632/20000]\n",
      "loss: 0.534419  [12832/20000]\n",
      "loss: 0.564868  [16032/20000]\n",
      "loss: 0.530705  [19232/20000]\n",
      "Test Error: \n",
      " Accuracy: 25.1%, Avg loss: 0.552780 \n",
      "\n",
      "Epoch 5\n",
      "-------------------------------\n",
      "loss: 0.558605  [   32/20000]\n",
      "loss: 0.573735  [ 3232/20000]\n",
      "loss: 0.550759  [ 6432/20000]\n",
      "loss: 0.573648  [ 9632/20000]\n",
      "loss: 0.551563  [12832/20000]\n",
      "loss: 0.594737  [16032/20000]\n",
      "loss: 0.517629  [19232/20000]\n",
      "Test Error: \n",
      " Accuracy: 25.4%, Avg loss: 0.555415 \n",
      "\n",
      "Epoch 6\n",
      "-------------------------------\n",
      "loss: 0.569672  [   32/20000]\n",
      "loss: 0.499089  [ 3232/20000]\n",
      "loss: 0.510328  [ 6432/20000]\n",
      "loss: 0.544602  [ 9632/20000]\n",
      "loss: 0.493232  [12832/20000]\n",
      "loss: 0.517244  [16032/20000]\n",
      "loss: 0.547134  [19232/20000]\n",
      "Test Error: \n",
      " Accuracy: 25.0%, Avg loss: 0.554332 \n",
      "\n",
      "Epoch 7\n",
      "-------------------------------\n",
      "loss: 0.577347  [   32/20000]\n",
      "loss: 0.524602  [ 3232/20000]\n",
      "loss: 0.544329  [ 6432/20000]\n",
      "loss: 0.528490  [ 9632/20000]\n",
      "loss: 0.534403  [12832/20000]\n",
      "loss: 0.514802  [16032/20000]\n",
      "loss: 0.512045  [19232/20000]\n",
      "Test Error: \n",
      " Accuracy: 25.0%, Avg loss: 0.552441 \n",
      "\n",
      "Epoch 8\n",
      "-------------------------------\n",
      "loss: 0.528306  [   32/20000]\n",
      "loss: 0.519983  [ 3232/20000]\n",
      "loss: 0.579078  [ 6432/20000]\n",
      "loss: 0.562110  [ 9632/20000]\n",
      "loss: 0.573049  [12832/20000]\n",
      "loss: 0.529087  [16032/20000]\n",
      "loss: 0.447689  [19232/20000]\n",
      "Test Error: \n",
      " Accuracy: 25.0%, Avg loss: 0.548535 \n",
      "\n",
      "Epoch 9\n",
      "-------------------------------\n",
      "loss: 0.503520  [   32/20000]\n",
      "loss: 0.577255  [ 3232/20000]\n",
      "loss: 0.520678  [ 6432/20000]\n",
      "loss: 0.539899  [ 9632/20000]\n",
      "loss: 0.543237  [12832/20000]\n",
      "loss: 0.561757  [16032/20000]\n",
      "loss: 0.550213  [19232/20000]\n",
      "Test Error: \n",
      " Accuracy: 25.0%, Avg loss: 0.548122 \n",
      "\n",
      "Epoch 10\n",
      "-------------------------------\n",
      "loss: 0.521160  [   32/20000]\n",
      "loss: 0.465469  [ 3232/20000]\n",
      "loss: 0.591447  [ 6432/20000]\n",
      "loss: 0.535776  [ 9632/20000]\n",
      "loss: 0.545017  [12832/20000]\n",
      "loss: 0.546061  [16032/20000]\n",
      "loss: 0.517289  [19232/20000]\n",
      "Test Error: \n",
      " Accuracy: 25.0%, Avg loss: 0.550928 \n",
      "\n",
      "Epoch 11\n",
      "-------------------------------\n",
      "loss: 0.573545  [   32/20000]\n",
      "loss: 0.508003  [ 3232/20000]\n",
      "loss: 0.532256  [ 6432/20000]\n",
      "loss: 0.528461  [ 9632/20000]\n",
      "loss: 0.546101  [12832/20000]\n",
      "loss: 0.482568  [16032/20000]\n",
      "loss: 0.517832  [19232/20000]\n",
      "Test Error: \n",
      " Accuracy: 25.7%, Avg loss: 0.543377 \n",
      "\n",
      "Epoch 12\n",
      "-------------------------------\n",
      "loss: 0.500076  [   32/20000]\n",
      "loss: 0.535027  [ 3232/20000]\n",
      "loss: 0.498420  [ 6432/20000]\n",
      "loss: 0.511559  [ 9632/20000]\n",
      "loss: 0.538195  [12832/20000]\n",
      "loss: 0.555205  [16032/20000]\n",
      "loss: 0.529238  [19232/20000]\n",
      "Test Error: \n",
      " Accuracy: 25.2%, Avg loss: 0.544375 \n",
      "\n",
      "Epoch 13\n",
      "-------------------------------\n",
      "loss: 0.476801  [   32/20000]\n",
      "loss: 0.546894  [ 3232/20000]\n",
      "loss: 0.539708  [ 6432/20000]\n",
      "loss: 0.542258  [ 9632/20000]\n",
      "loss: 0.532186  [12832/20000]\n",
      "loss: 0.586468  [16032/20000]\n",
      "loss: 0.495983  [19232/20000]\n",
      "Test Error: \n",
      " Accuracy: 26.2%, Avg loss: 0.542299 \n",
      "\n",
      "Epoch 14\n",
      "-------------------------------\n",
      "loss: 0.477836  [   32/20000]\n",
      "loss: 0.510399  [ 3232/20000]\n",
      "loss: 0.526044  [ 6432/20000]\n",
      "loss: 0.602451  [ 9632/20000]\n",
      "loss: 0.398343  [12832/20000]\n",
      "loss: 0.557921  [16032/20000]\n",
      "loss: 0.468043  [19232/20000]\n",
      "Test Error: \n",
      " Accuracy: 26.1%, Avg loss: 0.544353 \n",
      "\n",
      "Epoch 15\n",
      "-------------------------------\n",
      "loss: 0.477522  [   32/20000]\n",
      "loss: 0.558913  [ 3232/20000]\n",
      "loss: 0.487662  [ 6432/20000]\n",
      "loss: 0.507112  [ 9632/20000]\n",
      "loss: 0.511761  [12832/20000]\n",
      "loss: 0.541603  [16032/20000]\n",
      "loss: 0.544294  [19232/20000]\n",
      "Test Error: \n",
      " Accuracy: 26.7%, Avg loss: 0.545005 \n",
      "\n",
      "Epoch 16\n",
      "-------------------------------\n",
      "loss: 0.447786  [   32/20000]\n",
      "loss: 0.538656  [ 3232/20000]\n",
      "loss: 0.558610  [ 6432/20000]\n",
      "loss: 0.467115  [ 9632/20000]\n",
      "loss: 0.430582  [12832/20000]\n",
      "loss: 0.594295  [16032/20000]\n",
      "loss: 0.514254  [19232/20000]\n",
      "Test Error: \n",
      " Accuracy: 26.8%, Avg loss: 0.541453 \n",
      "\n",
      "Epoch 17\n",
      "-------------------------------\n",
      "loss: 0.411161  [   32/20000]\n",
      "loss: 0.518382  [ 3232/20000]\n",
      "loss: 0.515727  [ 6432/20000]\n",
      "loss: 0.398538  [ 9632/20000]\n",
      "loss: 0.433016  [12832/20000]\n",
      "loss: 0.449153  [16032/20000]\n",
      "loss: 0.451072  [19232/20000]\n",
      "Test Error: \n",
      " Accuracy: 26.6%, Avg loss: 0.541379 \n",
      "\n",
      "Epoch 18\n",
      "-------------------------------\n",
      "loss: 0.484421  [   32/20000]\n",
      "loss: 0.438405  [ 3232/20000]\n",
      "loss: 0.517669  [ 6432/20000]\n",
      "loss: 0.491761  [ 9632/20000]\n",
      "loss: 0.459001  [12832/20000]\n",
      "loss: 0.529448  [16032/20000]\n",
      "loss: 0.471424  [19232/20000]\n",
      "Test Error: \n",
      " Accuracy: 27.8%, Avg loss: 0.548314 \n",
      "\n",
      "Epoch 19\n",
      "-------------------------------\n",
      "loss: 0.509075  [   32/20000]\n",
      "loss: 0.416244  [ 3232/20000]\n",
      "loss: 0.417369  [ 6432/20000]\n",
      "loss: 0.477510  [ 9632/20000]\n",
      "loss: 0.471550  [12832/20000]\n",
      "loss: 0.517426  [16032/20000]\n",
      "loss: 0.394273  [19232/20000]\n",
      "Test Error: \n",
      " Accuracy: 28.4%, Avg loss: 0.559118 \n",
      "\n",
      "Epoch 20\n",
      "-------------------------------\n",
      "loss: 0.438758  [   32/20000]\n",
      "loss: 0.465756  [ 3232/20000]\n",
      "loss: 0.478974  [ 6432/20000]\n",
      "loss: 0.502925  [ 9632/20000]\n",
      "loss: 0.487393  [12832/20000]\n",
      "loss: 0.480876  [16032/20000]\n",
      "loss: 0.474311  [19232/20000]\n",
      "Test Error: \n",
      " Accuracy: 29.3%, Avg loss: 0.551738 \n",
      "\n",
      "Epoch 21\n",
      "-------------------------------\n",
      "loss: 0.416592  [   32/20000]\n",
      "loss: 0.471042  [ 3232/20000]\n",
      "loss: 0.509543  [ 6432/20000]\n",
      "loss: 0.563926  [ 9632/20000]\n",
      "loss: 0.399122  [12832/20000]\n",
      "loss: 0.417917  [16032/20000]\n",
      "loss: 0.406314  [19232/20000]\n",
      "Test Error: \n",
      " Accuracy: 28.2%, Avg loss: 0.548163 \n",
      "\n",
      "Epoch 22\n",
      "-------------------------------\n",
      "loss: 0.442399  [   32/20000]\n",
      "loss: 0.379338  [ 3232/20000]\n",
      "loss: 0.416470  [ 6432/20000]\n",
      "loss: 0.445358  [ 9632/20000]\n",
      "loss: 0.479955  [12832/20000]\n",
      "loss: 0.467009  [16032/20000]\n",
      "loss: 0.383150  [19232/20000]\n",
      "Test Error: \n",
      " Accuracy: 28.9%, Avg loss: 0.559489 \n",
      "\n",
      "Epoch 23\n",
      "-------------------------------\n",
      "loss: 0.354227  [   32/20000]\n",
      "loss: 0.363687  [ 3232/20000]\n",
      "loss: 0.416613  [ 6432/20000]\n",
      "loss: 0.504459  [ 9632/20000]\n",
      "loss: 0.381640  [12832/20000]\n",
      "loss: 0.465162  [16032/20000]\n",
      "loss: 0.499217  [19232/20000]\n",
      "Test Error: \n",
      " Accuracy: 29.3%, Avg loss: 0.558927 \n",
      "\n",
      "Epoch 24\n",
      "-------------------------------\n",
      "loss: 0.430086  [   32/20000]\n",
      "loss: 0.423458  [ 3232/20000]\n",
      "loss: 0.450667  [ 6432/20000]\n",
      "loss: 0.437697  [ 9632/20000]\n",
      "loss: 0.429943  [12832/20000]\n",
      "loss: 0.394272  [16032/20000]\n",
      "loss: 0.528497  [19232/20000]\n",
      "Test Error: \n",
      " Accuracy: 30.1%, Avg loss: 0.557457 \n",
      "\n",
      "Epoch 25\n",
      "-------------------------------\n",
      "loss: 0.354002  [   32/20000]\n",
      "loss: 0.463415  [ 3232/20000]\n",
      "loss: 0.496808  [ 6432/20000]\n",
      "loss: 0.428465  [ 9632/20000]\n",
      "loss: 0.471849  [12832/20000]\n",
      "loss: 0.495233  [16032/20000]\n",
      "loss: 0.310087  [19232/20000]\n",
      "Test Error: \n",
      " Accuracy: 29.9%, Avg loss: 0.557618 \n",
      "\n",
      "Epoch 26\n",
      "-------------------------------\n",
      "loss: 0.462950  [   32/20000]\n",
      "loss: 0.350017  [ 3232/20000]\n",
      "loss: 0.401665  [ 6432/20000]\n",
      "loss: 0.366176  [ 9632/20000]\n",
      "loss: 0.396323  [12832/20000]\n",
      "loss: 0.392629  [16032/20000]\n",
      "loss: 0.434803  [19232/20000]\n",
      "Test Error: \n",
      " Accuracy: 30.7%, Avg loss: 0.570815 \n",
      "\n",
      "Epoch 27\n",
      "-------------------------------\n",
      "loss: 0.444431  [   32/20000]\n",
      "loss: 0.413444  [ 3232/20000]\n",
      "loss: 0.383903  [ 6432/20000]\n",
      "loss: 0.452621  [ 9632/20000]\n",
      "loss: 0.380731  [12832/20000]\n",
      "loss: 0.376449  [16032/20000]\n",
      "loss: 0.376339  [19232/20000]\n",
      "Test Error: \n",
      " Accuracy: 31.1%, Avg loss: 0.598624 \n",
      "\n",
      "Epoch 28\n",
      "-------------------------------\n",
      "loss: 0.305285  [   32/20000]\n",
      "loss: 0.377516  [ 3232/20000]\n",
      "loss: 0.362440  [ 6432/20000]\n",
      "loss: 0.379410  [ 9632/20000]\n",
      "loss: 0.351810  [12832/20000]\n",
      "loss: 0.349082  [16032/20000]\n",
      "loss: 0.359598  [19232/20000]\n",
      "Test Error: \n",
      " Accuracy: 29.8%, Avg loss: 0.576487 \n",
      "\n",
      "Epoch 29\n",
      "-------------------------------\n",
      "loss: 0.344883  [   32/20000]\n",
      "loss: 0.370701  [ 3232/20000]\n",
      "loss: 0.309586  [ 6432/20000]\n",
      "loss: 0.367931  [ 9632/20000]\n",
      "loss: 0.354664  [12832/20000]\n",
      "loss: 0.429662  [16032/20000]\n",
      "loss: 0.440930  [19232/20000]\n",
      "Test Error: \n",
      " Accuracy: 32.0%, Avg loss: 0.587823 \n",
      "\n",
      "Epoch 30\n",
      "-------------------------------\n",
      "loss: 0.367289  [   32/20000]\n",
      "loss: 0.280163  [ 3232/20000]\n",
      "loss: 0.393490  [ 6432/20000]\n",
      "loss: 0.377198  [ 9632/20000]\n",
      "loss: 0.359778  [12832/20000]\n",
      "loss: 0.429016  [16032/20000]\n",
      "loss: 0.364835  [19232/20000]\n",
      "Test Error: \n",
      " Accuracy: 32.2%, Avg loss: 0.595745 \n",
      "\n",
      "Epoch 31\n",
      "-------------------------------\n",
      "loss: 0.375123  [   32/20000]\n",
      "loss: 0.223524  [ 3232/20000]\n",
      "loss: 0.269890  [ 6432/20000]\n",
      "loss: 0.276639  [ 9632/20000]\n",
      "loss: 0.463357  [12832/20000]\n",
      "loss: 0.313366  [16032/20000]\n",
      "loss: 0.407863  [19232/20000]\n",
      "Test Error: \n",
      " Accuracy: 32.3%, Avg loss: 0.596594 \n",
      "\n",
      "Epoch 32\n",
      "-------------------------------\n",
      "loss: 0.431020  [   32/20000]\n",
      "loss: 0.368408  [ 3232/20000]\n",
      "loss: 0.365382  [ 6432/20000]\n",
      "loss: 0.320205  [ 9632/20000]\n",
      "loss: 0.405947  [12832/20000]\n",
      "loss: 0.380702  [16032/20000]\n",
      "loss: 0.374858  [19232/20000]\n",
      "Test Error: \n",
      " Accuracy: 32.6%, Avg loss: 0.596786 \n",
      "\n",
      "Epoch 33\n",
      "-------------------------------\n",
      "loss: 0.367374  [   32/20000]\n",
      "loss: 0.353493  [ 3232/20000]\n",
      "loss: 0.257575  [ 6432/20000]\n",
      "loss: 0.289539  [ 9632/20000]\n",
      "loss: 0.333913  [12832/20000]\n",
      "loss: 0.269752  [16032/20000]\n",
      "loss: 0.338844  [19232/20000]\n",
      "Test Error: \n",
      " Accuracy: 33.0%, Avg loss: 0.603993 \n",
      "\n",
      "Epoch 34\n",
      "-------------------------------\n",
      "loss: 0.411225  [   32/20000]\n",
      "loss: 0.500285  [ 3232/20000]\n",
      "loss: 0.351450  [ 6432/20000]\n",
      "loss: 0.315928  [ 9632/20000]\n",
      "loss: 0.360026  [12832/20000]\n",
      "loss: 0.433758  [16032/20000]\n",
      "loss: 0.321642  [19232/20000]\n",
      "Test Error: \n",
      " Accuracy: 33.7%, Avg loss: 0.585998 \n",
      "\n",
      "Epoch 35\n",
      "-------------------------------\n",
      "loss: 0.305280  [   32/20000]\n",
      "loss: 0.258052  [ 3232/20000]\n",
      "loss: 0.243119  [ 6432/20000]\n",
      "loss: 0.298171  [ 9632/20000]\n",
      "loss: 0.321234  [12832/20000]\n",
      "loss: 0.511311  [16032/20000]\n",
      "loss: 0.316382  [19232/20000]\n",
      "Test Error: \n",
      " Accuracy: 33.1%, Avg loss: 0.618347 \n",
      "\n",
      "Epoch 36\n",
      "-------------------------------\n",
      "loss: 0.274236  [   32/20000]\n",
      "loss: 0.379259  [ 3232/20000]\n",
      "loss: 0.269082  [ 6432/20000]\n",
      "loss: 0.400503  [ 9632/20000]\n",
      "loss: 0.330947  [12832/20000]\n",
      "loss: 0.487671  [16032/20000]\n",
      "loss: 0.215519  [19232/20000]\n",
      "Test Error: \n",
      " Accuracy: 33.3%, Avg loss: 0.624509 \n",
      "\n",
      "Epoch 37\n",
      "-------------------------------\n",
      "loss: 0.350824  [   32/20000]\n",
      "loss: 0.341390  [ 3232/20000]\n",
      "loss: 0.308702  [ 6432/20000]\n",
      "loss: 0.246733  [ 9632/20000]\n",
      "loss: 0.233866  [12832/20000]\n",
      "loss: 0.292150  [16032/20000]\n",
      "loss: 0.335160  [19232/20000]\n",
      "Test Error: \n",
      " Accuracy: 33.9%, Avg loss: 0.644289 \n",
      "\n",
      "Epoch 38\n",
      "-------------------------------\n",
      "loss: 0.288739  [   32/20000]\n",
      "loss: 0.248151  [ 3232/20000]\n",
      "loss: 0.271576  [ 6432/20000]\n",
      "loss: 0.457752  [ 9632/20000]\n",
      "loss: 0.344453  [12832/20000]\n",
      "loss: 0.314731  [16032/20000]\n",
      "loss: 0.329214  [19232/20000]\n",
      "Test Error: \n",
      " Accuracy: 33.7%, Avg loss: 0.636250 \n",
      "\n",
      "Epoch 39\n",
      "-------------------------------\n",
      "loss: 0.318193  [   32/20000]\n",
      "loss: 0.191185  [ 3232/20000]\n",
      "loss: 0.347176  [ 6432/20000]\n",
      "loss: 0.263270  [ 9632/20000]\n",
      "loss: 0.287257  [12832/20000]\n",
      "loss: 0.355863  [16032/20000]\n",
      "loss: 0.243801  [19232/20000]\n",
      "Test Error: \n",
      " Accuracy: 35.0%, Avg loss: 0.623419 \n",
      "\n",
      "Epoch 40\n",
      "-------------------------------\n",
      "loss: 0.322439  [   32/20000]\n",
      "loss: 0.263360  [ 3232/20000]\n",
      "loss: 0.286362  [ 6432/20000]\n",
      "loss: 0.245264  [ 9632/20000]\n",
      "loss: 0.153950  [12832/20000]\n",
      "loss: 0.382787  [16032/20000]\n",
      "loss: 0.248584  [19232/20000]\n",
      "Test Error: \n",
      " Accuracy: 34.1%, Avg loss: 0.631647 \n",
      "\n",
      "Epoch 41\n",
      "-------------------------------\n",
      "loss: 0.314007  [   32/20000]\n",
      "loss: 0.252986  [ 3232/20000]\n",
      "loss: 0.342031  [ 6432/20000]\n",
      "loss: 0.273154  [ 9632/20000]\n",
      "loss: 0.273504  [12832/20000]\n",
      "loss: 0.359762  [16032/20000]\n",
      "loss: 0.261120  [19232/20000]\n",
      "Test Error: \n",
      " Accuracy: 35.4%, Avg loss: 0.635422 \n",
      "\n",
      "Epoch 42\n",
      "-------------------------------\n",
      "loss: 0.308933  [   32/20000]\n",
      "loss: 0.235297  [ 3232/20000]\n",
      "loss: 0.279418  [ 6432/20000]\n",
      "loss: 0.318131  [ 9632/20000]\n",
      "loss: 0.300724  [12832/20000]\n",
      "loss: 0.410319  [16032/20000]\n",
      "loss: 0.333317  [19232/20000]\n",
      "Test Error: \n",
      " Accuracy: 34.8%, Avg loss: 0.642759 \n",
      "\n",
      "Epoch 43\n",
      "-------------------------------\n",
      "loss: 0.235270  [   32/20000]\n",
      "loss: 0.233354  [ 3232/20000]\n",
      "loss: 0.277623  [ 6432/20000]\n",
      "loss: 0.272173  [ 9632/20000]\n",
      "loss: 0.263422  [12832/20000]\n",
      "loss: 0.341318  [16032/20000]\n",
      "loss: 0.327428  [19232/20000]\n",
      "Test Error: \n",
      " Accuracy: 35.1%, Avg loss: 0.664897 \n",
      "\n",
      "Epoch 44\n",
      "-------------------------------\n",
      "loss: 0.260899  [   32/20000]\n",
      "loss: 0.232536  [ 3232/20000]\n",
      "loss: 0.263596  [ 6432/20000]\n",
      "loss: 0.186712  [ 9632/20000]\n",
      "loss: 0.230835  [12832/20000]\n",
      "loss: 0.274733  [16032/20000]\n",
      "loss: 0.262142  [19232/20000]\n",
      "Test Error: \n",
      " Accuracy: 35.9%, Avg loss: 0.677535 \n",
      "\n",
      "Epoch 45\n",
      "-------------------------------\n",
      "loss: 0.244541  [   32/20000]\n",
      "loss: 0.274917  [ 3232/20000]\n",
      "loss: 0.288299  [ 6432/20000]\n",
      "loss: 0.222092  [ 9632/20000]\n",
      "loss: 0.258006  [12832/20000]\n",
      "loss: 0.363522  [16032/20000]\n",
      "loss: 0.223465  [19232/20000]\n",
      "Test Error: \n",
      " Accuracy: 34.8%, Avg loss: 0.650325 \n",
      "\n",
      "Epoch 46\n",
      "-------------------------------\n",
      "loss: 0.177187  [   32/20000]\n",
      "loss: 0.219116  [ 3232/20000]\n",
      "loss: 0.272600  [ 6432/20000]\n",
      "loss: 0.251082  [ 9632/20000]\n",
      "loss: 0.210254  [12832/20000]\n",
      "loss: 0.220234  [16032/20000]\n",
      "loss: 0.287073  [19232/20000]\n",
      "Test Error: \n",
      " Accuracy: 36.1%, Avg loss: 0.688837 \n",
      "\n",
      "Epoch 47\n",
      "-------------------------------\n",
      "loss: 0.215023  [   32/20000]\n",
      "loss: 0.344401  [ 3232/20000]\n",
      "loss: 0.272342  [ 6432/20000]\n",
      "loss: 0.300893  [ 9632/20000]\n",
      "loss: 0.264201  [12832/20000]\n",
      "loss: 0.304568  [16032/20000]\n",
      "loss: 0.446119  [19232/20000]\n",
      "Test Error: \n",
      " Accuracy: 34.7%, Avg loss: 0.677298 \n",
      "\n",
      "Early stopping at epoch 47\n"
     ]
    },
    {
     "data": {
      "image/png": "[encoded data removed]",
      "text/plain": [
       "<Figure size 640x480 with 1 Axes>"
      ]
     },
     "metadata": {},
     "output_type": "display_data"
    }
   ],
   "source": [
    "best_model, train_losses, val_losses = train_early_stopping(\n",
    "    train_loader, val_loader, model, loss_fn, optimizer, epochs=500, early_stopping=True,\n",
    "    threshold=0.2,\n",
    "    counter=True, clipping=True)\n",
    "\n",
    "# plot training and validation losses\n",
    "plt.figure()\n",
    "plt.plot(train_losses, label='train')\n",
    "plt.plot(val_losses, label='val')\n",
    "plt.legend()\n",
    "plt.show()\n",
    "\n",
    "\n",
    "model = best_model"
   ]
  },
  {
   "cell_type": "code",
   "execution_count": 53,
   "metadata": {},
   "outputs": [],
   "source": [
    "model_save_path = 'models/display-box-4.pth'"
   ]
  },
  {
   "cell_type": "code",
   "execution_count": 46,
   "metadata": {},
   "outputs": [],
   "source": [
    "torch.save(model.state_dict(), model_save_path)"
   ]
  },
  {
   "cell_type": "code",
   "execution_count": 54,
   "metadata": {},
   "outputs": [
    {
     "name": "stderr",
     "output_type": "stream",
     "text": [
      "/var/folders/3c/gwjrml9d76v_zwbyb2x6yc0r0000gn/T/ipykernel_73286/2522857457.py:2: FutureWarning: You are using `torch.load` with `weights_only=False` (the current default value), which uses the default pickle module implicitly. It is possible to construct malicious pickle data which will execute arbitrary code during unpickling (See https://github.com/pytorch/pytorch/blob/main/SECURITY.md#untrusted-models for more details). In a future release, the default value for `weights_only` will be flipped to `True`. This limits the functions that could be executed during unpickling. Arbitrary objects will no longer be allowed to be loaded via this mode unless they are explicitly allowlisted by the user via `torch.serialization.add_safe_globals`. We recommend you start setting `weights_only=True` for any use case where you don't have full control of the loaded file. Please open an issue on GitHub for any issues related to this experimental feature.\n",
      "  model.load_state_dict(torch.load(model_save_path))\n"
     ]
    },
    {
     "data": {
      "text/plain": [
       "<All keys matched successfully>"
      ]
     },
     "execution_count": 54,
     "metadata": {},
     "output_type": "execute_result"
    }
   ],
   "source": [
    "model = CounterCNN().to(device)\n",
    "model.load_state_dict(torch.load(model_save_path))"
   ]
  },
  {
   "cell_type": "code",
   "execution_count": 55,
   "metadata": {},
   "outputs": [
    {
     "name": "stdout",
     "output_type": "stream",
     "text": [
      "Test Error: \n",
      " Accuracy: 33.6%, Avg loss: 0.662207 \n",
      "\n"
     ]
    },
    {
     "data": {
      "text/plain": [
       "(0.6622068341166828, 0.3364)"
      ]
     },
     "execution_count": 55,
     "metadata": {},
     "output_type": "execute_result"
    }
   ],
   "source": [
    "# Out of sample test\n",
    "model.eval()\n",
    "# test(test_loader, model, loss_fn)\n",
    "test_counter(test_loader, model, loss_fn)"
   ]
  },
  {
   "cell_type": "code",
   "execution_count": 56,
   "metadata": {},
   "outputs": [
    {
     "name": "stdout",
     "output_type": "stream",
     "text": [
      "Predicted class: 1, Actual label: tensor([0., 1., 0.])\n",
      "Predicted class: 0, Actual label: tensor([0., 0., 0.])\n",
      "Predicted class: 1, Actual label: tensor([0., 1., 0.])\n",
      "Predicted class: 0, Actual label: tensor([0., 0., 0.])\n",
      "Predicted class: 0, Actual label: tensor([0., 0., 0.])\n",
      "Predicted class: 0, Actual label: tensor([0., 0., 1.])\n",
      "Predicted class: 0, Actual label: tensor([0., 1., 0.])\n",
      "Predicted class: 1, Actual label: tensor([0., 1., 0.])\n",
      "Predicted class: 1, Actual label: tensor([0., 1., 0.])\n",
      "Predicted class: 0, Actual label: tensor([1., 0., 0.])\n",
      "Predicted class: 1, Actual label: tensor([0., 0., 0.])\n",
      "Predicted class: 0, Actual label: tensor([0., 0., 1.])\n",
      "Predicted class: 2, Actual label: tensor([0., 0., 1.])\n",
      "Predicted class: 1, Actual label: tensor([0., 0., 1.])\n",
      "Predicted class: 1, Actual label: tensor([0., 0., 0.])\n",
      "Predicted class: 1, Actual label: tensor([0., 1., 0.])\n",
      "Predicted class: 0, Actual label: tensor([0., 0., 0.])\n",
      "Predicted class: 1, Actual label: tensor([1., 0., 0.])\n",
      "Predicted class: 0, Actual label: tensor([0., 1., 0.])\n",
      "Predicted class: 0, Actual label: tensor([0., 0., 0.])\n"
     ]
    }
   ],
   "source": [
    "for i in range(20):\n",
    "    # Get a single example from the test dataset\n",
    "    example_data, example_label = test_dataset[i]\n",
    "\n",
    "    # Move the example data to the appropriate device\n",
    "    example_data = example_data.unsqueeze(0).to(device)\n",
    "\n",
    "    # Set the model to evaluation mode\n",
    "    model.eval()\n",
    "\n",
    "    # Get the model's prediction\n",
    "    with torch.no_grad():\n",
    "        example_data = example_data.to(device)\n",
    "        output = model(example_data)\n",
    "\n",
    "    # Get the predicted class\n",
    "    predicted_class = output.argmax(dim=1).item()\n",
    "\n",
    "    # Print the predicted class and the actual label\n",
    "    print(f'Predicted class: {predicted_class}, Actual label: {example_label}')"
   ]
  },
  {
   "cell_type": "code",
   "execution_count": 57,
   "metadata": {},
   "outputs": [
    {
     "name": "stdout",
     "output_type": "stream",
     "text": [
      "[[0. 0. 0.]\n",
      " [0. 0. 0.]\n",
      " [0. 0. 0.]\n",
      " ...\n",
      " [0. 0. 0.]\n",
      " [0. 0. 0.]\n",
      " [0. 0. 0.]]\n"
     ]
    }
   ],
   "source": [
    "# Set the model to evaluation mode\n",
    "model.eval()\n",
    "\n",
    "# Initialize a list to store predictions\n",
    "predictions = []\n",
    "\n",
    "# Disable gradient calculation\n",
    "with torch.no_grad():\n",
    "    for X, _ in test_loader:\n",
    "        X = X.to(device)\n",
    "        output = model(X)\n",
    "        # predicted_classes = output.argmax(dim=1)\n",
    "        # predictions.extend(predicted_classes.cpu().numpy())\n",
    "        predicted_zones = torch.round(torch.clamp(output, min=0, max=1))\n",
    "        predictions.extend(predicted_zones.cpu().numpy())\n",
    "\n",
    "# Convert predictions to a numpy array\n",
    "y_preds = np.array(predictions)\n",
    "print(y_preds)\n",
    "\n",
    "y_test = np.array([y for _, y in test_dataset])"
   ]
  },
  {
   "cell_type": "code",
   "execution_count": 116,
   "metadata": {},
   "outputs": [
    {
     "name": "stdout",
     "output_type": "stream",
     "text": [
      "[1 0 1 ... 2 2 2]\n"
     ]
    }
   ],
   "source": [
    "# FULL DATASET\n",
    "# Create a DataLoader for the entire dataset\n",
    "full_loader = DataLoader(dataset, batch_size=batch_size, shuffle=False)\n",
    "\n",
    "# Set the model to evaluation mode\n",
    "model.eval()\n",
    "\n",
    "# Initialize a list to store the predictions\n",
    "predictions = []\n",
    "\n",
    "# Disable gradient calculation\n",
    "with torch.no_grad():\n",
    "    for X, _ in full_loader:\n",
    "        X = X.to(device)\n",
    "        output = model(X)\n",
    "        predicted_classes = output.argmax(dim=1)\n",
    "        predictions.extend(predicted_classes.cpu().numpy())\n",
    "\n",
    "# Convert outputs to a numpy array\n",
    "y_preds = np.array(predictions)\n",
    "print(y_preds)\n",
    "\n",
    "y_test = np.array([y for _, y in dataset])"
   ]
  },
  {
   "cell_type": "code",
   "execution_count": 58,
   "metadata": {},
   "outputs": [
    {
     "data": {
      "image/png": "[encoded data removed]",
      "text/plain": [
       "<Figure size 800x600 with 2 Axes>"
      ]
     },
     "metadata": {},
     "output_type": "display_data"
    }
   ],
   "source": [
    "y_test = np.array([y[0] for _, y in test_dataset]).astype(int)\n",
    "y_preds = np.array([p[0] for p in predictions]).astype(int)\n",
    "conf_matrix = confusion_matrix(y_test, y_preds)\n",
    "conf_matrix_normalized = conf_matrix.astype('float') / conf_matrix.sum(axis=1)[:, np.newaxis]\n",
    "\n",
    "# Change figure size and increase dpi for better resolution\n",
    "plt.figure(figsize=(8,6), dpi=100)\n",
    "# Scale up the size of all text\n",
    " \n",
    "# Plot Confusion Matrix using Seaborn heatmap()\n",
    "# Parameters:\n",
    "# first param - confusion matrix in array format   \n",
    "# annot = True: show the numbers in each heatmap cell\n",
    "# fmt = 'd': show numbers as integers. \n",
    "ax = sns.heatmap(conf_matrix_normalized, annot=True, fmt='.2f', )\n",
    " \n",
    "# set x-axis label and ticks. \n",
    "ax.set_xlabel(\"Predicted\", fontsize=14, labelpad=20)\n",
    "# tick_labels = [0, 1, 2, 3, 4, 5, 6, 7, 8, 9, 11, 12, 13, 14, 15, 16, 17, 18, 19]\n",
    "# tick_labels = [0, 1, 2, 3, 4, 5, 6, 7, 8, 9]\n",
    "# tick_labels = [0, 1, 2, 3, 4, 5, 6]\n",
    "# tick_labels = [0, 1, 2]\n",
    "tick_labels = [0, 1]\n",
    "ax.xaxis.set_ticklabels(tick_labels)\n",
    " \n",
    "# set y-axis label and ticks\n",
    "ax.set_ylabel(\"Actual\", fontsize=14, labelpad=20)\n",
    "ax.yaxis.set_ticklabels(tick_labels)\n",
    " \n",
    "# set plot title\n",
    "ax.set_title(\"Confusion Matrix\", fontsize=14, pad=20)\n",
    " \n",
    "plt.show()"
   ]
  },
  {
   "cell_type": "code",
   "execution_count": 1158,
   "metadata": {},
   "outputs": [
    {
     "data": {
      "text/plain": [
       "array([0, 0, 0, 0, 1, 0, 1, 0, 0, 0, 0, 0, 0, 1, 0, 1, 0, 1, 0, 1, 0, 0,\n",
       "       0, 0, 0, 0, 0, 0, 0, 1, 0, 0, 0, 1, 1, 0, 0, 1, 0, 0, 0, 1, 1, 1,\n",
       "       0, 1, 0, 1, 1, 1, 0, 1, 1, 1, 1, 0, 0, 0, 1, 0, 1, 0, 1, 0, 1, 1,\n",
       "       0, 0, 1, 0, 1, 1, 0, 0, 1, 1, 0, 0, 1, 0, 0, 0, 1, 0, 0, 0, 0, 1,\n",
       "       0, 1, 1, 0, 1, 1, 1, 1, 0, 0, 1, 0, 0, 1, 1, 0, 1, 0, 1, 0, 1, 1,\n",
       "       1, 0, 0, 1, 0, 0, 0, 0, 0, 0, 0, 0, 0, 0, 0, 1, 0, 0, 1, 0, 0, 0,\n",
       "       0, 0, 0, 0, 1, 0, 1, 1, 1, 1, 1, 0, 1, 0, 1, 0, 1, 1, 1, 0, 0, 1,\n",
       "       0, 0, 1, 0, 0, 1, 1, 1, 1, 1, 0, 1, 0, 0, 1, 0, 1, 0, 0, 0, 1, 0,\n",
       "       1, 0, 0, 1, 0, 0, 0, 1, 0, 1, 1, 1, 0, 0, 1, 1, 0, 1, 0, 0, 0, 0,\n",
       "       0, 0, 0, 0, 1, 0, 1, 0, 0, 0, 1, 0, 1, 1, 0, 1, 0, 0, 1, 0, 0, 0,\n",
       "       0, 0, 0, 1, 0, 0, 0, 1, 0, 0, 0, 0, 0, 1, 1, 1, 1, 0, 0, 1, 0, 1,\n",
       "       0, 0, 1, 1, 0, 0, 0, 0, 0, 1, 0, 1, 0, 1, 0, 1, 0, 0, 0, 1, 1, 0,\n",
       "       1, 1, 0, 0, 1, 1, 1, 1, 0, 1, 1, 1, 0, 0, 1, 0, 1, 1, 1, 1, 0, 0,\n",
       "       0, 0, 0, 1, 0, 0, 1, 1, 1, 1, 0, 0, 0, 0, 1, 1, 1, 0, 0, 0, 1, 1,\n",
       "       0, 0, 0, 0, 0, 0, 0, 0, 1, 0, 0, 1, 0, 0, 1, 0, 0, 0, 0, 1, 1, 0,\n",
       "       1, 0, 0, 1, 0, 0, 1, 1, 1, 0, 0, 0, 1, 1, 0, 0, 1, 0, 0, 0, 0, 1,\n",
       "       1, 0, 0, 1, 0, 0, 0, 0, 0, 0, 0, 1, 0, 1, 1, 0, 0, 1, 0, 1, 0, 1,\n",
       "       1, 0, 1, 0, 0, 0, 0, 0, 0, 0, 1, 1, 1, 0, 0, 1, 1, 0, 1, 0, 1, 0,\n",
       "       1, 0, 0, 1, 0, 0, 1, 1, 1, 1, 0, 0, 0, 1, 0, 0, 0, 1, 1, 1, 1, 0,\n",
       "       0, 0, 1, 1, 1, 0, 0, 1, 0, 1, 0, 1, 0, 0, 0, 1, 0, 0, 0, 0, 1, 1,\n",
       "       0, 0, 1, 0, 0, 0, 1, 0, 0, 0, 0, 1, 1, 1, 0, 1, 1, 0, 1, 0, 1, 1,\n",
       "       0, 0, 0, 0, 0, 0, 0, 0, 0, 0, 1, 0, 0, 0, 1, 1, 1, 0, 1, 0, 1, 0,\n",
       "       0, 1, 0, 0, 1, 0, 0, 0, 1, 0, 0, 0, 1, 1, 0, 0, 1, 0, 1, 1, 0, 1,\n",
       "       1, 1, 0, 1, 1, 1, 1, 0, 0, 1, 0, 0, 0, 0, 0, 0, 0, 0, 0])"
      ]
     },
     "execution_count": 1158,
     "metadata": {},
     "output_type": "execute_result"
    }
   ],
   "source": [
    "y_test"
   ]
  },
  {
   "cell_type": "code",
   "execution_count": 117,
   "metadata": {},
   "outputs": [
    {
     "data": {
      "text/plain": [
       "array([[0, 0, 1],\n",
       "       [0, 0, 0],\n",
       "       [0, 0, 1],\n",
       "       ...,\n",
       "       [0, 0, 0],\n",
       "       [1, 0, 0],\n",
       "       [0, 1, 0]])"
      ]
     },
     "execution_count": 117,
     "metadata": {},
     "output_type": "execute_result"
    }
   ],
   "source": [
    "y_test"
   ]
  },
  {
   "cell_type": "code",
   "execution_count": 119,
   "metadata": {},
   "outputs": [
    {
     "data": {
      "text/plain": [
       "array([[0, 0, 1],\n",
       "       [0, 0, 0],\n",
       "       [0, 0, 1],\n",
       "       ...,\n",
       "       [0, 0, 0],\n",
       "       [1, 0, 0],\n",
       "       [0, 1, 0]])"
      ]
     },
     "execution_count": 119,
     "metadata": {},
     "output_type": "execute_result"
    }
   ],
   "source": [
    "y_preds"
   ]
  },
  {
   "cell_type": "code",
   "execution_count": 120,
   "metadata": {},
   "outputs": [
    {
     "data": {
      "text/plain": [
       "array([1, 0, 1, ..., 0, 4, 2])"
      ]
     },
     "execution_count": 120,
     "metadata": {},
     "output_type": "execute_result"
    }
   ],
   "source": [
    "category_y_preds"
   ]
  },
  {
   "cell_type": "code",
   "execution_count": 59,
   "metadata": {},
   "outputs": [
    {
     "name": "stdout",
     "output_type": "stream",
     "text": [
      "[0.7415 0.7472 0.7581]\n"
     ]
    },
    {
     "ename": "ValueError",
     "evalue": "The number of FixedLocator locations (4), usually from a call to set_ticks, does not match the number of labels (8).",
     "output_type": "error",
     "traceback": [
      "\u001b[0;31m---------------------------------------------------------------------------\u001b[0m",
      "\u001b[0;31mValueError\u001b[0m                                Traceback (most recent call last)",
      "Cell \u001b[0;32mIn[59], line 34\u001b[0m\n\u001b[1;32m     32\u001b[0m tick_labels \u001b[38;5;241m=\u001b[39m [\u001b[38;5;124m\"\u001b[39m\u001b[38;5;124m000\u001b[39m\u001b[38;5;124m\"\u001b[39m, \u001b[38;5;124m\"\u001b[39m\u001b[38;5;124m001\u001b[39m\u001b[38;5;124m\"\u001b[39m, \u001b[38;5;124m\"\u001b[39m\u001b[38;5;124m010\u001b[39m\u001b[38;5;124m\"\u001b[39m, \u001b[38;5;124m\"\u001b[39m\u001b[38;5;124m011\u001b[39m\u001b[38;5;124m\"\u001b[39m, \u001b[38;5;124m\"\u001b[39m\u001b[38;5;124m100\u001b[39m\u001b[38;5;124m\"\u001b[39m, \u001b[38;5;124m\"\u001b[39m\u001b[38;5;124m101\u001b[39m\u001b[38;5;124m\"\u001b[39m, \u001b[38;5;124m\"\u001b[39m\u001b[38;5;124m110\u001b[39m\u001b[38;5;124m\"\u001b[39m, \u001b[38;5;124m\"\u001b[39m\u001b[38;5;124m111\u001b[39m\u001b[38;5;124m\"\u001b[39m]\n\u001b[1;32m     33\u001b[0m \u001b[38;5;66;03m# tick_labels = [\"000\", \"001\", \"010\", \"100\"]\u001b[39;00m\n\u001b[0;32m---> 34\u001b[0m \u001b[43max\u001b[49m\u001b[38;5;241;43m.\u001b[39;49m\u001b[43mxaxis\u001b[49m\u001b[38;5;241;43m.\u001b[39;49m\u001b[43mset_ticklabels\u001b[49m\u001b[43m(\u001b[49m\u001b[43mtick_labels\u001b[49m\u001b[43m)\u001b[49m\n\u001b[1;32m     36\u001b[0m \u001b[38;5;66;03m# set y-axis label and ticks\u001b[39;00m\n\u001b[1;32m     37\u001b[0m ax\u001b[38;5;241m.\u001b[39mset_ylabel(\u001b[38;5;124m\"\u001b[39m\u001b[38;5;124mActual\u001b[39m\u001b[38;5;124m\"\u001b[39m, fontsize\u001b[38;5;241m=\u001b[39m\u001b[38;5;241m14\u001b[39m, labelpad\u001b[38;5;241m=\u001b[39m\u001b[38;5;241m20\u001b[39m)\n",
      "File \u001b[0;32m~/Documents/Camera Culture/sensor package/venv/lib/python3.12/site-packages/matplotlib/axis.py:2071\u001b[0m, in \u001b[0;36mAxis.set_ticklabels\u001b[0;34m(self, labels, minor, fontdict, **kwargs)\u001b[0m\n\u001b[1;32m   2067\u001b[0m \u001b[38;5;28;01melif\u001b[39;00m \u001b[38;5;28misinstance\u001b[39m(locator, mticker\u001b[38;5;241m.\u001b[39mFixedLocator):\n\u001b[1;32m   2068\u001b[0m     \u001b[38;5;66;03m# Passing [] as a list of labels is often used as a way to\u001b[39;00m\n\u001b[1;32m   2069\u001b[0m     \u001b[38;5;66;03m# remove all tick labels, so only error for > 0 labels\u001b[39;00m\n\u001b[1;32m   2070\u001b[0m     \u001b[38;5;28;01mif\u001b[39;00m \u001b[38;5;28mlen\u001b[39m(locator\u001b[38;5;241m.\u001b[39mlocs) \u001b[38;5;241m!=\u001b[39m \u001b[38;5;28mlen\u001b[39m(labels) \u001b[38;5;129;01mand\u001b[39;00m \u001b[38;5;28mlen\u001b[39m(labels) \u001b[38;5;241m!=\u001b[39m \u001b[38;5;241m0\u001b[39m:\n\u001b[0;32m-> 2071\u001b[0m         \u001b[38;5;28;01mraise\u001b[39;00m \u001b[38;5;167;01mValueError\u001b[39;00m(\n\u001b[1;32m   2072\u001b[0m             \u001b[38;5;124m\"\u001b[39m\u001b[38;5;124mThe number of FixedLocator locations\u001b[39m\u001b[38;5;124m\"\u001b[39m\n\u001b[1;32m   2073\u001b[0m             \u001b[38;5;124mf\u001b[39m\u001b[38;5;124m\"\u001b[39m\u001b[38;5;124m (\u001b[39m\u001b[38;5;132;01m{\u001b[39;00m\u001b[38;5;28mlen\u001b[39m(locator\u001b[38;5;241m.\u001b[39mlocs)\u001b[38;5;132;01m}\u001b[39;00m\u001b[38;5;124m), usually from a call to\u001b[39m\u001b[38;5;124m\"\u001b[39m\n\u001b[1;32m   2074\u001b[0m             \u001b[38;5;124m\"\u001b[39m\u001b[38;5;124m set_ticks, does not match\u001b[39m\u001b[38;5;124m\"\u001b[39m\n\u001b[1;32m   2075\u001b[0m             \u001b[38;5;124mf\u001b[39m\u001b[38;5;124m\"\u001b[39m\u001b[38;5;124m the number of labels (\u001b[39m\u001b[38;5;132;01m{\u001b[39;00m\u001b[38;5;28mlen\u001b[39m(labels)\u001b[38;5;132;01m}\u001b[39;00m\u001b[38;5;124m).\u001b[39m\u001b[38;5;124m\"\u001b[39m)\n\u001b[1;32m   2076\u001b[0m     tickd \u001b[38;5;241m=\u001b[39m {loc: lab \u001b[38;5;28;01mfor\u001b[39;00m loc, lab \u001b[38;5;129;01min\u001b[39;00m \u001b[38;5;28mzip\u001b[39m(locator\u001b[38;5;241m.\u001b[39mlocs, labels)}\n\u001b[1;32m   2077\u001b[0m     func \u001b[38;5;241m=\u001b[39m functools\u001b[38;5;241m.\u001b[39mpartial(\u001b[38;5;28mself\u001b[39m\u001b[38;5;241m.\u001b[39m_format_with_dict, tickd)\n",
      "\u001b[0;31mValueError\u001b[0m: The number of FixedLocator locations (4), usually from a call to set_ticks, does not match the number of labels (8)."
     ]
    },
    {
     "data": {
      "image/png": "[encoded data removed]",
      "text/plain": [
       "<Figure size 800x600 with 2 Axes>"
      ]
     },
     "metadata": {},
     "output_type": "display_data"
    }
   ],
   "source": [
    "y_test = np.array([y for _, y in test_dataset]).astype(int)\n",
    "y_preds = np.array([p for p in predictions]).astype(int)\n",
    "\n",
    "# plot accuracy of each zone\n",
    "correct = (y_test == y_preds)\n",
    "zone_correct = np.sum(correct, axis=0)\n",
    "zone_total = np.sum(y_test == y_test, axis=0)\n",
    "\n",
    "zone_accuracy = zone_correct / zone_total\n",
    "print(zone_accuracy)\n",
    "\n",
    "category_y_test = y_test.dot(2**np.arange(2, -1, -1))\n",
    "category_y_preds = y_preds.dot(2**np.arange(2, -1, -1))\n",
    "\n",
    "conf_matrix = confusion_matrix(category_y_test, category_y_preds)\n",
    "conf_matrix_normalized = conf_matrix.astype('float') / conf_matrix.sum(axis=1)[:, np.newaxis]\n",
    "\n",
    "# Change figure size and increase dpi for better resolution\n",
    "plt.figure(figsize=(8,6), dpi=100)\n",
    "# Scale up the size of all text\n",
    " \n",
    "# Plot Confusion Matrix using Seaborn heatmap()\n",
    "# Parameters:\n",
    "# first param - confusion matrix in array format   \n",
    "# annot = True: show the numbers in each heatmap cell\n",
    "# fmt = 'd': show numbers as integers. \n",
    "ax = sns.heatmap(conf_matrix_normalized, annot=True, fmt='.2f', )\n",
    " \n",
    "# set x-axis label and ticks. \n",
    "ax.set_xlabel(\"Predicted\", fontsize=14, labelpad=20)\n",
    "# tick_labels = [\"000\", \"001\", \"010\", \"011\", \"100\", \"101\", \"110\"]\n",
    "tick_labels = [\"000\", \"001\", \"010\", \"011\", \"100\", \"101\", \"110\", \"111\"]\n",
    "# tick_labels = [\"000\", \"001\", \"010\", \"100\"]\n",
    "ax.xaxis.set_ticklabels(tick_labels)\n",
    " \n",
    "# set y-axis label and ticks\n",
    "ax.set_ylabel(\"Actual\", fontsize=14, labelpad=20)\n",
    "ax.yaxis.set_ticklabels(tick_labels)\n",
    " \n",
    "# set plot title\n",
    "ax.set_title(\"Confusion Matrix\", fontsize=14, pad=20)\n",
    " \n",
    "plt.show()"
   ]
  },
  {
   "cell_type": "code",
   "execution_count": null,
   "metadata": {},
   "outputs": [],
   "source": []
  },
  {
   "cell_type": "code",
   "execution_count": null,
   "metadata": {},
   "outputs": [],
   "source": []
  }
 ],
 "metadata": {
  "kernelspec": {
   "display_name": "venv",
   "language": "python",
   "name": "python3"
  },
  "language_info": {
   "codemirror_mode": {
    "name": "ipython",
    "version": 3
   },
   "file_extension": ".py",
   "mimetype": "text/x-python",
   "name": "python",
   "nbconvert_exporter": "python",
   "pygments_lexer": "ipython3",
   "version": "3.12.2"
  }
 },
 "nbformat": 4,
 "nbformat_minor": 2
}
