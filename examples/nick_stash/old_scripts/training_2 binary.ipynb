{
 "cells": [
  {
   "cell_type": "code",
   "execution_count": 15,
   "metadata": {},
   "outputs": [],
   "source": [
    "import numpy as np\n",
    "import torch\n",
    "from torch.utils.data import DataLoader, TensorDataset, random_split\n",
    "from torch import nn\n",
    "\n",
    "from scipy.ndimage import gaussian_filter\n",
    "\n",
    "import matplotlib.pyplot as plt\n",
    "import seaborn as sns\n",
    "from sklearn.metrics import confusion_matrix"
   ]
  },
  {
   "cell_type": "code",
   "execution_count": 16,
   "metadata": {},
   "outputs": [],
   "source": [
    "# load dataset\n",
    "height = 4\n",
    "width = 4\n",
    "depth = 24\n",
    "\n",
    "all_hists = []\n",
    "labels = []\n",
    "zero_hists = []\n",
    "\n",
    "zone_to_label = {\n",
    "    0: [0],\n",
    "    1: [1],\n",
    "    2: [1],\n",
    "    3: [1],\n",
    "    4: [1],\n",
    "    5: [1],\n",
    "    6: [1],\n",
    "}"
   ]
  },
  {
   "cell_type": "code",
   "execution_count": 17,
   "metadata": {},
   "outputs": [],
   "source": [
    "for i in range(4):\n",
    "    hists = np.load(f'datasets/display-box-2/histograms_{i}.npy')\n",
    "    all_hists.append(hists)\n",
    "\n",
    "    if i == 0:\n",
    "        zero_hists.append(hists)\n",
    "\n",
    "    labels += [zone_to_label[i]] * len(hists)"
   ]
  },
  {
   "cell_type": "code",
   "execution_count": 18,
   "metadata": {},
   "outputs": [],
   "source": [
    "zero_hists = np.concatenate(zero_hists, axis=0)\n",
    "all_hists = np.concatenate(all_hists, axis=0)\n",
    "labels = np.array(labels)\n",
    "\n",
    "all_hists = all_hists.reshape(-1, height, width, depth)\n",
    "# move depth to the front\n",
    "all_hists = np.moveaxis(all_hists, -1, 1)\n",
    "\n",
    "zero_hists = zero_hists.reshape(-1, height, width, depth)\n",
    "zero_hists = np.moveaxis(zero_hists, -1, 1)"
   ]
  },
  {
   "cell_type": "code",
   "execution_count": 19,
   "metadata": {},
   "outputs": [
    {
     "name": "stdout",
     "output_type": "stream",
     "text": [
      "Original shape: (4000, 24, 4, 4)\n",
      "Filtered shape: (3819, 24, 4, 4)\n"
     ]
    }
   ],
   "source": [
    "# Compute the mean and standard deviation for each position (24, 4, 4) across all samples\n",
    "mean = all_hists.mean(axis=0)  # Shape: (24, 4, 4)\n",
    "std = all_hists.std(axis=0)    # Shape: (24, 4, 4)\n",
    "\n",
    "# Compute the threshold for values being within 3 standard deviations\n",
    "lower_bound = mean - 3 * std\n",
    "upper_bound = mean + 3 * std\n",
    "\n",
    "# Only consider the first n values along the depth axis (shape: n x 4 x 4)\n",
    "n = 4\n",
    "data_to_check = all_hists[:, :n, :, :]  # Shape: (4000, n, 4, 4)\n",
    "lower_bound_check = lower_bound[:n, :, :]  # Shape: (n, 4, 4)\n",
    "upper_bound_check = upper_bound[:n, :, :]  # Shape: (n, 4, 4)\n",
    "\n",
    "# Identify samples where all values in the first 3 indices along the depth axis are within bounds\n",
    "valid_mask = np.all((data_to_check >= lower_bound_check) & (data_to_check <= upper_bound_check), axis=(1, 2, 3))\n",
    "\n",
    "# Apply the mask to filter the samples\n",
    "filtered_all_hists = all_hists[valid_mask]\n",
    "filtered_labels = labels[valid_mask]\n",
    "\n",
    "# Check the shapes of the original and filtered arrays\n",
    "print(f\"Original shape: {all_hists.shape}\")\n",
    "print(f\"Filtered shape: {filtered_all_hists.shape}\")\n",
    "all_hists = filtered_all_hists\n",
    "labels = filtered_labels"
   ]
  },
  {
   "cell_type": "code",
   "execution_count": 20,
   "metadata": {},
   "outputs": [],
   "source": [
    "# crop first bounce bins (first bounce in first 2 bins)\n",
    "# crop bins that are too far and noisy\n",
    "all_hists = all_hists[:, 2:8, :, :]\n",
    "zero_hists = zero_hists[:, 2:8, :, :]"
   ]
  },
  {
   "cell_type": "code",
   "execution_count": 21,
   "metadata": {},
   "outputs": [],
   "source": [
    "# generate more data by adding gaussian noise\n",
    "\n",
    "all_hists = np.repeat(all_hists, 10, axis=0)\n",
    "labels = np.repeat(labels, 10, axis=0)\n",
    "\n",
    "# add noise\n",
    "# std = 3 is good for general training?\n",
    "all_hists += np.random.normal(0, 1, all_hists.shape)"
   ]
  },
  {
   "cell_type": "code",
   "execution_count": 22,
   "metadata": {},
   "outputs": [],
   "source": [
    "all_hists = torch.tensor(all_hists, dtype=torch.float32)\n",
    "zero_hists = torch.tensor(zero_hists, dtype=torch.float32)\n"
   ]
  },
  {
   "cell_type": "code",
   "execution_count": 23,
   "metadata": {},
   "outputs": [],
   "source": [
    "# pick 20 random zero hists to act as the zero mean\n",
    "num_samples_to_mean = 20\n",
    "\n",
    "random_zero_mean = torch.empty((all_hists.shape[0], all_hists.shape[1], height, width))\n",
    "\n",
    "for i in range(all_hists.shape[0]):\n",
    "    indices = torch.randint(0, zero_hists.shape[0], (num_samples_to_mean,))\n",
    "    random_zero_mean[i] = zero_hists[indices].mean(dim=0)"
   ]
  },
  {
   "cell_type": "code",
   "execution_count": 19,
   "metadata": {},
   "outputs": [],
   "source": [
    "# normalize to 0-1 values\n",
    "all_hist_mins = all_hists.amin(dim=(1, 2, 3), keepdim=True)\n",
    "all_hist_maxs = all_hists.amax(dim=(1, 2, 3), keepdim=True)\n",
    "all_hist_ranges = all_hist_maxs - all_hist_mins\n",
    "all_hist_ranges[all_hist_ranges == 0] = 1\n",
    "all_hists = (all_hists - all_hist_mins) / all_hist_ranges\n",
    "\n",
    "# normalize to 0-1 values\n",
    "random_zero_mean_mins = random_zero_mean.amin(dim=(1, 2, 3), keepdim=True)\n",
    "random_zero_mean_maxs = random_zero_mean.amax(dim=(1, 2, 3), keepdim=True)\n",
    "random_zero_mean_ranges = random_zero_mean_maxs - random_zero_mean_mins\n",
    "random_zero_mean_ranges[random_zero_mean_ranges == 0] = 1\n",
    "random_zero_mean = (random_zero_mean - random_zero_mean_mins) / random_zero_mean\n"
   ]
  },
  {
   "cell_type": "code",
   "execution_count": 24,
   "metadata": {},
   "outputs": [],
   "source": [
    "all_hists_rel = all_hists - random_zero_mean"
   ]
  },
  {
   "cell_type": "code",
   "execution_count": 25,
   "metadata": {},
   "outputs": [],
   "source": [
    "# mean all pixels\n",
    "# all_hists_rel = all_hists_rel.mean(dim=(2, 3), keepdim=True)"
   ]
  },
  {
   "cell_type": "code",
   "execution_count": 26,
   "metadata": {},
   "outputs": [],
   "source": [
    "# zero_mean = np.mean(zero_hists, axis=0)\n",
    "\n",
    "# # lower bound at 0\n",
    "# # all_hists = np.maximum(all_hists, 0)\n",
    "# # zero_mean = np.maximum(zero_mean, 0)\n",
    "# all_hists_rel = all_hists - zero_mean"
   ]
  },
  {
   "cell_type": "code",
   "execution_count": 27,
   "metadata": {},
   "outputs": [
    {
     "name": "stdout",
     "output_type": "stream",
     "text": [
      "shape of all_hists: torch.Size([38190, 6, 4, 4])\n",
      "shape of labels: (38190, 1)\n",
      "shape of zero_mean: torch.Size([38190, 6, 4, 4])\n",
      "shape of all_hists_rel: torch.Size([38190, 6, 4, 4])\n"
     ]
    }
   ],
   "source": [
    "print(f'shape of all_hists: {all_hists.shape}')\n",
    "print(f'shape of labels: {labels.shape}')\n",
    "print(f'shape of zero_mean: {all_hists_rel.shape}')\n",
    "print(f'shape of all_hists_rel: {all_hists_rel.shape}')"
   ]
  },
  {
   "cell_type": "code",
   "execution_count": 28,
   "metadata": {},
   "outputs": [],
   "source": [
    "# Convert numpy arrays to PyTorch tensors\n",
    "# all_hists_tensor = torch.tensor(all_hists, dtype=torch.float32)\n",
    "# all_hists_tensor = torch.tensor(all_hists_rel, dtype=torch.float32)\n",
    "all_hists_tensor = all_hists_rel\n",
    "# labels_tensor = torch.tensor(labels, dtype=torch.long)\n",
    "labels_tensor = torch.tensor(labels, dtype=torch.float32)\n",
    "\n",
    "# all_hists_tensor = torch.sign(all_hists_tensor) * torch.log1p(torch.abs(all_hists_tensor))\n",
    "\n",
    "\n",
    "# epsilon = 0.1  # Smoothing factor\n",
    "# labels_tensor = (1 - epsilon) * labels_tensor + epsilon * 0.5  # Smooth towards uniform distribution\n",
    "\n",
    "# Create a TensorDataset\n",
    "dataset = TensorDataset(all_hists_tensor, labels_tensor)\n",
    "\n",
    "# Define the sizes for training, validation, and test sets\n",
    "train_size = int(0.5 * len(dataset))\n",
    "val_size = int(0.25 * len(dataset))\n",
    "test_size = len(dataset) - train_size - val_size\n",
    "\n",
    "# Split the dataset into training, validation, and test sets\n",
    "train_dataset, val_dataset, test_dataset = random_split(dataset, [train_size, val_size, test_size])\n",
    "\n",
    "batch_size = 32\n",
    "\n",
    "# Create DataLoaders for each set\n",
    "train_loader = DataLoader(train_dataset, batch_size=batch_size, shuffle=True)\n",
    "val_loader = DataLoader(val_dataset, batch_size=batch_size, shuffle=False)\n",
    "test_loader = DataLoader(test_dataset, batch_size=batch_size, shuffle=False)"
   ]
  },
  {
   "cell_type": "code",
   "execution_count": 29,
   "metadata": {},
   "outputs": [
    {
     "name": "stdout",
     "output_type": "stream",
     "text": [
      "batch_x shape: torch.Size([32, 6, 4, 4])\n",
      "batch_y shape: torch.Size([32, 1])\n"
     ]
    }
   ],
   "source": [
    "for batch_x, batch_y in train_loader:\n",
    "    print(f'batch_x shape: {batch_x.shape}')\n",
    "    print(f'batch_y shape: {batch_y.shape}')\n",
    "    break"
   ]
  },
  {
   "cell_type": "code",
   "execution_count": 30,
   "metadata": {},
   "outputs": [
    {
     "name": "stdout",
     "output_type": "stream",
     "text": [
      "Using mps device\n"
     ]
    }
   ],
   "source": [
    "# Get cpu, gpu or mps device for training.\n",
    "device = (\n",
    "    \"cuda\"\n",
    "    if torch.cuda.is_available()\n",
    "    else \"mps\"\n",
    "    if torch.backends.mps.is_available()\n",
    "    else \"cpu\"\n",
    ")\n",
    "print(f\"Using {device} device\")"
   ]
  },
  {
   "cell_type": "code",
   "execution_count": 31,
   "metadata": {},
   "outputs": [
    {
     "name": "stdout",
     "output_type": "stream",
     "text": [
      "CounterCNN(\n",
      "  (conv1): Conv2d(6, 16, kernel_size=(3, 3), stride=(1, 1), padding=(1, 1))\n",
      "  (batchnorm1): BatchNorm2d(16, eps=1e-05, momentum=0.1, affine=True, track_running_stats=True)\n",
      "  (conv2): Conv2d(16, 64, kernel_size=(3, 3), stride=(1, 1), padding=(1, 1))\n",
      "  (batchnorm2): BatchNorm2d(64, eps=1e-05, momentum=0.1, affine=True, track_running_stats=True)\n",
      "  (fc1): Linear(in_features=1024, out_features=128, bias=True)\n",
      "  (fc1_bn): BatchNorm1d(128, eps=1e-05, momentum=0.1, affine=True, track_running_stats=True)\n",
      "  (fc2): Linear(in_features=128, out_features=1, bias=True)\n",
      "  (relu): LeakyReLU(negative_slope=0.01)\n",
      "  (dropout): Dropout(p=0.7, inplace=False)\n",
      ")\n"
     ]
    }
   ],
   "source": [
    "class CounterCNN(nn.Module):\n",
    "    def __init__(self):\n",
    "        super(CounterCNN, self).__init__()\n",
    "        self.conv1 = nn.Conv2d(in_channels=(8 - 2), out_channels=16, kernel_size=3, padding=1)\n",
    "        self.batchnorm1 = nn.BatchNorm2d(16)\n",
    "        self.conv2 = nn.Conv2d(in_channels=16, out_channels=64, kernel_size=3, padding=1)\n",
    "        self.batchnorm2 = nn.BatchNorm2d(64)\n",
    "        # self.pool = nn.MaxPool2d(kernel_size=2, stride=2, padding=0)\n",
    "        self.fc1 = nn.Linear(64 * 4 * 4, 128)\n",
    "        self.fc1_bn = nn.BatchNorm1d(128)\n",
    "        self.fc2 = nn.Linear(128, 1)  # Assuming 10 classes for the labels\n",
    "        self.relu = nn.LeakyReLU(negative_slope=0.01)\n",
    "        self.dropout = nn.Dropout(p=0.7)\n",
    "\n",
    "    def forward(self, x):\n",
    "        # print(f'x shape at start: {x.shape}')\n",
    "        x = self.relu(self.conv1(x))\n",
    "        # print(f'x shape after conv1: {x.shape}')\n",
    "        x = self.batchnorm1(x)\n",
    "        # x = self.pool(x)\n",
    "        # print(f'x shape after pool1: {x.shape}')\n",
    "        x = self.relu(self.conv2(x))\n",
    "        # print(f'x shape after conv2: {x.shape}')\n",
    "        x = self.batchnorm2(x)\n",
    "        # x = self.pool(x)\n",
    "        # print(f'x shape after pool2: {x.shape}')\n",
    "        x = torch.flatten(x, 1)\n",
    "        # print(f'x shape after flatten: {x.shape}')\n",
    "        x = self.relu(self.fc1(x))\n",
    "        x = self.dropout(x)\n",
    "        x = self.fc1_bn(x)\n",
    "        x = self.fc2(x)\n",
    "        return x\n",
    "\n",
    "# Instantiate the model\n",
    "model = CounterCNN().to(device)\n",
    "print(model)"
   ]
  },
  {
   "cell_type": "code",
   "execution_count": 32,
   "metadata": {},
   "outputs": [
    {
     "data": {
      "text/plain": [
       "CounterCNN(\n",
       "  (conv1): Conv2d(6, 16, kernel_size=(3, 3), stride=(1, 1), padding=(1, 1))\n",
       "  (batchnorm1): BatchNorm2d(16, eps=1e-05, momentum=0.1, affine=True, track_running_stats=True)\n",
       "  (conv2): Conv2d(16, 64, kernel_size=(3, 3), stride=(1, 1), padding=(1, 1))\n",
       "  (batchnorm2): BatchNorm2d(64, eps=1e-05, momentum=0.1, affine=True, track_running_stats=True)\n",
       "  (fc1): Linear(in_features=1024, out_features=128, bias=True)\n",
       "  (fc1_bn): BatchNorm1d(128, eps=1e-05, momentum=0.1, affine=True, track_running_stats=True)\n",
       "  (fc2): Linear(in_features=128, out_features=1, bias=True)\n",
       "  (relu): LeakyReLU(negative_slope=0.01)\n",
       "  (dropout): Dropout(p=0.7, inplace=False)\n",
       ")"
      ]
     },
     "execution_count": 32,
     "metadata": {},
     "output_type": "execute_result"
    }
   ],
   "source": [
    "def initialize_weights(m):\n",
    "    if isinstance(m, torch.nn.Linear) or isinstance(m, torch.nn.Conv2d):\n",
    "        torch.nn.init.kaiming_uniform_(m.weight, nonlinearity='leaky_relu')\n",
    "        if m.bias is not None:\n",
    "            torch.nn.init.zeros_(m.bias)\n",
    "\n",
    "model.apply(initialize_weights)"
   ]
  },
  {
   "cell_type": "code",
   "execution_count": 33,
   "metadata": {},
   "outputs": [],
   "source": [
    "loss_fn = nn.BCEWithLogitsLoss()\n",
    "optimizer = torch.optim.Adam(model.parameters(), lr=0.01)\n",
    "# optimizer = torch.optim.Adadelta(model.parameters(), lr=10.0)"
   ]
  },
  {
   "cell_type": "code",
   "execution_count": 34,
   "metadata": {},
   "outputs": [],
   "source": [
    "def train(dataloader, model, loss_fn, optimizer, counter=False, clipping=False, debug=False):\n",
    "    size = len(dataloader.dataset)\n",
    "    model.train()\n",
    "    train_loss = 0\n",
    "    for batch, (X, y) in enumerate(dataloader):\n",
    "        if len(X) < batch_size:\n",
    "            continue\n",
    "\n",
    "        X, y = X.to(device), y.to(device)\n",
    "        # print(f'X shape: {X.shape}, y shape: {y.shape}')\n",
    "        # Compute prediction error\n",
    "        pred = model(X)\n",
    "        # if counter:\n",
    "            # y = y.unsqueeze(1)\n",
    "        # print(f'pred shape: {pred.shape}, y shape: {y.shape}')\n",
    "        loss = loss_fn(pred, y)\n",
    "        # print(f'loss: {loss.item()}')\n",
    "        train_loss += loss.item()\n",
    "\n",
    "        # Backpropagation\n",
    "        loss.backward()\n",
    "\n",
    "        if clipping:\n",
    "            # Gradient clipping\n",
    "            torch.nn.utils.clip_grad_norm_(model.parameters(), max_norm=1.0)  # Adjust max_norm as needed\n",
    "        \n",
    "        if debug:\n",
    "            # Inspect gradients for each layer\n",
    "            for name, param in model.named_parameters():\n",
    "                if param.grad is not None:  # Only check if gradient is computed\n",
    "                    print(f\"Layer: {name} | Gradient mean: {param.grad.abs().mean().item()} | Gradient max: {param.grad.abs().max().item()}\")\n",
    "                else:\n",
    "                    print(f\"Layer: {name} has no gradient.\")\n",
    "\n",
    "        optimizer.step()\n",
    "        optimizer.zero_grad()\n",
    "\n",
    "        if batch % 100 == 0:\n",
    "            loss, current = loss.item(), (batch + 1) * len(X)\n",
    "            print(f\"loss: {loss:>7f}  [{current:>5d}/{size:>5d}]\")\n",
    "    train_loss /= len(dataloader)\n",
    "    return train_loss"
   ]
  },
  {
   "cell_type": "code",
   "execution_count": 35,
   "metadata": {},
   "outputs": [],
   "source": [
    "def test(dataloader, model, loss_fn):\n",
    "    size = len(dataloader.dataset)\n",
    "    num_batches = len(dataloader)\n",
    "    model.eval()\n",
    "    test_loss, correct = 0, 0\n",
    "    with torch.no_grad():\n",
    "        for X, y in dataloader:\n",
    "            X, y = X.to(device), y.to(device)\n",
    "            pred = model(X)\n",
    "            test_loss += loss_fn(pred, y).item()\n",
    "            correct += (pred.argmax(1) == y).type(torch.float).sum().item()\n",
    "    test_loss /= num_batches\n",
    "    correct /= size\n",
    "    print(f\"Test Error: \\n Accuracy: {(100*correct):>0.1f}%, Avg loss: {test_loss:>8f} \\n\")\n",
    "    return test_loss, correct"
   ]
  },
  {
   "cell_type": "code",
   "execution_count": 36,
   "metadata": {},
   "outputs": [],
   "source": [
    "def test_counter(dataloader, model, loss_fn):\n",
    "    size = len(dataloader.dataset)\n",
    "    num_batches = len(dataloader)\n",
    "    model.eval()\n",
    "    test_loss, correct = 0, 0\n",
    "    with torch.no_grad():\n",
    "        for X, y in dataloader:\n",
    "            X, y = X.to(device), y.to(device)\n",
    "            pred = model(X)\n",
    "            # y = y.unsqueeze_(1)\n",
    "            # print(X.shape)\n",
    "            # print(y.shape)\n",
    "            test_loss += loss_fn(pred, y).item()\n",
    "            final_pred = torch.round(torch.clamp(pred, min=0, max=1))\n",
    "            \n",
    "            # print(final_pred.shape)\n",
    "            # print(\"true\")\n",
    "            # print(y)\n",
    "            # print(\"pred\")\n",
    "            # print(final_pred)\n",
    "            # print(\"diff\")\n",
    "            # print(final_pred - y)\n",
    "            exact_match = torch.all(final_pred == torch.round(y), dim=1)\n",
    "            correct += torch.sum(exact_match).item()\n",
    "    test_loss /= num_batches\n",
    "    correct /= size\n",
    "    print(f\"Test Error: \\n Accuracy: {(100*correct):>0.1f}%, Avg loss: {test_loss:>8f} \\n\")\n",
    "    return test_loss, correct"
   ]
  },
  {
   "cell_type": "code",
   "execution_count": 37,
   "metadata": {},
   "outputs": [],
   "source": [
    "def train_early_stopping(train_loader, val_loader, model, loss_fn, optimizer, \n",
    "    epochs=50, early_stopping=True, patience=5, threshold=0.15, counter=False, clipping=False, debug=False):\n",
    "    train_losses = []\n",
    "    val_losses = []\n",
    "    best_val_loss = float('inf')\n",
    "    best_model = None\n",
    "    for t in range(epochs):\n",
    "        print(f\"Epoch {t+1}\\n-------------------------------\")\n",
    "        train_loss = train(train_loader, model, loss_fn, optimizer, counter=counter, clipping=clipping, debug=debug)\n",
    "        if counter:\n",
    "            val_loss, correct = test_counter(val_loader, model, loss_fn)\n",
    "        else:\n",
    "            val_loss, correct = test(val_loader, model, loss_fn)\n",
    "        train_losses.append(train_loss)\n",
    "        val_losses.append(val_loss)\n",
    "        if early_stopping:\n",
    "            if val_loss < best_val_loss:\n",
    "                best_val_loss = val_loss\n",
    "                best_model = model\n",
    "                patience_counter = 0\n",
    "            else:\n",
    "                if val_loss / best_val_loss > 1 + threshold:\n",
    "                    patience_counter += 1\n",
    "                    if patience_counter >= patience:\n",
    "                        print(f\"Early stopping at epoch {t+1}\")\n",
    "                        break\n",
    "        # print(f'patience_counter: {patience_counter}')\n",
    "    return best_model, train_losses, val_losses"
   ]
  },
  {
   "cell_type": "code",
   "execution_count": 38,
   "metadata": {},
   "outputs": [
    {
     "name": "stdout",
     "output_type": "stream",
     "text": [
      "Epoch 1\n",
      "-------------------------------\n",
      "loss: 0.998416  [   32/19095]\n",
      "loss: 0.669907  [ 3232/19095]\n",
      "loss: 0.450745  [ 6432/19095]\n",
      "loss: 0.513147  [ 9632/19095]\n",
      "loss: 0.606630  [12832/19095]\n",
      "loss: 0.406423  [16032/19095]\n",
      "Test Error: \n",
      " Accuracy: 74.7%, Avg loss: 0.548533 \n",
      "\n",
      "Epoch 2\n",
      "-------------------------------\n",
      "loss: 0.546259  [   32/19095]\n",
      "loss: 0.496282  [ 3232/19095]\n",
      "loss: 0.610160  [ 6432/19095]\n",
      "loss: 0.565191  [ 9632/19095]\n",
      "loss: 0.542862  [12832/19095]\n",
      "loss: 0.567058  [16032/19095]\n",
      "Test Error: \n",
      " Accuracy: 74.7%, Avg loss: 0.543690 \n",
      "\n",
      "Epoch 3\n",
      "-------------------------------\n",
      "loss: 0.514245  [   32/19095]\n",
      "loss: 0.450110  [ 3232/19095]\n",
      "loss: 0.632415  [ 6432/19095]\n",
      "loss: 0.508865  [ 9632/19095]\n",
      "loss: 0.512002  [12832/19095]\n",
      "loss: 0.590368  [16032/19095]\n",
      "Test Error: \n",
      " Accuracy: 75.0%, Avg loss: 0.534382 \n",
      "\n",
      "Epoch 4\n",
      "-------------------------------\n",
      "loss: 0.454544  [   32/19095]\n",
      "loss: 0.546861  [ 3232/19095]\n",
      "loss: 0.658824  [ 6432/19095]\n",
      "loss: 0.523005  [ 9632/19095]\n",
      "loss: 0.538028  [12832/19095]\n",
      "loss: 0.567753  [16032/19095]\n",
      "Test Error: \n",
      " Accuracy: 72.1%, Avg loss: 0.531915 \n",
      "\n",
      "Epoch 5\n",
      "-------------------------------\n",
      "loss: 0.573016  [   32/19095]\n",
      "loss: 0.458921  [ 3232/19095]\n",
      "loss: 0.447272  [ 6432/19095]\n",
      "loss: 0.583073  [ 9632/19095]\n",
      "loss: 0.473140  [12832/19095]\n",
      "loss: 0.550761  [16032/19095]\n",
      "Test Error: \n",
      " Accuracy: 73.0%, Avg loss: 0.511999 \n",
      "\n",
      "Epoch 6\n",
      "-------------------------------\n",
      "loss: 0.506364  [   32/19095]\n",
      "loss: 0.510653  [ 3232/19095]\n",
      "loss: 0.610393  [ 6432/19095]\n",
      "loss: 0.501391  [ 9632/19095]\n",
      "loss: 0.484299  [12832/19095]\n",
      "loss: 0.657095  [16032/19095]\n",
      "Test Error: \n",
      " Accuracy: 75.1%, Avg loss: 0.501083 \n",
      "\n",
      "Epoch 7\n",
      "-------------------------------\n",
      "loss: 0.653012  [   32/19095]\n",
      "loss: 0.446697  [ 3232/19095]\n",
      "loss: 0.394786  [ 6432/19095]\n",
      "loss: 0.418360  [ 9632/19095]\n",
      "loss: 0.542786  [12832/19095]\n",
      "loss: 0.627048  [16032/19095]\n",
      "Test Error: \n",
      " Accuracy: 74.6%, Avg loss: 0.483904 \n",
      "\n",
      "Epoch 8\n",
      "-------------------------------\n",
      "loss: 0.377395  [   32/19095]\n",
      "loss: 0.411929  [ 3232/19095]\n",
      "loss: 0.572724  [ 6432/19095]\n",
      "loss: 0.319861  [ 9632/19095]\n",
      "loss: 0.406744  [12832/19095]\n",
      "loss: 0.506147  [16032/19095]\n",
      "Test Error: \n",
      " Accuracy: 76.4%, Avg loss: 0.475323 \n",
      "\n",
      "Epoch 9\n",
      "-------------------------------\n",
      "loss: 0.413888  [   32/19095]\n",
      "loss: 0.569748  [ 3232/19095]\n",
      "loss: 0.539943  [ 6432/19095]\n",
      "loss: 0.345054  [ 9632/19095]\n",
      "loss: 0.449442  [12832/19095]\n",
      "loss: 0.487201  [16032/19095]\n",
      "Test Error: \n",
      " Accuracy: 78.5%, Avg loss: 0.461346 \n",
      "\n",
      "Epoch 10\n",
      "-------------------------------\n",
      "loss: 0.343654  [   32/19095]\n",
      "loss: 0.428969  [ 3232/19095]\n",
      "loss: 0.273361  [ 6432/19095]\n",
      "loss: 0.476342  [ 9632/19095]\n",
      "loss: 0.297856  [12832/19095]\n",
      "loss: 0.419441  [16032/19095]\n",
      "Test Error: \n",
      " Accuracy: 77.4%, Avg loss: 0.442077 \n",
      "\n",
      "Epoch 11\n",
      "-------------------------------\n",
      "loss: 0.319870  [   32/19095]\n",
      "loss: 0.347096  [ 3232/19095]\n",
      "loss: 0.490317  [ 6432/19095]\n",
      "loss: 0.375721  [ 9632/19095]\n",
      "loss: 0.445635  [12832/19095]\n",
      "loss: 0.511982  [16032/19095]\n",
      "Test Error: \n",
      " Accuracy: 79.5%, Avg loss: 0.428654 \n",
      "\n",
      "Epoch 12\n",
      "-------------------------------\n",
      "loss: 0.391287  [   32/19095]\n",
      "loss: 0.464977  [ 3232/19095]\n",
      "loss: 0.591771  [ 6432/19095]\n",
      "loss: 0.552385  [ 9632/19095]\n",
      "loss: 0.254312  [12832/19095]\n",
      "loss: 0.569656  [16032/19095]\n",
      "Test Error: \n",
      " Accuracy: 80.7%, Avg loss: 0.408066 \n",
      "\n",
      "Epoch 13\n",
      "-------------------------------\n",
      "loss: 0.169839  [   32/19095]\n",
      "loss: 0.181922  [ 3232/19095]\n",
      "loss: 0.469678  [ 6432/19095]\n",
      "loss: 0.272680  [ 9632/19095]\n",
      "loss: 0.325542  [12832/19095]\n",
      "loss: 0.519774  [16032/19095]\n",
      "Test Error: \n",
      " Accuracy: 79.2%, Avg loss: 0.426922 \n",
      "\n",
      "Epoch 14\n",
      "-------------------------------\n",
      "loss: 0.372063  [   32/19095]\n",
      "loss: 0.268883  [ 3232/19095]\n",
      "loss: 0.281496  [ 6432/19095]\n",
      "loss: 0.585962  [ 9632/19095]\n",
      "loss: 0.371816  [12832/19095]\n",
      "loss: 0.188090  [16032/19095]\n",
      "Test Error: \n",
      " Accuracy: 79.5%, Avg loss: 0.405492 \n",
      "\n",
      "Epoch 15\n",
      "-------------------------------\n",
      "loss: 0.318178  [   32/19095]\n",
      "loss: 0.278443  [ 3232/19095]\n",
      "loss: 0.317269  [ 6432/19095]\n",
      "loss: 0.231805  [ 9632/19095]\n",
      "loss: 0.279749  [12832/19095]\n",
      "loss: 0.341956  [16032/19095]\n",
      "Test Error: \n",
      " Accuracy: 81.5%, Avg loss: 0.410791 \n",
      "\n",
      "Epoch 16\n",
      "-------------------------------\n",
      "loss: 0.195043  [   32/19095]\n",
      "loss: 0.187416  [ 3232/19095]\n",
      "loss: 0.205395  [ 6432/19095]\n",
      "loss: 0.242543  [ 9632/19095]\n",
      "loss: 0.138666  [12832/19095]\n",
      "loss: 0.187248  [16032/19095]\n",
      "Test Error: \n",
      " Accuracy: 83.6%, Avg loss: 0.418792 \n",
      "\n",
      "Epoch 17\n",
      "-------------------------------\n",
      "loss: 0.102868  [   32/19095]\n",
      "loss: 0.281358  [ 3232/19095]\n",
      "loss: 0.301988  [ 6432/19095]\n",
      "loss: 0.242401  [ 9632/19095]\n",
      "loss: 0.205020  [12832/19095]\n",
      "loss: 0.209241  [16032/19095]\n",
      "Test Error: \n",
      " Accuracy: 83.2%, Avg loss: 0.376220 \n",
      "\n",
      "Epoch 18\n",
      "-------------------------------\n",
      "loss: 0.110817  [   32/19095]\n",
      "loss: 0.125558  [ 3232/19095]\n",
      "loss: 0.150532  [ 6432/19095]\n",
      "loss: 0.221429  [ 9632/19095]\n",
      "loss: 0.298238  [12832/19095]\n",
      "loss: 0.181779  [16032/19095]\n",
      "Test Error: \n",
      " Accuracy: 84.4%, Avg loss: 0.425683 \n",
      "\n",
      "Epoch 19\n",
      "-------------------------------\n",
      "loss: 0.127945  [   32/19095]\n",
      "loss: 0.501831  [ 3232/19095]\n",
      "loss: 0.201262  [ 6432/19095]\n",
      "loss: 0.129673  [ 9632/19095]\n",
      "loss: 0.232091  [12832/19095]\n",
      "loss: 0.161252  [16032/19095]\n",
      "Test Error: \n",
      " Accuracy: 83.4%, Avg loss: 0.412118 \n",
      "\n",
      "Epoch 20\n",
      "-------------------------------\n",
      "loss: 0.101813  [   32/19095]\n",
      "loss: 0.252850  [ 3232/19095]\n",
      "loss: 0.075586  [ 6432/19095]\n",
      "loss: 0.243483  [ 9632/19095]\n",
      "loss: 0.153283  [12832/19095]\n",
      "loss: 0.147841  [16032/19095]\n",
      "Test Error: \n",
      " Accuracy: 83.7%, Avg loss: 0.409101 \n",
      "\n",
      "Epoch 21\n",
      "-------------------------------\n",
      "loss: 0.166055  [   32/19095]\n",
      "loss: 0.173669  [ 3232/19095]\n",
      "loss: 0.062580  [ 6432/19095]\n",
      "loss: 0.074658  [ 9632/19095]\n",
      "loss: 0.218821  [12832/19095]\n",
      "loss: 0.099236  [16032/19095]\n",
      "Test Error: \n",
      " Accuracy: 84.6%, Avg loss: 0.401252 \n",
      "\n",
      "Epoch 22\n",
      "-------------------------------\n",
      "loss: 0.171964  [   32/19095]\n",
      "loss: 0.442280  [ 3232/19095]\n",
      "loss: 0.192120  [ 6432/19095]\n",
      "loss: 0.133516  [ 9632/19095]\n",
      "loss: 0.218587  [12832/19095]\n",
      "loss: 0.217876  [16032/19095]\n",
      "Test Error: \n",
      " Accuracy: 84.6%, Avg loss: 0.415624 \n",
      "\n",
      "Epoch 23\n",
      "-------------------------------\n",
      "loss: 0.176887  [   32/19095]\n",
      "loss: 0.145589  [ 3232/19095]\n",
      "loss: 0.146796  [ 6432/19095]\n",
      "loss: 0.067700  [ 9632/19095]\n",
      "loss: 0.205974  [12832/19095]\n",
      "loss: 0.109358  [16032/19095]\n",
      "Test Error: \n",
      " Accuracy: 85.3%, Avg loss: 0.407423 \n",
      "\n",
      "Epoch 24\n",
      "-------------------------------\n",
      "loss: 0.073836  [   32/19095]\n",
      "loss: 0.094856  [ 3232/19095]\n",
      "loss: 0.238097  [ 6432/19095]\n",
      "loss: 0.153558  [ 9632/19095]\n",
      "loss: 0.210590  [12832/19095]\n",
      "loss: 0.102689  [16032/19095]\n",
      "Test Error: \n",
      " Accuracy: 84.6%, Avg loss: 0.416907 \n",
      "\n",
      "Epoch 25\n",
      "-------------------------------\n",
      "loss: 0.064662  [   32/19095]\n",
      "loss: 0.245575  [ 3232/19095]\n",
      "loss: 0.287600  [ 6432/19095]\n",
      "loss: 0.228514  [ 9632/19095]\n",
      "loss: 0.065724  [12832/19095]\n",
      "loss: 0.149535  [16032/19095]\n",
      "Test Error: \n",
      " Accuracy: 83.9%, Avg loss: 0.444726 \n",
      "\n",
      "Epoch 26\n",
      "-------------------------------\n",
      "loss: 0.062800  [   32/19095]\n",
      "loss: 0.289235  [ 3232/19095]\n",
      "loss: 0.334574  [ 6432/19095]\n",
      "loss: 0.147176  [ 9632/19095]\n",
      "loss: 0.101428  [12832/19095]\n",
      "loss: 0.217617  [16032/19095]\n",
      "Test Error: \n",
      " Accuracy: 86.0%, Avg loss: 0.435043 \n",
      "\n",
      "Epoch 27\n",
      "-------------------------------\n",
      "loss: 0.096354  [   32/19095]\n",
      "loss: 0.138768  [ 3232/19095]\n",
      "loss: 0.044525  [ 6432/19095]\n",
      "loss: 0.058361  [ 9632/19095]\n",
      "loss: 0.281342  [12832/19095]\n",
      "loss: 0.091486  [16032/19095]\n",
      "Test Error: \n",
      " Accuracy: 84.0%, Avg loss: 0.421919 \n",
      "\n",
      "Epoch 28\n",
      "-------------------------------\n",
      "loss: 0.111454  [   32/19095]\n",
      "loss: 0.108971  [ 3232/19095]\n",
      "loss: 0.161586  [ 6432/19095]\n",
      "loss: 0.277781  [ 9632/19095]\n",
      "loss: 0.125548  [12832/19095]\n",
      "loss: 0.151670  [16032/19095]\n",
      "Test Error: \n",
      " Accuracy: 85.1%, Avg loss: 0.405365 \n",
      "\n",
      "Epoch 29\n",
      "-------------------------------\n",
      "loss: 0.174033  [   32/19095]\n",
      "loss: 0.043991  [ 3232/19095]\n",
      "loss: 0.172463  [ 6432/19095]\n",
      "loss: 0.222631  [ 9632/19095]\n",
      "loss: 0.317549  [12832/19095]\n",
      "loss: 0.206005  [16032/19095]\n",
      "Test Error: \n",
      " Accuracy: 85.8%, Avg loss: 0.464024 \n",
      "\n",
      "Epoch 30\n",
      "-------------------------------\n",
      "loss: 0.042242  [   32/19095]\n",
      "loss: 0.044970  [ 3232/19095]\n",
      "loss: 0.198924  [ 6432/19095]\n",
      "loss: 0.238234  [ 9632/19095]\n",
      "loss: 0.329089  [12832/19095]\n",
      "loss: 0.135381  [16032/19095]\n",
      "Test Error: \n",
      " Accuracy: 84.0%, Avg loss: 0.412447 \n",
      "\n",
      "Epoch 31\n",
      "-------------------------------\n",
      "loss: 0.253556  [   32/19095]\n",
      "loss: 0.078295  [ 3232/19095]\n",
      "loss: 0.133291  [ 6432/19095]\n",
      "loss: 0.067519  [ 9632/19095]\n",
      "loss: 0.055639  [12832/19095]\n",
      "loss: 0.100409  [16032/19095]\n",
      "Test Error: \n",
      " Accuracy: 85.6%, Avg loss: 0.443182 \n",
      "\n",
      "Epoch 32\n",
      "-------------------------------\n",
      "loss: 0.062088  [   32/19095]\n",
      "loss: 0.170150  [ 3232/19095]\n",
      "loss: 0.086990  [ 6432/19095]\n",
      "loss: 0.246177  [ 9632/19095]\n",
      "loss: 0.041631  [12832/19095]\n",
      "loss: 0.203163  [16032/19095]\n",
      "Test Error: \n",
      " Accuracy: 84.2%, Avg loss: 0.446160 \n",
      "\n",
      "Epoch 33\n",
      "-------------------------------\n",
      "loss: 0.106418  [   32/19095]\n",
      "loss: 0.095750  [ 3232/19095]\n",
      "loss: 0.136109  [ 6432/19095]\n",
      "loss: 0.068762  [ 9632/19095]\n",
      "loss: 0.131827  [12832/19095]\n",
      "loss: 0.095081  [16032/19095]\n",
      "Test Error: \n",
      " Accuracy: 85.0%, Avg loss: 0.447216 \n",
      "\n",
      "Epoch 34\n",
      "-------------------------------\n",
      "loss: 0.146616  [   32/19095]\n",
      "loss: 0.123060  [ 3232/19095]\n",
      "loss: 0.030991  [ 6432/19095]\n",
      "loss: 0.206451  [ 9632/19095]\n",
      "loss: 0.083801  [12832/19095]\n",
      "loss: 0.107049  [16032/19095]\n",
      "Test Error: \n",
      " Accuracy: 85.4%, Avg loss: 0.468840 \n",
      "\n",
      "Epoch 35\n",
      "-------------------------------\n",
      "loss: 0.126974  [   32/19095]\n",
      "loss: 0.031393  [ 3232/19095]\n",
      "loss: 0.084043  [ 6432/19095]\n",
      "loss: 0.033655  [ 9632/19095]\n",
      "loss: 0.429942  [12832/19095]\n",
      "loss: 0.153440  [16032/19095]\n",
      "Test Error: \n",
      " Accuracy: 85.2%, Avg loss: 0.435665 \n",
      "\n",
      "Epoch 36\n",
      "-------------------------------\n",
      "loss: 0.116276  [   32/19095]\n",
      "loss: 0.179309  [ 3232/19095]\n",
      "loss: 0.044571  [ 6432/19095]\n",
      "loss: 0.070781  [ 9632/19095]\n",
      "loss: 0.065591  [12832/19095]\n",
      "loss: 0.052583  [16032/19095]\n",
      "Test Error: \n",
      " Accuracy: 83.4%, Avg loss: 0.495559 \n",
      "\n",
      "Epoch 37\n",
      "-------------------------------\n",
      "loss: 0.169596  [   32/19095]\n",
      "loss: 0.069960  [ 3232/19095]\n",
      "loss: 0.040430  [ 6432/19095]\n",
      "loss: 0.029769  [ 9632/19095]\n",
      "loss: 0.036398  [12832/19095]\n",
      "loss: 0.032741  [16032/19095]\n",
      "Test Error: \n",
      " Accuracy: 84.4%, Avg loss: 0.482918 \n",
      "\n",
      "Epoch 38\n",
      "-------------------------------\n",
      "loss: 0.187426  [   32/19095]\n",
      "loss: 0.095182  [ 3232/19095]\n",
      "loss: 0.039155  [ 6432/19095]\n",
      "loss: 0.147894  [ 9632/19095]\n",
      "loss: 0.135252  [12832/19095]\n",
      "loss: 0.087087  [16032/19095]\n",
      "Test Error: \n",
      " Accuracy: 85.1%, Avg loss: 0.431135 \n",
      "\n",
      "Epoch 39\n",
      "-------------------------------\n",
      "loss: 0.219787  [   32/19095]\n",
      "loss: 0.077690  [ 3232/19095]\n",
      "loss: 0.044737  [ 6432/19095]\n",
      "loss: 0.317052  [ 9632/19095]\n",
      "loss: 0.085587  [12832/19095]\n",
      "loss: 0.046394  [16032/19095]\n",
      "Test Error: \n",
      " Accuracy: 85.1%, Avg loss: 0.463347 \n",
      "\n",
      "Early stopping at epoch 39\n"
     ]
    },
    {
     "data": {
      "image/png": "[encoded data removed]",
      "text/plain": [
       "<Figure size 640x480 with 1 Axes>"
      ]
     },
     "metadata": {},
     "output_type": "display_data"
    }
   ],
   "source": [
    "best_model, train_losses, val_losses = train_early_stopping(\n",
    "    train_loader, val_loader, model, loss_fn, optimizer, epochs=500, early_stopping=True,\n",
    "    threshold=0.2,\n",
    "    counter=True, clipping=True)\n",
    "\n",
    "# plot training and validation losses\n",
    "plt.figure()\n",
    "plt.plot(train_losses, label='train')\n",
    "plt.plot(val_losses, label='val')\n",
    "plt.legend()\n",
    "plt.show()\n",
    "\n",
    "\n",
    "model = best_model"
   ]
  },
  {
   "cell_type": "code",
   "execution_count": 39,
   "metadata": {},
   "outputs": [],
   "source": [
    "model_save_path = 'models/display-box-7-binary.pth'"
   ]
  },
  {
   "cell_type": "code",
   "execution_count": 40,
   "metadata": {},
   "outputs": [],
   "source": [
    "torch.save(model.state_dict(), model_save_path)"
   ]
  },
  {
   "cell_type": "code",
   "execution_count": 41,
   "metadata": {},
   "outputs": [
    {
     "name": "stderr",
     "output_type": "stream",
     "text": [
      "/var/folders/3c/gwjrml9d76v_zwbyb2x6yc0r0000gn/T/ipykernel_82190/2522857457.py:2: FutureWarning: You are using `torch.load` with `weights_only=False` (the current default value), which uses the default pickle module implicitly. It is possible to construct malicious pickle data which will execute arbitrary code during unpickling (See https://github.com/pytorch/pytorch/blob/main/SECURITY.md#untrusted-models for more details). In a future release, the default value for `weights_only` will be flipped to `True`. This limits the functions that could be executed during unpickling. Arbitrary objects will no longer be allowed to be loaded via this mode unless they are explicitly allowlisted by the user via `torch.serialization.add_safe_globals`. We recommend you start setting `weights_only=True` for any use case where you don't have full control of the loaded file. Please open an issue on GitHub for any issues related to this experimental feature.\n",
      "  model.load_state_dict(torch.load(model_save_path))\n"
     ]
    },
    {
     "data": {
      "text/plain": [
       "<All keys matched successfully>"
      ]
     },
     "execution_count": 41,
     "metadata": {},
     "output_type": "execute_result"
    }
   ],
   "source": [
    "model = CounterCNN().to(device)\n",
    "model.load_state_dict(torch.load(model_save_path))"
   ]
  },
  {
   "cell_type": "code",
   "execution_count": 42,
   "metadata": {},
   "outputs": [
    {
     "name": "stdout",
     "output_type": "stream",
     "text": [
      "Test Error: \n",
      " Accuracy: 85.5%, Avg loss: 0.473233 \n",
      "\n"
     ]
    },
    {
     "data": {
      "text/plain": [
       "(0.473233379024925, 0.8554671135316296)"
      ]
     },
     "execution_count": 42,
     "metadata": {},
     "output_type": "execute_result"
    }
   ],
   "source": [
    "# Out of sample test\n",
    "model.eval()\n",
    "# test(test_loader, model, loss_fn)\n",
    "test_counter(test_loader, model, loss_fn)"
   ]
  },
  {
   "cell_type": "code",
   "execution_count": 43,
   "metadata": {},
   "outputs": [
    {
     "name": "stdout",
     "output_type": "stream",
     "text": [
      "Predicted class: 0, Actual label: tensor([1.])\n",
      "Predicted class: 0, Actual label: tensor([1.])\n",
      "Predicted class: 0, Actual label: tensor([1.])\n",
      "Predicted class: 0, Actual label: tensor([1.])\n",
      "Predicted class: 0, Actual label: tensor([1.])\n",
      "Predicted class: 0, Actual label: tensor([0.])\n",
      "Predicted class: 0, Actual label: tensor([1.])\n",
      "Predicted class: 0, Actual label: tensor([1.])\n",
      "Predicted class: 0, Actual label: tensor([0.])\n",
      "Predicted class: 0, Actual label: tensor([1.])\n",
      "Predicted class: 0, Actual label: tensor([1.])\n",
      "Predicted class: 0, Actual label: tensor([0.])\n",
      "Predicted class: 0, Actual label: tensor([1.])\n",
      "Predicted class: 0, Actual label: tensor([1.])\n",
      "Predicted class: 0, Actual label: tensor([1.])\n",
      "Predicted class: 0, Actual label: tensor([1.])\n",
      "Predicted class: 0, Actual label: tensor([0.])\n",
      "Predicted class: 0, Actual label: tensor([1.])\n",
      "Predicted class: 0, Actual label: tensor([0.])\n",
      "Predicted class: 0, Actual label: tensor([1.])\n"
     ]
    }
   ],
   "source": [
    "for i in range(20):\n",
    "    # Get a single example from the test dataset\n",
    "    example_data, example_label = test_dataset[i]\n",
    "\n",
    "    # Move the example data to the appropriate device\n",
    "    example_data = example_data.unsqueeze(0).to(device)\n",
    "\n",
    "    # Set the model to evaluation mode\n",
    "    model.eval()\n",
    "\n",
    "    # Get the model's prediction\n",
    "    with torch.no_grad():\n",
    "        example_data = example_data.to(device)\n",
    "        output = model(example_data)\n",
    "\n",
    "    # Get the predicted class\n",
    "    predicted_class = output.argmax(dim=1).item()\n",
    "\n",
    "    # Print the predicted class and the actual label\n",
    "    print(f'Predicted class: {predicted_class}, Actual label: {example_label}')"
   ]
  },
  {
   "cell_type": "code",
   "execution_count": 44,
   "metadata": {},
   "outputs": [
    {
     "name": "stdout",
     "output_type": "stream",
     "text": [
      "[[1.]\n",
      " [1.]\n",
      " [1.]\n",
      " ...\n",
      " [1.]\n",
      " [0.]\n",
      " [1.]]\n"
     ]
    }
   ],
   "source": [
    "# Set the model to evaluation mode\n",
    "model.eval()\n",
    "\n",
    "# Initialize a list to store predictions\n",
    "predictions = []\n",
    "\n",
    "# Disable gradient calculation\n",
    "with torch.no_grad():\n",
    "    for X, _ in test_loader:\n",
    "        X = X.to(device)\n",
    "        output = model(X)\n",
    "        # predicted_classes = output.argmax(dim=1)\n",
    "        # predictions.extend(predicted_classes.cpu().numpy())\n",
    "        predicted_zones = torch.round(torch.clamp(output, min=0, max=1))\n",
    "        predictions.extend(predicted_zones.cpu().numpy())\n",
    "\n",
    "# Convert predictions to a numpy array\n",
    "y_preds = np.array(predictions)\n",
    "print(y_preds)\n",
    "\n",
    "y_test = np.array([y for _, y in test_dataset])"
   ]
  },
  {
   "cell_type": "code",
   "execution_count": 136,
   "metadata": {},
   "outputs": [
    {
     "name": "stdout",
     "output_type": "stream",
     "text": [
      "[0 0 0 ... 2 0 2]\n"
     ]
    }
   ],
   "source": [
    "# FULL DATASET\n",
    "# Create a DataLoader for the entire dataset\n",
    "full_loader = DataLoader(dataset, batch_size=batch_size, shuffle=False)\n",
    "\n",
    "# Set the model to evaluation mode\n",
    "model.eval()\n",
    "\n",
    "# Initialize a list to store the predictions\n",
    "predictions = []\n",
    "\n",
    "# Disable gradient calculation\n",
    "with torch.no_grad():\n",
    "    for X, _ in full_loader:\n",
    "        X = X.to(device)\n",
    "        output = model(X)\n",
    "        predicted_classes = output.argmax(dim=1)\n",
    "        predictions.extend(predicted_classes.cpu().numpy())\n",
    "\n",
    "# Convert outputs to a numpy array\n",
    "y_preds = np.array(predictions)\n",
    "print(y_preds)\n",
    "\n",
    "y_test = np.array([y for _, y in dataset])"
   ]
  },
  {
   "cell_type": "code",
   "execution_count": 45,
   "metadata": {},
   "outputs": [
    {
     "data": {
      "image/png": "[encoded data removed]",
      "text/plain": [
       "<Figure size 800x600 with 2 Axes>"
      ]
     },
     "metadata": {},
     "output_type": "display_data"
    }
   ],
   "source": [
    "y_test = np.array([y[0] for _, y in test_dataset]).astype(int)\n",
    "y_preds = np.array([p[0] for p in predictions]).astype(int)\n",
    "conf_matrix = confusion_matrix(y_test, y_preds)\n",
    "conf_matrix_normalized = conf_matrix.astype('float') / conf_matrix.sum(axis=1)[:, np.newaxis]\n",
    "\n",
    "# Change figure size and increase dpi for better resolution\n",
    "plt.figure(figsize=(8,6), dpi=100)\n",
    "# Scale up the size of all text\n",
    " \n",
    "# Plot Confusion Matrix using Seaborn heatmap()\n",
    "# Parameters:\n",
    "# first param - confusion matrix in array format   \n",
    "# annot = True: show the numbers in each heatmap cell\n",
    "# fmt = 'd': show numbers as integers. \n",
    "ax = sns.heatmap(conf_matrix_normalized, annot=True, fmt='.2f', )\n",
    " \n",
    "# set x-axis label and ticks. \n",
    "ax.set_xlabel(\"Predicted\", fontsize=14, labelpad=20)\n",
    "# tick_labels = [0, 1, 2, 3, 4, 5, 6, 7, 8, 9, 11, 12, 13, 14, 15, 16, 17, 18, 19]\n",
    "# tick_labels = [0, 1, 2, 3, 4, 5, 6, 7, 8, 9]\n",
    "# tick_labels = [0, 1, 2, 3, 4, 5, 6]\n",
    "# tick_labels = [0, 1, 2]\n",
    "tick_labels = [0, 1]\n",
    "ax.xaxis.set_ticklabels(tick_labels)\n",
    " \n",
    "# set y-axis label and ticks\n",
    "ax.set_ylabel(\"Actual\", fontsize=14, labelpad=20)\n",
    "ax.yaxis.set_ticklabels(tick_labels)\n",
    " \n",
    "# set plot title\n",
    "ax.set_title(\"Confusion Matrix\", fontsize=14, pad=20)\n",
    " \n",
    "plt.show()"
   ]
  },
  {
   "cell_type": "code",
   "execution_count": 1158,
   "metadata": {},
   "outputs": [
    {
     "data": {
      "text/plain": [
       "array([0, 0, 0, 0, 1, 0, 1, 0, 0, 0, 0, 0, 0, 1, 0, 1, 0, 1, 0, 1, 0, 0,\n",
       "       0, 0, 0, 0, 0, 0, 0, 1, 0, 0, 0, 1, 1, 0, 0, 1, 0, 0, 0, 1, 1, 1,\n",
       "       0, 1, 0, 1, 1, 1, 0, 1, 1, 1, 1, 0, 0, 0, 1, 0, 1, 0, 1, 0, 1, 1,\n",
       "       0, 0, 1, 0, 1, 1, 0, 0, 1, 1, 0, 0, 1, 0, 0, 0, 1, 0, 0, 0, 0, 1,\n",
       "       0, 1, 1, 0, 1, 1, 1, 1, 0, 0, 1, 0, 0, 1, 1, 0, 1, 0, 1, 0, 1, 1,\n",
       "       1, 0, 0, 1, 0, 0, 0, 0, 0, 0, 0, 0, 0, 0, 0, 1, 0, 0, 1, 0, 0, 0,\n",
       "       0, 0, 0, 0, 1, 0, 1, 1, 1, 1, 1, 0, 1, 0, 1, 0, 1, 1, 1, 0, 0, 1,\n",
       "       0, 0, 1, 0, 0, 1, 1, 1, 1, 1, 0, 1, 0, 0, 1, 0, 1, 0, 0, 0, 1, 0,\n",
       "       1, 0, 0, 1, 0, 0, 0, 1, 0, 1, 1, 1, 0, 0, 1, 1, 0, 1, 0, 0, 0, 0,\n",
       "       0, 0, 0, 0, 1, 0, 1, 0, 0, 0, 1, 0, 1, 1, 0, 1, 0, 0, 1, 0, 0, 0,\n",
       "       0, 0, 0, 1, 0, 0, 0, 1, 0, 0, 0, 0, 0, 1, 1, 1, 1, 0, 0, 1, 0, 1,\n",
       "       0, 0, 1, 1, 0, 0, 0, 0, 0, 1, 0, 1, 0, 1, 0, 1, 0, 0, 0, 1, 1, 0,\n",
       "       1, 1, 0, 0, 1, 1, 1, 1, 0, 1, 1, 1, 0, 0, 1, 0, 1, 1, 1, 1, 0, 0,\n",
       "       0, 0, 0, 1, 0, 0, 1, 1, 1, 1, 0, 0, 0, 0, 1, 1, 1, 0, 0, 0, 1, 1,\n",
       "       0, 0, 0, 0, 0, 0, 0, 0, 1, 0, 0, 1, 0, 0, 1, 0, 0, 0, 0, 1, 1, 0,\n",
       "       1, 0, 0, 1, 0, 0, 1, 1, 1, 0, 0, 0, 1, 1, 0, 0, 1, 0, 0, 0, 0, 1,\n",
       "       1, 0, 0, 1, 0, 0, 0, 0, 0, 0, 0, 1, 0, 1, 1, 0, 0, 1, 0, 1, 0, 1,\n",
       "       1, 0, 1, 0, 0, 0, 0, 0, 0, 0, 1, 1, 1, 0, 0, 1, 1, 0, 1, 0, 1, 0,\n",
       "       1, 0, 0, 1, 0, 0, 1, 1, 1, 1, 0, 0, 0, 1, 0, 0, 0, 1, 1, 1, 1, 0,\n",
       "       0, 0, 1, 1, 1, 0, 0, 1, 0, 1, 0, 1, 0, 0, 0, 1, 0, 0, 0, 0, 1, 1,\n",
       "       0, 0, 1, 0, 0, 0, 1, 0, 0, 0, 0, 1, 1, 1, 0, 1, 1, 0, 1, 0, 1, 1,\n",
       "       0, 0, 0, 0, 0, 0, 0, 0, 0, 0, 1, 0, 0, 0, 1, 1, 1, 0, 1, 0, 1, 0,\n",
       "       0, 1, 0, 0, 1, 0, 0, 0, 1, 0, 0, 0, 1, 1, 0, 0, 1, 0, 1, 1, 0, 1,\n",
       "       1, 1, 0, 1, 1, 1, 1, 0, 0, 1, 0, 0, 0, 0, 0, 0, 0, 0, 0])"
      ]
     },
     "execution_count": 1158,
     "metadata": {},
     "output_type": "execute_result"
    }
   ],
   "source": [
    "y_test"
   ]
  },
  {
   "cell_type": "code",
   "execution_count": 117,
   "metadata": {},
   "outputs": [
    {
     "data": {
      "text/plain": [
       "array([[0, 0, 1],\n",
       "       [0, 0, 0],\n",
       "       [0, 0, 1],\n",
       "       ...,\n",
       "       [0, 0, 0],\n",
       "       [1, 0, 0],\n",
       "       [0, 1, 0]])"
      ]
     },
     "execution_count": 117,
     "metadata": {},
     "output_type": "execute_result"
    }
   ],
   "source": [
    "y_test"
   ]
  },
  {
   "cell_type": "code",
   "execution_count": 119,
   "metadata": {},
   "outputs": [
    {
     "data": {
      "text/plain": [
       "array([[0, 0, 1],\n",
       "       [0, 0, 0],\n",
       "       [0, 0, 1],\n",
       "       ...,\n",
       "       [0, 0, 0],\n",
       "       [1, 0, 0],\n",
       "       [0, 1, 0]])"
      ]
     },
     "execution_count": 119,
     "metadata": {},
     "output_type": "execute_result"
    }
   ],
   "source": [
    "y_preds"
   ]
  },
  {
   "cell_type": "code",
   "execution_count": 120,
   "metadata": {},
   "outputs": [
    {
     "data": {
      "text/plain": [
       "array([1, 0, 1, ..., 0, 4, 2])"
      ]
     },
     "execution_count": 120,
     "metadata": {},
     "output_type": "execute_result"
    }
   ],
   "source": [
    "category_y_preds"
   ]
  },
  {
   "cell_type": "code",
   "execution_count": 46,
   "metadata": {},
   "outputs": [
    {
     "name": "stdout",
     "output_type": "stream",
     "text": [
      "[0.85546711]\n"
     ]
    },
    {
     "ename": "ValueError",
     "evalue": "shapes (9548,1) and (3,) not aligned: 1 (dim 1) != 3 (dim 0)",
     "output_type": "error",
     "traceback": [
      "\u001b[0;31m---------------------------------------------------------------------------\u001b[0m",
      "\u001b[0;31mValueError\u001b[0m                                Traceback (most recent call last)",
      "Cell \u001b[0;32mIn[46], line 12\u001b[0m\n\u001b[1;32m      9\u001b[0m zone_accuracy \u001b[38;5;241m=\u001b[39m zone_correct \u001b[38;5;241m/\u001b[39m zone_total\n\u001b[1;32m     10\u001b[0m \u001b[38;5;28mprint\u001b[39m(zone_accuracy)\n\u001b[0;32m---> 12\u001b[0m category_y_test \u001b[38;5;241m=\u001b[39m \u001b[43my_test\u001b[49m\u001b[38;5;241;43m.\u001b[39;49m\u001b[43mdot\u001b[49m\u001b[43m(\u001b[49m\u001b[38;5;241;43m2\u001b[39;49m\u001b[38;5;241;43m*\u001b[39;49m\u001b[38;5;241;43m*\u001b[39;49m\u001b[43mnp\u001b[49m\u001b[38;5;241;43m.\u001b[39;49m\u001b[43marange\u001b[49m\u001b[43m(\u001b[49m\u001b[38;5;241;43m2\u001b[39;49m\u001b[43m,\u001b[49m\u001b[43m \u001b[49m\u001b[38;5;241;43m-\u001b[39;49m\u001b[38;5;241;43m1\u001b[39;49m\u001b[43m,\u001b[49m\u001b[43m \u001b[49m\u001b[38;5;241;43m-\u001b[39;49m\u001b[38;5;241;43m1\u001b[39;49m\u001b[43m)\u001b[49m\u001b[43m)\u001b[49m\n\u001b[1;32m     13\u001b[0m category_y_preds \u001b[38;5;241m=\u001b[39m y_preds\u001b[38;5;241m.\u001b[39mdot(\u001b[38;5;241m2\u001b[39m\u001b[38;5;241m*\u001b[39m\u001b[38;5;241m*\u001b[39mnp\u001b[38;5;241m.\u001b[39marange(\u001b[38;5;241m2\u001b[39m, \u001b[38;5;241m-\u001b[39m\u001b[38;5;241m1\u001b[39m, \u001b[38;5;241m-\u001b[39m\u001b[38;5;241m1\u001b[39m))\n\u001b[1;32m     15\u001b[0m conf_matrix \u001b[38;5;241m=\u001b[39m confusion_matrix(category_y_test, category_y_preds)\n",
      "\u001b[0;31mValueError\u001b[0m: shapes (9548,1) and (3,) not aligned: 1 (dim 1) != 3 (dim 0)"
     ]
    }
   ],
   "source": [
    "y_test = np.array([y for _, y in test_dataset]).astype(int)\n",
    "y_preds = np.array([p for p in predictions]).astype(int)\n",
    "\n",
    "# plot accuracy of each zone\n",
    "correct = (y_test == y_preds)\n",
    "zone_correct = np.sum(correct, axis=0)\n",
    "zone_total = np.sum(y_test == y_test, axis=0)\n",
    "\n",
    "zone_accuracy = zone_correct / zone_total\n",
    "print(zone_accuracy)\n",
    "\n",
    "category_y_test = y_test.dot(2**np.arange(2, -1, -1))\n",
    "category_y_preds = y_preds.dot(2**np.arange(2, -1, -1))\n",
    "\n",
    "conf_matrix = confusion_matrix(category_y_test, category_y_preds)\n",
    "conf_matrix_normalized = conf_matrix.astype('float') / conf_matrix.sum(axis=1)[:, np.newaxis]\n",
    "\n",
    "# Change figure size and increase dpi for better resolution\n",
    "plt.figure(figsize=(8,6), dpi=100)\n",
    "# Scale up the size of all text\n",
    " \n",
    "# Plot Confusion Matrix using Seaborn heatmap()\n",
    "# Parameters:\n",
    "# first param - confusion matrix in array format   \n",
    "# annot = True: show the numbers in each heatmap cell\n",
    "# fmt = 'd': show numbers as integers. \n",
    "ax = sns.heatmap(conf_matrix_normalized, annot=True, fmt='.2f', )\n",
    " \n",
    "# set x-axis label and ticks. \n",
    "ax.set_xlabel(\"Predicted\", fontsize=14, labelpad=20)\n",
    "# tick_labels = [\"000\", \"001\", \"010\", \"011\", \"100\", \"101\", \"110\"]\n",
    "tick_labels = [\"000\", \"001\", \"010\", \"011\", \"100\", \"101\", \"110\", \"111\"]\n",
    "# tick_labels = [\"000\", \"001\", \"010\", \"100\"]\n",
    "ax.xaxis.set_ticklabels(tick_labels)\n",
    " \n",
    "# set y-axis label and ticks\n",
    "ax.set_ylabel(\"Actual\", fontsize=14, labelpad=20)\n",
    "ax.yaxis.set_ticklabels(tick_labels)\n",
    " \n",
    "# set plot title\n",
    "ax.set_title(\"Confusion Matrix\", fontsize=14, pad=20)\n",
    " \n",
    "plt.show()"
   ]
  },
  {
   "cell_type": "code",
   "execution_count": null,
   "metadata": {},
   "outputs": [],
   "source": []
  },
  {
   "cell_type": "code",
   "execution_count": null,
   "metadata": {},
   "outputs": [],
   "source": []
  }
 ],
 "metadata": {
  "kernelspec": {
   "display_name": "venv",
   "language": "python",
   "name": "python3"
  },
  "language_info": {
   "codemirror_mode": {
    "name": "ipython",
    "version": 3
   },
   "file_extension": ".py",
   "mimetype": "text/x-python",
   "name": "python",
   "nbconvert_exporter": "python",
   "pygments_lexer": "ipython3",
   "version": "3.12.2"
  }
 },
 "nbformat": 4,
 "nbformat_minor": 2
}
